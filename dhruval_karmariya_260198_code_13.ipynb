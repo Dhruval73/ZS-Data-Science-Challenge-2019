{
 "cells": [
  {
   "cell_type": "code",
   "execution_count": 47,
   "metadata": {},
   "outputs": [],
   "source": [
    "import numpy as np\n",
    "import pandas as pd\n",
    "\n",
    "import matplotlib.pyplot as plt\n",
    "import seaborn as sns\n",
    "\n",
    "from collections import Counter\n",
    "import math\n",
    "\n",
    "from sklearn import preprocessing\n",
    "from sklearn.model_selection import train_test_split\n",
    "from sklearn.metrics import mean_squared_error as mse\n",
    "\n",
    "import warnings\n",
    "warnings.filterwarnings('ignore')\n",
    "\n",
    "import xgboost as xgb\n",
    "import lightgbm as lgb\n",
    "from sklearn.linear_model import LogisticRegression\n",
    "from sklearn.ensemble import RandomForestClassifier\n",
    "from sklearn.ensemble import ExtraTreesClassifier\n",
    "from sklearn.ensemble import GradientBoostingClassifier"
   ]
  },
  {
   "cell_type": "code",
   "execution_count": 2,
   "metadata": {},
   "outputs": [],
   "source": [
    "data_df = pd.read_csv('data.csv')\n",
    "sample_submission = pd.read_csv('sample_submission.csv')"
   ]
  },
  {
   "cell_type": "code",
   "execution_count": 3,
   "metadata": {},
   "outputs": [],
   "source": [
    "#filling the missing values in data for shot_id_number\n",
    "for i,e in enumerate(data_df['shot_id_number']):\n",
    "    if math.isnan(e):\n",
    "        data_df['shot_id_number'].loc[i] = data_df['shot_id_number'].loc[i-1] + 1.0"
   ]
  },
  {
   "cell_type": "code",
   "execution_count": 4,
   "metadata": {},
   "outputs": [],
   "source": [
    "sample_column = sample_submission['shot_id_number'] - 1\n",
    "X_test = data_df.iloc[sample_column]"
   ]
  },
  {
   "cell_type": "code",
   "execution_count": 5,
   "metadata": {},
   "outputs": [],
   "source": [
    "data_df['Target_given'] = data_df['is_goal'].isnull()\n",
    "train_test_group = data_df.groupby('Target_given', as_index = False)\n",
    "test_df = train_test_group.get_group(True)\n",
    "train_df = train_test_group.get_group(False)\n",
    "del train_df['Target_given'], test_df['Target_given']"
   ]
  },
  {
   "cell_type": "code",
   "execution_count": 6,
   "metadata": {},
   "outputs": [],
   "source": [
    "train_df = train_df.reset_index(drop = True)"
   ]
  },
  {
   "cell_type": "code",
   "execution_count": 8,
   "metadata": {},
   "outputs": [],
   "source": [
    "X_train = train_df\n",
    "y_train = X_train['is_goal']\n",
    "del X_train['is_goal']\n",
    "del X_train['Unnamed: 0'],  X_test['Unnamed: 0']"
   ]
  },
  {
   "cell_type": "code",
   "execution_count": 9,
   "metadata": {},
   "outputs": [
    {
     "data": {
      "text/html": [
       "<div>\n",
       "<style scoped>\n",
       "    .dataframe tbody tr th:only-of-type {\n",
       "        vertical-align: middle;\n",
       "    }\n",
       "\n",
       "    .dataframe tbody tr th {\n",
       "        vertical-align: top;\n",
       "    }\n",
       "\n",
       "    .dataframe thead th {\n",
       "        text-align: right;\n",
       "    }\n",
       "</style>\n",
       "<table border=\"1\" class=\"dataframe\">\n",
       "  <thead>\n",
       "    <tr style=\"text-align: right;\">\n",
       "      <th></th>\n",
       "      <th>match_event_id</th>\n",
       "      <th>location_x</th>\n",
       "      <th>location_y</th>\n",
       "      <th>remaining_min</th>\n",
       "      <th>power_of_shot</th>\n",
       "      <th>knockout_match</th>\n",
       "      <th>game_season</th>\n",
       "      <th>remaining_sec</th>\n",
       "      <th>distance_of_shot</th>\n",
       "      <th>area_of_shot</th>\n",
       "      <th>...</th>\n",
       "      <th>lat/lng</th>\n",
       "      <th>type_of_shot</th>\n",
       "      <th>type_of_combined_shot</th>\n",
       "      <th>match_id</th>\n",
       "      <th>team_id</th>\n",
       "      <th>remaining_min.1</th>\n",
       "      <th>power_of_shot.1</th>\n",
       "      <th>knockout_match.1</th>\n",
       "      <th>remaining_sec.1</th>\n",
       "      <th>distance_of_shot.1</th>\n",
       "    </tr>\n",
       "  </thead>\n",
       "  <tbody>\n",
       "    <tr>\n",
       "      <th>0</th>\n",
       "      <td>12.0</td>\n",
       "      <td>-157.0</td>\n",
       "      <td>0.0</td>\n",
       "      <td>10.0</td>\n",
       "      <td>1.0</td>\n",
       "      <td>0.0</td>\n",
       "      <td>2000-01</td>\n",
       "      <td>22.0</td>\n",
       "      <td>35.0</td>\n",
       "      <td>Left Side(L)</td>\n",
       "      <td>...</td>\n",
       "      <td>45.539131, -122.651648</td>\n",
       "      <td>shot - 45</td>\n",
       "      <td>NaN</td>\n",
       "      <td>20000012</td>\n",
       "      <td>1610612747</td>\n",
       "      <td>10.00</td>\n",
       "      <td>1.0</td>\n",
       "      <td>28.800</td>\n",
       "      <td>22.0000</td>\n",
       "      <td>35.0</td>\n",
       "    </tr>\n",
       "    <tr>\n",
       "      <th>1</th>\n",
       "      <td>35.0</td>\n",
       "      <td>-101.0</td>\n",
       "      <td>135.0</td>\n",
       "      <td>7.0</td>\n",
       "      <td>1.0</td>\n",
       "      <td>0.0</td>\n",
       "      <td>2000-01</td>\n",
       "      <td>45.0</td>\n",
       "      <td>36.0</td>\n",
       "      <td>Left Side Center(LC)</td>\n",
       "      <td>...</td>\n",
       "      <td>45.539131, -122.651648</td>\n",
       "      <td>shot - 25</td>\n",
       "      <td>NaN</td>\n",
       "      <td>20000012</td>\n",
       "      <td>1610612747</td>\n",
       "      <td>92.64</td>\n",
       "      <td>1.0</td>\n",
       "      <td>0.000</td>\n",
       "      <td>63.7216</td>\n",
       "      <td>54.4</td>\n",
       "    </tr>\n",
       "    <tr>\n",
       "      <th>2</th>\n",
       "      <td>43.0</td>\n",
       "      <td>138.0</td>\n",
       "      <td>175.0</td>\n",
       "      <td>6.0</td>\n",
       "      <td>1.0</td>\n",
       "      <td>0.0</td>\n",
       "      <td>2000-01</td>\n",
       "      <td>52.0</td>\n",
       "      <td>42.0</td>\n",
       "      <td>Right Side Center(RC)</td>\n",
       "      <td>...</td>\n",
       "      <td>45.539131, -122.651648</td>\n",
       "      <td>NaN</td>\n",
       "      <td>shot - 3</td>\n",
       "      <td>20000012</td>\n",
       "      <td>1610612747</td>\n",
       "      <td>NaN</td>\n",
       "      <td>1.0</td>\n",
       "      <td>122.608</td>\n",
       "      <td>52.0000</td>\n",
       "      <td>42.0</td>\n",
       "    </tr>\n",
       "    <tr>\n",
       "      <th>3</th>\n",
       "      <td>155.0</td>\n",
       "      <td>0.0</td>\n",
       "      <td>0.0</td>\n",
       "      <td>NaN</td>\n",
       "      <td>2.0</td>\n",
       "      <td>0.0</td>\n",
       "      <td>2000-01</td>\n",
       "      <td>19.0</td>\n",
       "      <td>20.0</td>\n",
       "      <td>Center(C)</td>\n",
       "      <td>...</td>\n",
       "      <td>45.539131, -122.651648</td>\n",
       "      <td>NaN</td>\n",
       "      <td>shot - 1</td>\n",
       "      <td>20000012</td>\n",
       "      <td>1610612747</td>\n",
       "      <td>42.64</td>\n",
       "      <td>2.0</td>\n",
       "      <td>0.000</td>\n",
       "      <td>19.0000</td>\n",
       "      <td>20.0</td>\n",
       "    </tr>\n",
       "    <tr>\n",
       "      <th>4</th>\n",
       "      <td>244.0</td>\n",
       "      <td>-145.0</td>\n",
       "      <td>-11.0</td>\n",
       "      <td>9.0</td>\n",
       "      <td>3.0</td>\n",
       "      <td>0.0</td>\n",
       "      <td>NaN</td>\n",
       "      <td>32.0</td>\n",
       "      <td>34.0</td>\n",
       "      <td>Left Side(L)</td>\n",
       "      <td>...</td>\n",
       "      <td>45.539131, -122.651648</td>\n",
       "      <td>shot - 17</td>\n",
       "      <td>NaN</td>\n",
       "      <td>20000012</td>\n",
       "      <td>1610612747</td>\n",
       "      <td>9.00</td>\n",
       "      <td>3.0</td>\n",
       "      <td>0.000</td>\n",
       "      <td>NaN</td>\n",
       "      <td>34.0</td>\n",
       "    </tr>\n",
       "  </tbody>\n",
       "</table>\n",
       "<p>5 rows × 26 columns</p>\n",
       "</div>"
      ],
      "text/plain": [
       "   match_event_id  location_x  location_y  remaining_min  power_of_shot  \\\n",
       "0            12.0      -157.0         0.0           10.0            1.0   \n",
       "1            35.0      -101.0       135.0            7.0            1.0   \n",
       "2            43.0       138.0       175.0            6.0            1.0   \n",
       "3           155.0         0.0         0.0            NaN            2.0   \n",
       "4           244.0      -145.0       -11.0            9.0            3.0   \n",
       "\n",
       "   knockout_match game_season  remaining_sec  distance_of_shot  \\\n",
       "0             0.0     2000-01           22.0              35.0   \n",
       "1             0.0     2000-01           45.0              36.0   \n",
       "2             0.0     2000-01           52.0              42.0   \n",
       "3             0.0     2000-01           19.0              20.0   \n",
       "4             0.0         NaN           32.0              34.0   \n",
       "\n",
       "            area_of_shot         ...                         lat/lng  \\\n",
       "0           Left Side(L)         ...          45.539131, -122.651648   \n",
       "1   Left Side Center(LC)         ...          45.539131, -122.651648   \n",
       "2  Right Side Center(RC)         ...          45.539131, -122.651648   \n",
       "3              Center(C)         ...          45.539131, -122.651648   \n",
       "4           Left Side(L)         ...          45.539131, -122.651648   \n",
       "\n",
       "  type_of_shot type_of_combined_shot  match_id     team_id  remaining_min.1  \\\n",
       "0    shot - 45                   NaN  20000012  1610612747            10.00   \n",
       "1    shot - 25                   NaN  20000012  1610612747            92.64   \n",
       "2          NaN              shot - 3  20000012  1610612747              NaN   \n",
       "3          NaN              shot - 1  20000012  1610612747            42.64   \n",
       "4    shot - 17                   NaN  20000012  1610612747             9.00   \n",
       "\n",
       "  power_of_shot.1 knockout_match.1 remaining_sec.1  distance_of_shot.1  \n",
       "0             1.0           28.800         22.0000                35.0  \n",
       "1             1.0            0.000         63.7216                54.4  \n",
       "2             1.0          122.608         52.0000                42.0  \n",
       "3             2.0            0.000         19.0000                20.0  \n",
       "4             3.0            0.000             NaN                34.0  \n",
       "\n",
       "[5 rows x 26 columns]"
      ]
     },
     "execution_count": 9,
     "metadata": {},
     "output_type": "execute_result"
    }
   ],
   "source": [
    "X_train = X_train.reset_index(drop = True)\n",
    "X_test = X_test.reset_index(drop = True)\n",
    "X_train.head()"
   ]
  },
  {
   "cell_type": "markdown",
   "metadata": {},
   "source": [
    "# Data Prep"
   ]
  },
  {
   "cell_type": "code",
   "execution_count": 10,
   "metadata": {},
   "outputs": [
    {
     "data": {
      "text/plain": [
       "match_event_id            1240\n",
       "location_x                1156\n",
       "location_y                1245\n",
       "remaining_min             1244\n",
       "power_of_shot             1200\n",
       "knockout_match            1212\n",
       "game_season               4632\n",
       "remaining_sec             1250\n",
       "distance_of_shot          1257\n",
       "area_of_shot              1182\n",
       "shot_basics               1283\n",
       "range_of_shot             1248\n",
       "team_name                 1212\n",
       "date_of_game              1237\n",
       "home/away                 1214\n",
       "shot_id_number               0\n",
       "lat/lng                   1247\n",
       "type_of_shot             12136\n",
       "type_of_combined_shot    12293\n",
       "match_id                     0\n",
       "team_id                      0\n",
       "remaining_min.1           1209\n",
       "power_of_shot.1           1208\n",
       "knockout_match.1          1214\n",
       "remaining_sec.1           1200\n",
       "distance_of_shot.1        1244\n",
       "dtype: int64"
      ]
     },
     "execution_count": 10,
     "metadata": {},
     "output_type": "execute_result"
    }
   ],
   "source": [
    "X_train.isnull().sum()"
   ]
  },
  {
   "cell_type": "code",
   "execution_count": 11,
   "metadata": {},
   "outputs": [
    {
     "data": {
      "text/plain": [
       "array([1610612747], dtype=int64)"
      ]
     },
     "execution_count": 11,
     "metadata": {},
     "output_type": "execute_result"
    }
   ],
   "source": [
    "np.unique(data_df['team_id'])"
   ]
  },
  {
   "cell_type": "code",
   "execution_count": 12,
   "metadata": {},
   "outputs": [],
   "source": [
    "#As there is only one team for the whole data we can drop features: team_id and team_name\n",
    "del X_train['team_id'] ,X_train['team_name'] ,X_test['team_id'] ,X_test['team_name'] "
   ]
  },
  {
   "cell_type": "markdown",
   "metadata": {},
   "source": [
    "Let's first check the quality of some features.\n",
    "#### 1. Remaining min and Remaining sec"
   ]
  },
  {
   "cell_type": "code",
   "execution_count": 13,
   "metadata": {},
   "outputs": [
    {
     "data": {
      "text/html": [
       "<div>\n",
       "<style scoped>\n",
       "    .dataframe tbody tr th:only-of-type {\n",
       "        vertical-align: middle;\n",
       "    }\n",
       "\n",
       "    .dataframe tbody tr th {\n",
       "        vertical-align: top;\n",
       "    }\n",
       "\n",
       "    .dataframe thead th {\n",
       "        text-align: right;\n",
       "    }\n",
       "</style>\n",
       "<table border=\"1\" class=\"dataframe\">\n",
       "  <thead>\n",
       "    <tr style=\"text-align: right;\">\n",
       "      <th></th>\n",
       "      <th>remaining_min</th>\n",
       "      <th>remaining_min.1</th>\n",
       "      <th>remaining_sec</th>\n",
       "      <th>remaining_sec.1</th>\n",
       "    </tr>\n",
       "  </thead>\n",
       "  <tbody>\n",
       "    <tr>\n",
       "      <th>count</th>\n",
       "      <td>29135.000000</td>\n",
       "      <td>29162.000000</td>\n",
       "      <td>29103.000000</td>\n",
       "      <td>29158.000000</td>\n",
       "    </tr>\n",
       "    <tr>\n",
       "      <th>mean</th>\n",
       "      <td>4.883233</td>\n",
       "      <td>18.204615</td>\n",
       "      <td>28.329382</td>\n",
       "      <td>39.027303</td>\n",
       "    </tr>\n",
       "    <tr>\n",
       "      <th>std</th>\n",
       "      <td>3.452533</td>\n",
       "      <td>29.416973</td>\n",
       "      <td>17.470663</td>\n",
       "      <td>29.835284</td>\n",
       "    </tr>\n",
       "    <tr>\n",
       "      <th>min</th>\n",
       "      <td>0.000000</td>\n",
       "      <td>0.000000</td>\n",
       "      <td>0.000000</td>\n",
       "      <td>0.000000</td>\n",
       "    </tr>\n",
       "    <tr>\n",
       "      <th>25%</th>\n",
       "      <td>2.000000</td>\n",
       "      <td>3.000000</td>\n",
       "      <td>13.000000</td>\n",
       "      <td>17.000000</td>\n",
       "    </tr>\n",
       "    <tr>\n",
       "      <th>50%</th>\n",
       "      <td>5.000000</td>\n",
       "      <td>6.000000</td>\n",
       "      <td>28.000000</td>\n",
       "      <td>35.000000</td>\n",
       "    </tr>\n",
       "    <tr>\n",
       "      <th>75%</th>\n",
       "      <td>8.000000</td>\n",
       "      <td>11.000000</td>\n",
       "      <td>43.000000</td>\n",
       "      <td>52.000000</td>\n",
       "    </tr>\n",
       "    <tr>\n",
       "      <th>max</th>\n",
       "      <td>11.000000</td>\n",
       "      <td>128.761600</td>\n",
       "      <td>59.000000</td>\n",
       "      <td>144.785600</td>\n",
       "    </tr>\n",
       "  </tbody>\n",
       "</table>\n",
       "</div>"
      ],
      "text/plain": [
       "       remaining_min  remaining_min.1  remaining_sec  remaining_sec.1\n",
       "count   29135.000000     29162.000000   29103.000000     29158.000000\n",
       "mean        4.883233        18.204615      28.329382        39.027303\n",
       "std         3.452533        29.416973      17.470663        29.835284\n",
       "min         0.000000         0.000000       0.000000         0.000000\n",
       "25%         2.000000         3.000000      13.000000        17.000000\n",
       "50%         5.000000         6.000000      28.000000        35.000000\n",
       "75%         8.000000        11.000000      43.000000        52.000000\n",
       "max        11.000000       128.761600      59.000000       144.785600"
      ]
     },
     "execution_count": 13,
     "metadata": {},
     "output_type": "execute_result"
    }
   ],
   "source": [
    "data_df[['remaining_min','remaining_min.1','remaining_sec','remaining_sec.1']].describe()"
   ]
  },
  {
   "cell_type": "code",
   "execution_count": 14,
   "metadata": {},
   "outputs": [
    {
     "data": {
      "image/png": "[encoded data removed]",
      "text/plain": [
       "<Figure size 864x576 with 2 Axes>"
      ]
     },
     "metadata": {
      "needs_background": "light"
     },
     "output_type": "display_data"
    }
   ],
   "source": [
    "plt.figure(figsize = (12,8))\n",
    "plt.subplot(2,1,1)\n",
    "sns.boxplot(x = data_df['remaining_min'])\n",
    "\n",
    "plt.subplot(2,1,2)\n",
    "sns.boxplot(x = data_df['remaining_min.1'])\n",
    "\n",
    "plt.show()"
   ]
  },
  {
   "cell_type": "code",
   "execution_count": 15,
   "metadata": {},
   "outputs": [
    {
     "data": {
      "image/png": "[encoded data removed]",
      "text/plain": [
       "<Figure size 864x576 with 2 Axes>"
      ]
     },
     "metadata": {
      "needs_background": "light"
     },
     "output_type": "display_data"
    }
   ],
   "source": [
    "plt.figure(figsize = (12,8))\n",
    "plt.subplot(2,1,1)\n",
    "sns.boxplot(x = data_df['remaining_sec'])\n",
    "\n",
    "plt.subplot(2,1,2)\n",
    "sns.boxplot(x = data_df['remaining_sec.1'])\n",
    "\n",
    "plt.show()"
   ]
  },
  {
   "cell_type": "markdown",
   "metadata": {},
   "source": [
    "As we can see the second column of min and sec, i.e. remaining_min.1 and remaining_min.2, has many outliers and the quality of that column is not good because:\n",
    "        <ul>\n",
    "            <li> Football is a 90min game, including extra time also remaining min won't reach 140mins. There may be some exceptions but not this many.</li>\n",
    "             <li> As remaining_min column is given atmost 59 sec must be remaining, so that column also has many outliers\n",
    "        </ul>\n",
    "They are not totally useless. They can be used to fill some null values after we clean them.\n",
    "\n",
    "#### so I am cleaning the remaining_min.1 and remaining_sec.1 column, remaining_min and remaining_sec do not need any cleaning. Then I will try to fill the null values in remaining_min and remaining_sec from the other two columns\n",
    "\n",
    "#### Filling NULL values\n",
    "\n",
    "For cleaning i will consider the remaining_min and remaining_sec as reference and clean, i.e.:\n",
    "<ul>\n",
    "    <li> I am taking the max(remaining_min) to be 11min and max(remaining_sec) as 59sec, all others lying outside this bound, I will consider them outliers. There is no problem in lower bound.\n",
    "</ul>"
   ]
  },
  {
   "cell_type": "code",
   "execution_count": 16,
   "metadata": {},
   "outputs": [],
   "source": [
    "for i, e in enumerate(X_train['remaining_min']):\n",
    "    if math.isnan(e):\n",
    "        if X_train['remaining_min.1'].iloc[i] <= 11:\n",
    "            X_train['remaining_min'].iloc[i] = X_train['remaining_min.1'].iloc[i]\n",
    "for i, e in enumerate(X_train['remaining_sec']):\n",
    "    if math.isnan(e):\n",
    "        if X_train['remaining_sec.1'].iloc[i] <= 59:\n",
    "            X_train['remaining_sec'].iloc[i] = X_train['remaining_sec.1'].iloc[i]"
   ]
  },
  {
   "cell_type": "code",
   "execution_count": 17,
   "metadata": {},
   "outputs": [],
   "source": [
    "for i, e in enumerate(X_test['remaining_min']):\n",
    "    if math.isnan(e):\n",
    "        if X_test['remaining_min.1'].iloc[i] <= 11:\n",
    "            X_test['remaining_min'].iloc[i] = X_test['remaining_min.1'].iloc[i]\n",
    "for i, e in enumerate(X_test['remaining_sec']):\n",
    "    if math.isnan(e):\n",
    "        if X_test['remaining_sec.1'].iloc[i] <= 59:\n",
    "            X_test['remaining_sec'].iloc[i] = X_test['remaining_sec.1'].iloc[i]"
   ]
  },
  {
   "cell_type": "code",
   "execution_count": 18,
   "metadata": {},
   "outputs": [
    {
     "data": {
      "text/plain": [
       "62"
      ]
     },
     "metadata": {},
     "output_type": "display_data"
    },
    {
     "data": {
      "text/plain": [
       "65"
      ]
     },
     "metadata": {},
     "output_type": "display_data"
    }
   ],
   "source": [
    "display(X_test['remaining_min'].isnull().sum())\n",
    "display(X_test['remaining_sec'].isnull().sum())"
   ]
  },
  {
   "cell_type": "markdown",
   "metadata": {},
   "source": [
    "We were able to significantly reduce the number of null values. For now I keeping them as it is.\n",
    "#### 2. Power of shot and distance of shot"
   ]
  },
  {
   "cell_type": "code",
   "execution_count": 19,
   "metadata": {},
   "outputs": [
    {
     "data": {
      "text/html": [
       "<div>\n",
       "<style scoped>\n",
       "    .dataframe tbody tr th:only-of-type {\n",
       "        vertical-align: middle;\n",
       "    }\n",
       "\n",
       "    .dataframe tbody tr th {\n",
       "        vertical-align: top;\n",
       "    }\n",
       "\n",
       "    .dataframe thead th {\n",
       "        text-align: right;\n",
       "    }\n",
       "</style>\n",
       "<table border=\"1\" class=\"dataframe\">\n",
       "  <thead>\n",
       "    <tr style=\"text-align: right;\">\n",
       "      <th></th>\n",
       "      <th>power_of_shot</th>\n",
       "      <th>power_of_shot.1</th>\n",
       "      <th>distance_of_shot</th>\n",
       "      <th>distance_of_shot.1</th>\n",
       "    </tr>\n",
       "  </thead>\n",
       "  <tbody>\n",
       "    <tr>\n",
       "      <th>count</th>\n",
       "      <td>29211.000000</td>\n",
       "      <td>29158.000000</td>\n",
       "      <td>29130.000000</td>\n",
       "      <td>29129.000000</td>\n",
       "    </tr>\n",
       "    <tr>\n",
       "      <th>mean</th>\n",
       "      <td>2.519359</td>\n",
       "      <td>15.994109</td>\n",
       "      <td>33.448884</td>\n",
       "      <td>38.801852</td>\n",
       "    </tr>\n",
       "    <tr>\n",
       "      <th>std</th>\n",
       "      <td>1.153976</td>\n",
       "      <td>29.676815</td>\n",
       "      <td>9.369656</td>\n",
       "      <td>18.787711</td>\n",
       "    </tr>\n",
       "    <tr>\n",
       "      <th>min</th>\n",
       "      <td>1.000000</td>\n",
       "      <td>1.000000</td>\n",
       "      <td>20.000000</td>\n",
       "      <td>9.400000</td>\n",
       "    </tr>\n",
       "    <tr>\n",
       "      <th>25%</th>\n",
       "      <td>1.000000</td>\n",
       "      <td>2.000000</td>\n",
       "      <td>25.000000</td>\n",
       "      <td>26.000000</td>\n",
       "    </tr>\n",
       "    <tr>\n",
       "      <th>50%</th>\n",
       "      <td>3.000000</td>\n",
       "      <td>3.000000</td>\n",
       "      <td>35.000000</td>\n",
       "      <td>36.000000</td>\n",
       "    </tr>\n",
       "    <tr>\n",
       "      <th>75%</th>\n",
       "      <td>3.000000</td>\n",
       "      <td>4.000000</td>\n",
       "      <td>41.000000</td>\n",
       "      <td>44.000000</td>\n",
       "    </tr>\n",
       "    <tr>\n",
       "      <th>max</th>\n",
       "      <td>7.000000</td>\n",
       "      <td>118.360000</td>\n",
       "      <td>99.000000</td>\n",
       "      <td>115.728000</td>\n",
       "    </tr>\n",
       "  </tbody>\n",
       "</table>\n",
       "</div>"
      ],
      "text/plain": [
       "       power_of_shot  power_of_shot.1  distance_of_shot  distance_of_shot.1\n",
       "count   29211.000000     29158.000000      29130.000000        29129.000000\n",
       "mean        2.519359        15.994109         33.448884           38.801852\n",
       "std         1.153976        29.676815          9.369656           18.787711\n",
       "min         1.000000         1.000000         20.000000            9.400000\n",
       "25%         1.000000         2.000000         25.000000           26.000000\n",
       "50%         3.000000         3.000000         35.000000           36.000000\n",
       "75%         3.000000         4.000000         41.000000           44.000000\n",
       "max         7.000000       118.360000         99.000000          115.728000"
      ]
     },
     "execution_count": 19,
     "metadata": {},
     "output_type": "execute_result"
    }
   ],
   "source": [
    "data_df[['power_of_shot','power_of_shot.1','distance_of_shot','distance_of_shot.1']].describe()"
   ]
  },
  {
   "cell_type": "code",
   "execution_count": 20,
   "metadata": {},
   "outputs": [
    {
     "data": {
      "image/png": "[encoded data removed]",
      "text/plain": [
       "<Figure size 864x576 with 2 Axes>"
      ]
     },
     "metadata": {
      "needs_background": "light"
     },
     "output_type": "display_data"
    }
   ],
   "source": [
    "plt.figure(figsize = (12,8))\n",
    "plt.subplot(2,1,1)\n",
    "sns.boxplot(x = data_df['power_of_shot'])\n",
    "\n",
    "plt.subplot(2,1,2)\n",
    "sns.boxplot(x = data_df['power_of_shot.1'])\n",
    "\n",
    "plt.show()"
   ]
  },
  {
   "cell_type": "code",
   "execution_count": 21,
   "metadata": {},
   "outputs": [
    {
     "data": {
      "image/png": "[encoded data removed]",
      "text/plain": [
       "<Figure size 864x576 with 2 Axes>"
      ]
     },
     "metadata": {
      "needs_background": "light"
     },
     "output_type": "display_data"
    }
   ],
   "source": [
    "plt.figure(figsize = (12,8))\n",
    "plt.subplot(2,1,1)\n",
    "sns.boxplot(x = data_df['distance_of_shot'])\n",
    "\n",
    "plt.subplot(2,1,2)\n",
    "sns.boxplot(x = data_df['distance_of_shot.1'])\n",
    "\n",
    "plt.show()"
   ]
  },
  {
   "cell_type": "code",
   "execution_count": 22,
   "metadata": {},
   "outputs": [],
   "source": [
    "for i, e in enumerate(X_train['power_of_shot']):\n",
    "    if math.isnan(e):\n",
    "        if X_train['power_of_shot.1'].iloc[i] <= 7 :\n",
    "            X_train['power_of_shot'].iloc[i] = X_train['power_of_shot.1'].iloc[i]\n",
    "for i, e in enumerate(X_train['distance_of_shot']):\n",
    "    if math.isnan(e):\n",
    "        if X_train['distance_of_shot.1'].iloc[i] <= 99 :\n",
    "            X_train['distance_of_shot'].iloc[i] = X_train['distance_of_shot.1'].iloc[i]\n",
    "for i, e in enumerate(X_test['power_of_shot']):\n",
    "    if math.isnan(e):\n",
    "        if X_test['power_of_shot.1'].iloc[i] <= 7 :\n",
    "            X_test['power_of_shot'].iloc[i] = X_test['power_of_shot.1'].iloc[i]\n",
    "for i, e in enumerate(X_test['distance_of_shot']):\n",
    "    if math.isnan(e):\n",
    "        if X_test['distance_of_shot.1'].iloc[i] <= 99 :\n",
    "            X_test['distance_of_shot'].iloc[i] = X_test['distance_of_shot.1'].iloc[i]"
   ]
  },
  {
   "cell_type": "markdown",
   "metadata": {},
   "source": [
    "#### 3. Knockout match\n",
    "As we can see clearly Knockout match is a categorical variable. The value of this variable for the same match will be same. Therefore first we will use that information and then use knockout_match.1 variable"
   ]
  },
  {
   "cell_type": "code",
   "execution_count": 23,
   "metadata": {},
   "outputs": [],
   "source": [
    "for i, e in enumerate(X_train['knockout_match']):\n",
    "    if math.isnan(e):\n",
    "        if X_train['match_id'].iloc[i] == X_train['match_id'].iloc[i-1]:\n",
    "            X_train['knockout_match'].iloc[i] = X_train['knockout_match'].iloc[i-1]\n",
    "        elif X_train['match_id'].iloc[i] == X_train['match_id'].iloc[i+1]:\n",
    "            X_train['knockout_match'].iloc[i] = X_train['knockout_match'].iloc[i+1]\n",
    "for i, e in enumerate(X_test['knockout_match']):\n",
    "    if math.isnan(e):\n",
    "        if X_test['match_id'].iloc[i] == X_test['match_id'].iloc[i-1]:\n",
    "            X_test['knockout_match'].iloc[i] = X_test['knockout_match'].iloc[i-1]\n",
    "        elif X_test['match_id'].iloc[i] == X_test['match_id'].iloc[i+1]:\n",
    "            X_test['knockout_match'].iloc[i] = X_test['knockout_match'].iloc[i+1]\n",
    "for i, e in enumerate(X_train['knockout_match']):\n",
    "    if math.isnan(e):\n",
    "        if X_train['knockout_match.1'].iloc[i] == 0:\n",
    "            X_train['knockout_match'].iloc[i] = X_train['knockout_match.1'].iloc[i]\n",
    "        if X_train['knockout_match.1'].iloc[i] == 1:\n",
    "            X_train['knockout_match'].iloc[i] = X_train['knockout_match.1'].iloc[i]\n",
    "for i, e in enumerate(X_test['knockout_match']):\n",
    "    if math.isnan(e):\n",
    "        if X_test['knockout_match.1'].iloc[i] == 0:\n",
    "            X_test['knockout_match'].iloc[i] = X_test['knockout_match.1'].iloc[i]\n",
    "        if X_test['knockout_match.1'].iloc[i] == 1:\n",
    "            X_test['knockout_match'].iloc[i] = X_test['knockout_match.1'].iloc[i]"
   ]
  },
  {
   "cell_type": "code",
   "execution_count": 24,
   "metadata": {},
   "outputs": [],
   "source": [
    "X_test.drop(['is_goal'], axis = 1, inplace = True)\n",
    "X_train.drop(['knockout_match.1','power_of_shot.1', 'distance_of_shot.1','remaining_min.1','remaining_sec.1'], axis = 1, inplace = True)\n",
    "X_test.drop(['knockout_match.1','power_of_shot.1', 'distance_of_shot.1','remaining_min.1','remaining_sec.1'], axis = 1, inplace = True)"
   ]
  },
  {
   "cell_type": "markdown",
   "metadata": {},
   "source": [
    "So, we used the mutiple columns to fill some values now we dont need them anymore so I deleted them. Now let's try to fill up some columns that are obvious, like 'lat/lng' 'game_season'.\n",
    "This will be filled easily as lat/lng is same for a match and game_season can be filled by using the preceding and succeding value of the same column."
   ]
  },
  {
   "cell_type": "markdown",
   "metadata": {},
   "source": [
    "#### 4. game season"
   ]
  },
  {
   "cell_type": "code",
   "execution_count": 25,
   "metadata": {},
   "outputs": [],
   "source": [
    "for i, e in enumerate(X_train['game_season']):\n",
    "    if pd.isnull(e):\n",
    "        if X_train['game_season'].iloc[i-1] == X_train['game_season'].iloc[i+1]:\n",
    "            X_train['game_season'].iloc[i] = X_train['game_season'].iloc[i-1]\n",
    "for i, e in enumerate(X_test['game_season']):\n",
    "    if pd.isnull(e):\n",
    "        if X_test['game_season'].iloc[i-1] == X_test['game_season'].iloc[i+1]:\n",
    "            X_test['game_season'].iloc[i] = X_test['game_season'].iloc[i-1]"
   ]
  },
  {
   "cell_type": "markdown",
   "metadata": {},
   "source": [
    "#### 5. Lat/Lng"
   ]
  },
  {
   "cell_type": "code",
   "execution_count": 26,
   "metadata": {},
   "outputs": [],
   "source": [
    "for i, e in enumerate(X_train['lat/lng']):\n",
    "    if pd.isnull(e):\n",
    "        if X_train['match_id'].iloc[i] == X_train['match_id'].iloc[i+1]:\n",
    "            X_train['lat/lng'].iloc[i] = X_train['lat/lng'].iloc[i+1]\n",
    "        if X_train['match_id'].iloc[i] == X_train['match_id'].iloc[i-1]:\n",
    "            X_train['lat/lng'].iloc[i] = X_train['lat/lng'].iloc[i-1]\n",
    "for i, e in enumerate(X_test['lat/lng']):\n",
    "    if pd.isnull(e):\n",
    "        if X_test['match_id'].iloc[i] == X_test['match_id'].iloc[i+1]:\n",
    "            X_test['lat/lng'].iloc[i] = X_test['lat/lng'].iloc[i+1]\n",
    "        if X_test['match_id'].iloc[i] == X_test['match_id'].iloc[i-1]:\n",
    "            X_test['lat/lng'].iloc[i] = X_test['lat/lng'].iloc[i-1]"
   ]
  },
  {
   "cell_type": "markdown",
   "metadata": {},
   "source": [
    "I observed that for columns 'type_of_shot' and 'type_of_combined_shot' where one value is given other is not given and the sum of there non.null values sum up to total number of rows. So I think that it is one column split into two. So, I will go ahead and merge them.\n",
    "#### 6. type_of_shot"
   ]
  },
  {
   "cell_type": "code",
   "execution_count": 27,
   "metadata": {},
   "outputs": [],
   "source": [
    "X_train['type_of_shot'] = X_train['type_of_shot'].fillna(X_train['type_of_combined_shot'])\n",
    "X_test['type_of_shot'] = X_test['type_of_shot'].fillna(X_test['type_of_combined_shot'])\n",
    "X_train.drop('type_of_combined_shot', axis = 1, inplace = True)\n",
    "X_test.drop('type_of_combined_shot', axis = 1, inplace = True)"
   ]
  },
  {
   "cell_type": "markdown",
   "metadata": {},
   "source": [
    "I think that for filling rest of the columns we will need some insights into the data, to find relationship with other columns. So, let's perform EDA\n",
    "# EDA"
   ]
  },
  {
   "cell_type": "code",
   "execution_count": 28,
   "metadata": {},
   "outputs": [
    {
     "data": {
      "text/html": [
       "<div>\n",
       "<style scoped>\n",
       "    .dataframe tbody tr th:only-of-type {\n",
       "        vertical-align: middle;\n",
       "    }\n",
       "\n",
       "    .dataframe tbody tr th {\n",
       "        vertical-align: top;\n",
       "    }\n",
       "\n",
       "    .dataframe thead th {\n",
       "        text-align: right;\n",
       "    }\n",
       "</style>\n",
       "<table border=\"1\" class=\"dataframe\">\n",
       "  <thead>\n",
       "    <tr style=\"text-align: right;\">\n",
       "      <th></th>\n",
       "      <th>game_season</th>\n",
       "      <th>area_of_shot</th>\n",
       "      <th>shot_basics</th>\n",
       "      <th>range_of_shot</th>\n",
       "      <th>date_of_game</th>\n",
       "      <th>home/away</th>\n",
       "      <th>lat/lng</th>\n",
       "      <th>type_of_shot</th>\n",
       "    </tr>\n",
       "  </thead>\n",
       "  <tbody>\n",
       "    <tr>\n",
       "      <th>count</th>\n",
       "      <td>22830</td>\n",
       "      <td>23247</td>\n",
       "      <td>23146</td>\n",
       "      <td>23181</td>\n",
       "      <td>23192</td>\n",
       "      <td>23215</td>\n",
       "      <td>24423</td>\n",
       "      <td>24429</td>\n",
       "    </tr>\n",
       "    <tr>\n",
       "      <th>unique</th>\n",
       "      <td>20</td>\n",
       "      <td>6</td>\n",
       "      <td>7</td>\n",
       "      <td>5</td>\n",
       "      <td>1557</td>\n",
       "      <td>74</td>\n",
       "      <td>38</td>\n",
       "      <td>57</td>\n",
       "    </tr>\n",
       "    <tr>\n",
       "      <th>top</th>\n",
       "      <td>2005-06</td>\n",
       "      <td>Center(C)</td>\n",
       "      <td>Mid Range</td>\n",
       "      <td>Less Than 8 ft.</td>\n",
       "      <td>2016-04-13</td>\n",
       "      <td>MANU @ SAS</td>\n",
       "      <td>42.982923, -71.446094</td>\n",
       "      <td>shot - 3</td>\n",
       "    </tr>\n",
       "    <tr>\n",
       "      <th>freq</th>\n",
       "      <td>1719</td>\n",
       "      <td>10177</td>\n",
       "      <td>9488</td>\n",
       "      <td>7064</td>\n",
       "      <td>39</td>\n",
       "      <td>767</td>\n",
       "      <td>11875</td>\n",
       "      <td>9474</td>\n",
       "    </tr>\n",
       "  </tbody>\n",
       "</table>\n",
       "</div>"
      ],
      "text/plain": [
       "       game_season area_of_shot shot_basics    range_of_shot date_of_game  \\\n",
       "count        22830        23247       23146            23181        23192   \n",
       "unique          20            6           7                5         1557   \n",
       "top        2005-06    Center(C)   Mid Range  Less Than 8 ft.   2016-04-13   \n",
       "freq          1719        10177        9488             7064           39   \n",
       "\n",
       "         home/away                lat/lng type_of_shot  \n",
       "count        23215                  24423        24429  \n",
       "unique          74                     38           57  \n",
       "top     MANU @ SAS  42.982923, -71.446094     shot - 3  \n",
       "freq           767                  11875         9474  "
      ]
     },
     "execution_count": 28,
     "metadata": {},
     "output_type": "execute_result"
    }
   ],
   "source": [
    "X_train.describe(include = 'O')"
   ]
  },
  {
   "cell_type": "code",
   "execution_count": 30,
   "metadata": {},
   "outputs": [],
   "source": [
    "X_train['is_goal'] = y_train"
   ]
  },
  {
   "cell_type": "code",
   "execution_count": 31,
   "metadata": {},
   "outputs": [
    {
     "data": {
      "text/html": [
       "<div>\n",
       "<style scoped>\n",
       "    .dataframe tbody tr th:only-of-type {\n",
       "        vertical-align: middle;\n",
       "    }\n",
       "\n",
       "    .dataframe tbody tr th {\n",
       "        vertical-align: top;\n",
       "    }\n",
       "\n",
       "    .dataframe thead th {\n",
       "        text-align: right;\n",
       "    }\n",
       "</style>\n",
       "<table border=\"1\" class=\"dataframe\">\n",
       "  <thead>\n",
       "    <tr style=\"text-align: right;\">\n",
       "      <th></th>\n",
       "      <th>match_event_id</th>\n",
       "      <th>location_x</th>\n",
       "      <th>location_y</th>\n",
       "      <th>remaining_min</th>\n",
       "      <th>power_of_shot</th>\n",
       "      <th>knockout_match</th>\n",
       "      <th>remaining_sec</th>\n",
       "      <th>distance_of_shot</th>\n",
       "      <th>shot_id_number</th>\n",
       "      <th>match_id</th>\n",
       "      <th>is_goal</th>\n",
       "    </tr>\n",
       "  </thead>\n",
       "  <tbody>\n",
       "    <tr>\n",
       "      <th>count</th>\n",
       "      <td>23189.000000</td>\n",
       "      <td>23273.000000</td>\n",
       "      <td>23184.000000</td>\n",
       "      <td>24122.000000</td>\n",
       "      <td>24141.000000</td>\n",
       "      <td>24428.000000</td>\n",
       "      <td>24172.000000</td>\n",
       "      <td>24331.000000</td>\n",
       "      <td>24429.000000</td>\n",
       "      <td>2.442900e+04</td>\n",
       "      <td>24429.000000</td>\n",
       "    </tr>\n",
       "    <tr>\n",
       "      <th>mean</th>\n",
       "      <td>249.575402</td>\n",
       "      <td>7.494178</td>\n",
       "      <td>91.461180</td>\n",
       "      <td>4.880192</td>\n",
       "      <td>2.520070</td>\n",
       "      <td>0.146635</td>\n",
       "      <td>28.347390</td>\n",
       "      <td>33.665937</td>\n",
       "      <td>15329.854804</td>\n",
       "      <td>2.474317e+07</td>\n",
       "      <td>0.445331</td>\n",
       "    </tr>\n",
       "    <tr>\n",
       "      <th>std</th>\n",
       "      <td>150.052347</td>\n",
       "      <td>110.126457</td>\n",
       "      <td>88.041628</td>\n",
       "      <td>3.453805</td>\n",
       "      <td>1.152094</td>\n",
       "      <td>0.353749</td>\n",
       "      <td>17.517907</td>\n",
       "      <td>9.829759</td>\n",
       "      <td>8860.893604</td>\n",
       "      <td>7.745041e+06</td>\n",
       "      <td>0.497013</td>\n",
       "    </tr>\n",
       "    <tr>\n",
       "      <th>min</th>\n",
       "      <td>2.000000</td>\n",
       "      <td>-250.000000</td>\n",
       "      <td>-44.000000</td>\n",
       "      <td>0.000000</td>\n",
       "      <td>1.000000</td>\n",
       "      <td>0.000000</td>\n",
       "      <td>0.000000</td>\n",
       "      <td>9.400000</td>\n",
       "      <td>2.000000</td>\n",
       "      <td>2.000001e+07</td>\n",
       "      <td>0.000000</td>\n",
       "    </tr>\n",
       "    <tr>\n",
       "      <th>25%</th>\n",
       "      <td>111.000000</td>\n",
       "      <td>-67.000000</td>\n",
       "      <td>4.000000</td>\n",
       "      <td>2.000000</td>\n",
       "      <td>1.000000</td>\n",
       "      <td>0.000000</td>\n",
       "      <td>13.000000</td>\n",
       "      <td>25.000000</td>\n",
       "      <td>7654.000000</td>\n",
       "      <td>2.050006e+07</td>\n",
       "      <td>0.000000</td>\n",
       "    </tr>\n",
       "    <tr>\n",
       "      <th>50%</th>\n",
       "      <td>254.000000</td>\n",
       "      <td>0.000000</td>\n",
       "      <td>74.000000</td>\n",
       "      <td>5.000000</td>\n",
       "      <td>3.000000</td>\n",
       "      <td>0.000000</td>\n",
       "      <td>28.000000</td>\n",
       "      <td>35.000000</td>\n",
       "      <td>15340.000000</td>\n",
       "      <td>2.090034e+07</td>\n",
       "      <td>0.000000</td>\n",
       "    </tr>\n",
       "    <tr>\n",
       "      <th>75%</th>\n",
       "      <td>369.000000</td>\n",
       "      <td>95.000000</td>\n",
       "      <td>160.000000</td>\n",
       "      <td>8.000000</td>\n",
       "      <td>3.000000</td>\n",
       "      <td>0.000000</td>\n",
       "      <td>43.000000</td>\n",
       "      <td>41.000000</td>\n",
       "      <td>22969.000000</td>\n",
       "      <td>2.960027e+07</td>\n",
       "      <td>1.000000</td>\n",
       "    </tr>\n",
       "    <tr>\n",
       "      <th>max</th>\n",
       "      <td>653.000000</td>\n",
       "      <td>248.000000</td>\n",
       "      <td>791.000000</td>\n",
       "      <td>11.000000</td>\n",
       "      <td>7.000000</td>\n",
       "      <td>1.000000</td>\n",
       "      <td>59.000000</td>\n",
       "      <td>99.000000</td>\n",
       "      <td>30697.000000</td>\n",
       "      <td>4.990009e+07</td>\n",
       "      <td>1.000000</td>\n",
       "    </tr>\n",
       "  </tbody>\n",
       "</table>\n",
       "</div>"
      ],
      "text/plain": [
       "       match_event_id    location_x    location_y  remaining_min  \\\n",
       "count    23189.000000  23273.000000  23184.000000   24122.000000   \n",
       "mean       249.575402      7.494178     91.461180       4.880192   \n",
       "std        150.052347    110.126457     88.041628       3.453805   \n",
       "min          2.000000   -250.000000    -44.000000       0.000000   \n",
       "25%        111.000000    -67.000000      4.000000       2.000000   \n",
       "50%        254.000000      0.000000     74.000000       5.000000   \n",
       "75%        369.000000     95.000000    160.000000       8.000000   \n",
       "max        653.000000    248.000000    791.000000      11.000000   \n",
       "\n",
       "       power_of_shot  knockout_match  remaining_sec  distance_of_shot  \\\n",
       "count   24141.000000    24428.000000   24172.000000      24331.000000   \n",
       "mean        2.520070        0.146635      28.347390         33.665937   \n",
       "std         1.152094        0.353749      17.517907          9.829759   \n",
       "min         1.000000        0.000000       0.000000          9.400000   \n",
       "25%         1.000000        0.000000      13.000000         25.000000   \n",
       "50%         3.000000        0.000000      28.000000         35.000000   \n",
       "75%         3.000000        0.000000      43.000000         41.000000   \n",
       "max         7.000000        1.000000      59.000000         99.000000   \n",
       "\n",
       "       shot_id_number      match_id       is_goal  \n",
       "count    24429.000000  2.442900e+04  24429.000000  \n",
       "mean     15329.854804  2.474317e+07      0.445331  \n",
       "std       8860.893604  7.745041e+06      0.497013  \n",
       "min          2.000000  2.000001e+07      0.000000  \n",
       "25%       7654.000000  2.050006e+07      0.000000  \n",
       "50%      15340.000000  2.090034e+07      0.000000  \n",
       "75%      22969.000000  2.960027e+07      1.000000  \n",
       "max      30697.000000  4.990009e+07      1.000000  "
      ]
     },
     "execution_count": 31,
     "metadata": {},
     "output_type": "execute_result"
    }
   ],
   "source": [
    "X_train.describe()"
   ]
  },
  {
   "cell_type": "code",
   "execution_count": 33,
   "metadata": {},
   "outputs": [
    {
     "data": {
      "text/plain": [
       "<matplotlib.axes._subplots.AxesSubplot at 0x25b827281d0>"
      ]
     },
     "execution_count": 33,
     "metadata": {},
     "output_type": "execute_result"
    },
    {
     "data": {
      "image/png": "[encoded data removed]",
      "text/plain": [
       "<Figure size 864x432 with 1 Axes>"
      ]
     },
     "metadata": {
      "needs_background": "light"
     },
     "output_type": "display_data"
    }
   ],
   "source": [
    "plt.figure(figsize = (12,6))\n",
    "sns.barplot(x = X_train['area_of_shot'], y = X_train['is_goal'])"
   ]
  },
  {
   "cell_type": "code",
   "execution_count": 34,
   "metadata": {},
   "outputs": [
    {
     "data": {
      "text/plain": [
       "<matplotlib.axes._subplots.AxesSubplot at 0x25b835af0b8>"
      ]
     },
     "execution_count": 34,
     "metadata": {},
     "output_type": "execute_result"
    },
    {
     "data": {
      "image/png": "[encoded data removed]",
      "text/plain": [
       "<Figure size 864x432 with 1 Axes>"
      ]
     },
     "metadata": {
      "needs_background": "light"
     },
     "output_type": "display_data"
    }
   ],
   "source": [
    "plt.figure(figsize = (12,6))\n",
    "sns.barplot(x = X_train['range_of_shot'], y = X_train['is_goal'])"
   ]
  },
  {
   "cell_type": "code",
   "execution_count": 36,
   "metadata": {},
   "outputs": [
    {
     "data": {
      "text/plain": [
       "<matplotlib.axes._subplots.AxesSubplot at 0x25b823c0048>"
      ]
     },
     "execution_count": 36,
     "metadata": {},
     "output_type": "execute_result"
    },
    {
     "data": {
      "image/png": "[encoded data removed]",
      "text/plain": [
       "<Figure size 864x432 with 1 Axes>"
      ]
     },
     "metadata": {
      "needs_background": "light"
     },
     "output_type": "display_data"
    }
   ],
   "source": [
    "plt.figure(figsize = (12,6))\n",
    "sns.barplot(x = X_train['shot_basics'], y = X_train['is_goal'])"
   ]
  },
  {
   "cell_type": "code",
   "execution_count": 37,
   "metadata": {},
   "outputs": [
    {
     "data": {
      "text/plain": [
       "<matplotlib.axes._subplots.AxesSubplot at 0x25b82751e10>"
      ]
     },
     "execution_count": 37,
     "metadata": {},
     "output_type": "execute_result"
    },
    {
     "data": {
      "image/png": "[encoded data removed]",
      "text/plain": [
       "<Figure size 864x432 with 1 Axes>"
      ]
     },
     "metadata": {
      "needs_background": "light"
     },
     "output_type": "display_data"
    }
   ],
   "source": [
    "plt.figure(figsize = (12,6))\n",
    "sns.barplot(x = X_train['power_of_shot'], y = X_train['is_goal'])"
   ]
  },
  {
   "cell_type": "markdown",
   "metadata": {},
   "source": [
    "#### Observation:\n",
    "<ul>\n",
    "    <li>lat/lng-(42/-71) appears the highest number of time so I think it should be the lat/lng of the home ground of manchester united.</li>\n",
    "    <li>According to our assumption we can create a new home away feature.</li>\n",
    "    <li>As expected the goal scoring is highly dependent on area_of_shot, range_of_shot, shot_basics but the problem is they have high number of null values.</li>\n",
    "</ul>\n",
    "\n",
    "To be able to fill the null values in these columns we need their dependence on some other variable.\n"
   ]
  },
  {
   "cell_type": "code",
   "execution_count": 40,
   "metadata": {},
   "outputs": [
    {
     "data": {
      "text/html": [
       "<div>\n",
       "<style scoped>\n",
       "    .dataframe tbody tr th:only-of-type {\n",
       "        vertical-align: middle;\n",
       "    }\n",
       "\n",
       "    .dataframe tbody tr th {\n",
       "        vertical-align: top;\n",
       "    }\n",
       "\n",
       "    .dataframe thead th {\n",
       "        text-align: right;\n",
       "    }\n",
       "</style>\n",
       "<table border=\"1\" class=\"dataframe\">\n",
       "  <thead>\n",
       "    <tr style=\"text-align: right;\">\n",
       "      <th></th>\n",
       "      <th></th>\n",
       "      <th></th>\n",
       "      <th>is_goal</th>\n",
       "    </tr>\n",
       "    <tr>\n",
       "      <th>range_of_shot</th>\n",
       "      <th>area_of_shot</th>\n",
       "      <th>shot_basics</th>\n",
       "      <th></th>\n",
       "    </tr>\n",
       "  </thead>\n",
       "  <tbody>\n",
       "    <tr>\n",
       "      <th rowspan=\"5\" valign=\"top\">16-24 ft.</th>\n",
       "      <th>Center(C)</th>\n",
       "      <th>Mid Range</th>\n",
       "      <td>0.404126</td>\n",
       "    </tr>\n",
       "    <tr>\n",
       "      <th>Left Side Center(LC)</th>\n",
       "      <th>Mid Range</th>\n",
       "      <td>0.415409</td>\n",
       "    </tr>\n",
       "    <tr>\n",
       "      <th>Left Side(L)</th>\n",
       "      <th>Mid Range</th>\n",
       "      <td>0.377515</td>\n",
       "    </tr>\n",
       "    <tr>\n",
       "      <th>Right Side Center(RC)</th>\n",
       "      <th>Mid Range</th>\n",
       "      <td>0.425532</td>\n",
       "    </tr>\n",
       "    <tr>\n",
       "      <th>Right Side(R)</th>\n",
       "      <th>Mid Range</th>\n",
       "      <td>0.371981</td>\n",
       "    </tr>\n",
       "    <tr>\n",
       "      <th rowspan=\"5\" valign=\"top\">24+ ft.</th>\n",
       "      <th>Center(C)</th>\n",
       "      <th>Penalty Spot</th>\n",
       "      <td>0.337302</td>\n",
       "    </tr>\n",
       "    <tr>\n",
       "      <th>Left Side Center(LC)</th>\n",
       "      <th>Penalty Spot</th>\n",
       "      <td>0.317373</td>\n",
       "    </tr>\n",
       "    <tr>\n",
       "      <th>Left Side(L)</th>\n",
       "      <th>Left Corner</th>\n",
       "      <td>0.346939</td>\n",
       "    </tr>\n",
       "    <tr>\n",
       "      <th>Right Side Center(RC)</th>\n",
       "      <th>Penalty Spot</th>\n",
       "      <td>0.350943</td>\n",
       "    </tr>\n",
       "    <tr>\n",
       "      <th>Right Side(R)</th>\n",
       "      <th>Right Corner</th>\n",
       "      <td>0.336957</td>\n",
       "    </tr>\n",
       "    <tr>\n",
       "      <th rowspan=\"6\" valign=\"top\">8-16 ft.</th>\n",
       "      <th rowspan=\"2\" valign=\"top\">Center(C)</th>\n",
       "      <th>Goal Line</th>\n",
       "      <td>0.489531</td>\n",
       "    </tr>\n",
       "    <tr>\n",
       "      <th>Mid Range</th>\n",
       "      <td>0.497817</td>\n",
       "    </tr>\n",
       "    <tr>\n",
       "      <th rowspan=\"2\" valign=\"top\">Left Side(L)</th>\n",
       "      <th>Goal Line</th>\n",
       "      <td>0.410156</td>\n",
       "    </tr>\n",
       "    <tr>\n",
       "      <th>Mid Range</th>\n",
       "      <td>0.410700</td>\n",
       "    </tr>\n",
       "    <tr>\n",
       "      <th rowspan=\"2\" valign=\"top\">Right Side(R)</th>\n",
       "      <th>Goal Line</th>\n",
       "      <td>0.456140</td>\n",
       "    </tr>\n",
       "    <tr>\n",
       "      <th>Mid Range</th>\n",
       "      <td>0.407432</td>\n",
       "    </tr>\n",
       "    <tr>\n",
       "      <th rowspan=\"2\" valign=\"top\">Back Court Shot</th>\n",
       "      <th rowspan=\"2\" valign=\"top\">Mid Ground(MG)</th>\n",
       "      <th>Mid Ground Line</th>\n",
       "      <td>0.018519</td>\n",
       "    </tr>\n",
       "    <tr>\n",
       "      <th>Penalty Spot</th>\n",
       "      <td>0.000000</td>\n",
       "    </tr>\n",
       "    <tr>\n",
       "      <th rowspan=\"2\" valign=\"top\">Less Than 8 ft.</th>\n",
       "      <th rowspan=\"2\" valign=\"top\">Center(C)</th>\n",
       "      <th>Goal Area</th>\n",
       "      <td>0.617647</td>\n",
       "    </tr>\n",
       "    <tr>\n",
       "      <th>Goal Line</th>\n",
       "      <td>0.436906</td>\n",
       "    </tr>\n",
       "  </tbody>\n",
       "</table>\n",
       "</div>"
      ],
      "text/plain": [
       "                                                        is_goal\n",
       "range_of_shot   area_of_shot          shot_basics              \n",
       "16-24 ft.       Center(C)             Mid Range        0.404126\n",
       "                Left Side Center(LC)  Mid Range        0.415409\n",
       "                Left Side(L)          Mid Range        0.377515\n",
       "                Right Side Center(RC) Mid Range        0.425532\n",
       "                Right Side(R)         Mid Range        0.371981\n",
       "24+ ft.         Center(C)             Penalty Spot     0.337302\n",
       "                Left Side Center(LC)  Penalty Spot     0.317373\n",
       "                Left Side(L)          Left Corner      0.346939\n",
       "                Right Side Center(RC) Penalty Spot     0.350943\n",
       "                Right Side(R)         Right Corner     0.336957\n",
       "8-16 ft.        Center(C)             Goal Line        0.489531\n",
       "                                      Mid Range        0.497817\n",
       "                Left Side(L)          Goal Line        0.410156\n",
       "                                      Mid Range        0.410700\n",
       "                Right Side(R)         Goal Line        0.456140\n",
       "                                      Mid Range        0.407432\n",
       "Back Court Shot Mid Ground(MG)        Mid Ground Line  0.018519\n",
       "                                      Penalty Spot     0.000000\n",
       "Less Than 8 ft. Center(C)             Goal Area        0.617647\n",
       "                                      Goal Line        0.436906"
      ]
     },
     "execution_count": 40,
     "metadata": {},
     "output_type": "execute_result"
    }
   ],
   "source": [
    "data_df.pivot_table(index = ['range_of_shot','area_of_shot','shot_basics'], values = ['is_goal'])"
   ]
  },
  {
   "cell_type": "code",
   "execution_count": 41,
   "metadata": {},
   "outputs": [],
   "source": [
    "#Filling categorical variable \n",
    "for i, e in enumerate(X_train['area_of_shot']):\n",
    "    if pd.isnull(e):\n",
    "        if X_train['shot_basics'].iloc[i] == 'Goal Area' or X_train['shot_basics'].iloc[i] == 'Goal Line':\n",
    "            X_train['area_of_shot'].iloc[i] = 'Center(C)'\n",
    "        if X_train['shot_basics'].iloc[i] == 'Right Corner':\n",
    "            X_train['area_of_shot'].iloc[i] = 'Right Side(R)'\n",
    "        if X_train['shot_basics'].iloc[i] == 'Left Corner':\n",
    "            X_train['area_of_shot'].iloc[i] = 'Left Side(L)'\n",
    "        if X_train['shot_basics'].iloc[i] == 'Mid Ground Line':\n",
    "            X_train['area_of_shot'].iloc[i] = 'Mid Ground(MG)'\n",
    "for i, e in enumerate(X_test['area_of_shot']):\n",
    "    if pd.isnull(e):\n",
    "        if X_test['shot_basics'].iloc[i] == 'Goal Area' or X_test['shot_basics'].iloc[i] == 'Goal Line':\n",
    "            X_test['area_of_shot'].iloc[i] = 'Center(C)'\n",
    "        if X_test['shot_basics'].iloc[i] == 'Right Corner':\n",
    "            X_test['area_of_shot'].iloc[i] = 'Right Side(R)'\n",
    "        if X_test['shot_basics'].iloc[i] == 'Left Corner':\n",
    "            X_test['area_of_shot'].iloc[i] = 'Left Side(L)'\n",
    "        if X_test['shot_basics'].iloc[i] == 'Mid Ground Line':\n",
    "            X_test['area_of_shot'].iloc[i] = 'Mid Ground(MG)'\n",
    "for i,e in enumerate(X_train['range_of_shot']):\n",
    "    if pd.isnull(e):\n",
    "        if X_train['shot_basics'].iloc[i] == 'Goal Area':\n",
    "            X_train['range_of_shot'].iloc[i] = 'Less Than 8 ft.'\n",
    "        if X_train['shot_basics'].iloc[i] == 'Left Corner' or X_train['shot_basics'].iloc[i] == 'Right Corner':\n",
    "            X_train['range_of_shot'].iloc[i] = '24+ ft.'\n",
    "        if X_train['shot_basics'].iloc[i] == 'Mid Ground Line':\n",
    "            X_train['range_of_shot'].iloc[i] = 'Back Court Shot'\n",
    "for i,e in enumerate(X_test['range_of_shot']):\n",
    "    if pd.isnull(e):\n",
    "        if X_test['shot_basics'].iloc[i] == 'Goal Area':\n",
    "            X_test['range_of_shot'].iloc[i] = 'Less Than 8 ft.'\n",
    "        if X_test['shot_basics'].iloc[i] == 'Left Corner' or X_test['shot_basics'].iloc[i] == 'Right Corner':\n",
    "            X_test['range_of_shot'].iloc[i] = '24+ ft.'\n",
    "        if X_test['shot_basics'].iloc[i] == 'Mid Ground Line':\n",
    "            X_test['range_of_shot'].iloc[i] = 'Back Court Shot'\n",
    "for i,e in enumerate(X_test['range_of_shot']):\n",
    "    if pd.isnull(e):\n",
    "        if X_test['area_of_shot'].iloc[i] == 'Mid Ground(MG)':\n",
    "            X_test['range_of_shot'].iloc[i] = 'Back Court Shot'\n",
    "for i,e in enumerate(X_train['range_of_shot']):\n",
    "    if pd.isnull(e):\n",
    "        if X_train['area_of_shot'].iloc[i] == 'Mid Ground(MG)':\n",
    "            X_train['range_of_shot'].iloc[i] = 'Back Court Shot'\n",
    "for i,e in enumerate(X_test['shot_basics']):\n",
    "    if pd.isnull(e):\n",
    "        if X_test['range_of_shot'].iloc[i] == '16-24 ft.':\n",
    "            X_test['shot_basics'].iloc[i] = 'Mid Range'\n",
    "for i,e in enumerate(X_train['range_of_shot']):\n",
    "    if pd.isnull(e):\n",
    "        if X_train['range_of_shot'].iloc[i] == '16-24 ft.':\n",
    "            X_train['shot_basics'].iloc[i] = 'Mid Range'\n",
    "for i,e in enumerate(X_train['shot_basics']):\n",
    "    if pd.isnull(e):\n",
    "        if X_train['range_of_shot'].iloc[i] == '24+ ft.':\n",
    "            if X_train['area_of_shot'].iloc[i] == 'Center(C)' or X_train['area_of_shot'].iloc[i] == 'Left Side Center(LC)' or X_train['area_of_shot'].iloc[i] == 'Right Side Center(RC)':\n",
    "                X_train['shot_basics'].iloc[i] = 'Penalty Spot'\n",
    "            if X_train['area_of_shot'].iloc[i] == 'Left Side(L)':\n",
    "                X_train['shot_basics'].iloc[i] = 'Left Corner'\n",
    "            if X_train['area_of_shot'].iloc[i] == 'Right Side(R)':\n",
    "                X_train['shot_basics'].iloc[i] = 'Right Corner'\n",
    "for i,e in enumerate(X_test['shot_basics']):\n",
    "    if pd.isnull(e):\n",
    "        if X_test['range_of_shot'].iloc[i] == '24+ ft.':\n",
    "            if X_test['area_of_shot'].iloc[i] == 'Center(C)' or X_test['area_of_shot'].iloc[i] == 'Left Side Center(LC)' or X_test['area_of_shot'].iloc[i] == 'Right Side Center(RC)':\n",
    "                X_test['shot_basics'].iloc[i] = 'Penalty Spot'\n",
    "            if X_test['area_of_shot'].iloc[i] == 'Left Side(L)':\n",
    "                X_test['shot_basics'].iloc[i] = 'Left Corner'\n",
    "            if X_test['area_of_shot'].iloc[i] == 'Right Side(R)':\n",
    "                X_test['shot_basics'].iloc[i] = 'Right Corner'"
   ]
  },
  {
   "cell_type": "markdown",
   "metadata": {},
   "source": [
    "#### 1. range_of_shot"
   ]
  },
  {
   "cell_type": "code",
   "execution_count": 46,
   "metadata": {},
   "outputs": [
    {
     "data": {
      "text/html": [
       "<div>\n",
       "<style scoped>\n",
       "    .dataframe tbody tr th:only-of-type {\n",
       "        vertical-align: middle;\n",
       "    }\n",
       "\n",
       "    .dataframe tbody tr th {\n",
       "        vertical-align: top;\n",
       "    }\n",
       "\n",
       "    .dataframe thead th {\n",
       "        text-align: right;\n",
       "    }\n",
       "</style>\n",
       "<table border=\"1\" class=\"dataframe\">\n",
       "  <thead>\n",
       "    <tr style=\"text-align: right;\">\n",
       "      <th></th>\n",
       "      <th>location_x</th>\n",
       "      <th>location_y</th>\n",
       "      <th>distance_of_shot</th>\n",
       "    </tr>\n",
       "    <tr>\n",
       "      <th>range_of_shot</th>\n",
       "      <th></th>\n",
       "      <th></th>\n",
       "      <th></th>\n",
       "    </tr>\n",
       "  </thead>\n",
       "  <tbody>\n",
       "    <tr>\n",
       "      <th>16-24 ft.</th>\n",
       "      <td>13.967514</td>\n",
       "      <td>122.222920</td>\n",
       "      <td>38.677051</td>\n",
       "    </tr>\n",
       "    <tr>\n",
       "      <th>24+ ft.</th>\n",
       "      <td>7.647278</td>\n",
       "      <td>189.505177</td>\n",
       "      <td>45.259797</td>\n",
       "    </tr>\n",
       "    <tr>\n",
       "      <th>8-16 ft.</th>\n",
       "      <td>8.338493</td>\n",
       "      <td>63.913872</td>\n",
       "      <td>32.216543</td>\n",
       "    </tr>\n",
       "    <tr>\n",
       "      <th>Back Court Shot</th>\n",
       "      <td>5.483871</td>\n",
       "      <td>548.359375</td>\n",
       "      <td>75.361111</td>\n",
       "    </tr>\n",
       "    <tr>\n",
       "      <th>Less Than 8 ft.</th>\n",
       "      <td>0.813255</td>\n",
       "      <td>12.637710</td>\n",
       "      <td>22.003590</td>\n",
       "    </tr>\n",
       "  </tbody>\n",
       "</table>\n",
       "</div>"
      ],
      "text/plain": [
       "                 location_x  location_y  distance_of_shot\n",
       "range_of_shot                                            \n",
       "16-24 ft.         13.967514  122.222920         38.677051\n",
       "24+ ft.            7.647278  189.505177         45.259797\n",
       "8-16 ft.           8.338493   63.913872         32.216543\n",
       "Back Court Shot    5.483871  548.359375         75.361111\n",
       "Less Than 8 ft.    0.813255   12.637710         22.003590"
      ]
     },
     "execution_count": 46,
     "metadata": {},
     "output_type": "execute_result"
    }
   ],
   "source": [
    "X_train[['range_of_shot','location_x','location_y','distance_of_shot']].groupby('range_of_shot').mean()"
   ]
  },
  {
   "cell_type": "markdown",
   "metadata": {},
   "source": [
    "#### Observation:\n",
    "<ul>\n",
    "    <li>We see that range_of_shot is strongly related to location_y and distance_of_shot</li>\n",
    "</ul>\n",
    "So, I will go ahead and try to fill range_of_shot. \n",
    "\n",
    "#### Linear model is a obvious choice for this classification"
   ]
  },
  {
   "cell_type": "code",
   "execution_count": 49,
   "metadata": {},
   "outputs": [],
   "source": [
    "X_1 = data_df[['range_of_shot','location_y','distance_of_shot']].copy()\n",
    "X_1 = X_1.dropna()\n",
    "X_train1 = X_1[['location_y','distance_of_shot']]\n",
    "y_train1 = X_1['range_of_shot']"
   ]
  },
  {
   "cell_type": "code",
   "execution_count": 50,
   "metadata": {},
   "outputs": [
    {
     "data": {
      "text/plain": [
       "LogisticRegression(C=1.0, class_weight=None, dual=False, fit_intercept=True,\n",
       "          intercept_scaling=1, max_iter=100, multi_class='warn',\n",
       "          n_jobs=None, penalty='l2', random_state=None, solver='warn',\n",
       "          tol=0.0001, verbose=0, warm_start=False)"
      ]
     },
     "execution_count": 50,
     "metadata": {},
     "output_type": "execute_result"
    }
   ],
   "source": [
    "clf_1 = LogisticRegression()\n",
    "clf_1.fit(X_train1,y_train1)"
   ]
  },
  {
   "cell_type": "code",
   "execution_count": 58,
   "metadata": {},
   "outputs": [],
   "source": [
    "for i, e in enumerate(X_train['range_of_shot']):\n",
    "    if pd.isnull(e):\n",
    "        if not(pd.isnull(X_train['location_y'].iloc[i]) or pd.isnull(X_train['distance_of_shot'].iloc[i])):\n",
    "            ar = X_train[['location_y','distance_of_shot']].iloc[i]\n",
    "            X_train['range_of_shot'].iloc[i] = clf_1.predict(ar.values.reshape(1,2))[0]"
   ]
  },
  {
   "cell_type": "code",
   "execution_count": 60,
   "metadata": {},
   "outputs": [],
   "source": [
    "for i, e in enumerate(X_test['range_of_shot']):\n",
    "    if pd.isnull(e):\n",
    "        if not(pd.isnull(X_test['location_y'].iloc[i]) or pd.isnull(X_test['distance_of_shot'].iloc[i])):\n",
    "            ar = X_test[['location_y','distance_of_shot']].iloc[i]\n",
    "            X_test['range_of_shot'].iloc[i] = clf_1.predict(ar.values.reshape(1,2))[0]"
   ]
  },
  {
   "cell_type": "markdown",
   "metadata": {},
   "source": [
    "#### 2. Area_of_shot"
   ]
  },
  {
   "cell_type": "code",
   "execution_count": 64,
   "metadata": {},
   "outputs": [
    {
     "data": {
      "text/html": [
       "<div>\n",
       "<style scoped>\n",
       "    .dataframe tbody tr th:only-of-type {\n",
       "        vertical-align: middle;\n",
       "    }\n",
       "\n",
       "    .dataframe tbody tr th {\n",
       "        vertical-align: top;\n",
       "    }\n",
       "\n",
       "    .dataframe thead th {\n",
       "        text-align: right;\n",
       "    }\n",
       "</style>\n",
       "<table border=\"1\" class=\"dataframe\">\n",
       "  <thead>\n",
       "    <tr style=\"text-align: right;\">\n",
       "      <th></th>\n",
       "      <th>location_x</th>\n",
       "      <th>location_y</th>\n",
       "      <th>distance_of_shot</th>\n",
       "    </tr>\n",
       "    <tr>\n",
       "      <th>area_of_shot</th>\n",
       "      <th></th>\n",
       "      <th></th>\n",
       "      <th></th>\n",
       "    </tr>\n",
       "  </thead>\n",
       "  <tbody>\n",
       "    <tr>\n",
       "      <th>Center(C)</th>\n",
       "      <td>1.242295</td>\n",
       "      <td>61.647857</td>\n",
       "      <td>26.711367</td>\n",
       "    </tr>\n",
       "    <tr>\n",
       "      <th>Left Side Center(LC)</th>\n",
       "      <td>-139.550554</td>\n",
       "      <td>176.664467</td>\n",
       "      <td>42.448262</td>\n",
       "    </tr>\n",
       "    <tr>\n",
       "      <th>Left Side(L)</th>\n",
       "      <td>-140.235467</td>\n",
       "      <td>45.906701</td>\n",
       "      <td>35.155622</td>\n",
       "    </tr>\n",
       "    <tr>\n",
       "      <th>Mid Ground(MG)</th>\n",
       "      <td>5.483871</td>\n",
       "      <td>548.359375</td>\n",
       "      <td>75.361111</td>\n",
       "    </tr>\n",
       "    <tr>\n",
       "      <th>Right Side Center(RC)</th>\n",
       "      <td>133.936311</td>\n",
       "      <td>176.413733</td>\n",
       "      <td>42.243125</td>\n",
       "    </tr>\n",
       "    <tr>\n",
       "      <th>Right Side(R)</th>\n",
       "      <td>141.812481</td>\n",
       "      <td>41.137019</td>\n",
       "      <td>35.119778</td>\n",
       "    </tr>\n",
       "  </tbody>\n",
       "</table>\n",
       "</div>"
      ],
      "text/plain": [
       "                       location_x  location_y  distance_of_shot\n",
       "area_of_shot                                                   \n",
       "Center(C)                1.242295   61.647857         26.711367\n",
       "Left Side Center(LC)  -139.550554  176.664467         42.448262\n",
       "Left Side(L)          -140.235467   45.906701         35.155622\n",
       "Mid Ground(MG)           5.483871  548.359375         75.361111\n",
       "Right Side Center(RC)  133.936311  176.413733         42.243125\n",
       "Right Side(R)          141.812481   41.137019         35.119778"
      ]
     },
     "execution_count": 64,
     "metadata": {},
     "output_type": "execute_result"
    }
   ],
   "source": [
    "X_train[['location_x','location_y','distance_of_shot','area_of_shot']].groupby('area_of_shot').mean()"
   ]
  },
  {
   "cell_type": "code",
   "execution_count": 65,
   "metadata": {},
   "outputs": [
    {
     "data": {
      "text/html": [
       "<div>\n",
       "<style scoped>\n",
       "    .dataframe tbody tr th:only-of-type {\n",
       "        vertical-align: middle;\n",
       "    }\n",
       "\n",
       "    .dataframe tbody tr th {\n",
       "        vertical-align: top;\n",
       "    }\n",
       "\n",
       "    .dataframe thead th {\n",
       "        text-align: right;\n",
       "    }\n",
       "</style>\n",
       "<table border=\"1\" class=\"dataframe\">\n",
       "  <thead>\n",
       "    <tr style=\"text-align: right;\">\n",
       "      <th></th>\n",
       "      <th></th>\n",
       "      <th>is_goal</th>\n",
       "    </tr>\n",
       "    <tr>\n",
       "      <th>range_of_shot</th>\n",
       "      <th>area_of_shot</th>\n",
       "      <th></th>\n",
       "    </tr>\n",
       "  </thead>\n",
       "  <tbody>\n",
       "    <tr>\n",
       "      <th rowspan=\"5\" valign=\"top\">16-24 ft.</th>\n",
       "      <th>Center(C)</th>\n",
       "      <td>0.398332</td>\n",
       "    </tr>\n",
       "    <tr>\n",
       "      <th>Left Side Center(LC)</th>\n",
       "      <td>0.413247</td>\n",
       "    </tr>\n",
       "    <tr>\n",
       "      <th>Left Side(L)</th>\n",
       "      <td>0.367539</td>\n",
       "    </tr>\n",
       "    <tr>\n",
       "      <th>Right Side Center(RC)</th>\n",
       "      <td>0.420504</td>\n",
       "    </tr>\n",
       "    <tr>\n",
       "      <th>Right Side(R)</th>\n",
       "      <td>0.378903</td>\n",
       "    </tr>\n",
       "    <tr>\n",
       "      <th rowspan=\"5\" valign=\"top\">24+ ft.</th>\n",
       "      <th>Center(C)</th>\n",
       "      <td>0.329341</td>\n",
       "    </tr>\n",
       "    <tr>\n",
       "      <th>Left Side Center(LC)</th>\n",
       "      <td>0.320245</td>\n",
       "    </tr>\n",
       "    <tr>\n",
       "      <th>Left Side(L)</th>\n",
       "      <td>0.367257</td>\n",
       "    </tr>\n",
       "    <tr>\n",
       "      <th>Right Side Center(RC)</th>\n",
       "      <td>0.343610</td>\n",
       "    </tr>\n",
       "    <tr>\n",
       "      <th>Right Side(R)</th>\n",
       "      <td>0.340625</td>\n",
       "    </tr>\n",
       "    <tr>\n",
       "      <th rowspan=\"3\" valign=\"top\">8-16 ft.</th>\n",
       "      <th>Center(C)</th>\n",
       "      <td>0.488636</td>\n",
       "    </tr>\n",
       "    <tr>\n",
       "      <th>Left Side(L)</th>\n",
       "      <td>0.410241</td>\n",
       "    </tr>\n",
       "    <tr>\n",
       "      <th>Right Side(R)</th>\n",
       "      <td>0.415369</td>\n",
       "    </tr>\n",
       "    <tr>\n",
       "      <th rowspan=\"2\" valign=\"top\">Back Court Shot</th>\n",
       "      <th>Center(C)</th>\n",
       "      <td>0.000000</td>\n",
       "    </tr>\n",
       "    <tr>\n",
       "      <th>Mid Ground(MG)</th>\n",
       "      <td>0.013889</td>\n",
       "    </tr>\n",
       "    <tr>\n",
       "      <th rowspan=\"3\" valign=\"top\">Less Than 8 ft.</th>\n",
       "      <th>Center(C)</th>\n",
       "      <td>0.573394</td>\n",
       "    </tr>\n",
       "    <tr>\n",
       "      <th>Left Side(L)</th>\n",
       "      <td>0.400000</td>\n",
       "    </tr>\n",
       "    <tr>\n",
       "      <th>Right Side(R)</th>\n",
       "      <td>0.600000</td>\n",
       "    </tr>\n",
       "  </tbody>\n",
       "</table>\n",
       "</div>"
      ],
      "text/plain": [
       "                                        is_goal\n",
       "range_of_shot   area_of_shot                   \n",
       "16-24 ft.       Center(C)              0.398332\n",
       "                Left Side Center(LC)   0.413247\n",
       "                Left Side(L)           0.367539\n",
       "                Right Side Center(RC)  0.420504\n",
       "                Right Side(R)          0.378903\n",
       "24+ ft.         Center(C)              0.329341\n",
       "                Left Side Center(LC)   0.320245\n",
       "                Left Side(L)           0.367257\n",
       "                Right Side Center(RC)  0.343610\n",
       "                Right Side(R)          0.340625\n",
       "8-16 ft.        Center(C)              0.488636\n",
       "                Left Side(L)           0.410241\n",
       "                Right Side(R)          0.415369\n",
       "Back Court Shot Center(C)              0.000000\n",
       "                Mid Ground(MG)         0.013889\n",
       "Less Than 8 ft. Center(C)              0.573394\n",
       "                Left Side(L)           0.400000\n",
       "                Right Side(R)          0.600000"
      ]
     },
     "execution_count": 65,
     "metadata": {},
     "output_type": "execute_result"
    }
   ],
   "source": [
    "X_train.pivot_table(index = ['range_of_shot','area_of_shot'], values= 'is_goal')"
   ]
  },
  {
   "cell_type": "markdown",
   "metadata": {},
   "source": [
    "#### Observation:\n",
    "<ul>\n",
    "    <li>We see that area_of_shot is strongly related to location_x, location_y, distance_of_shot and range_of_shot</li>\n",
    "</ul> \n",
    "\n",
    "#### Linear model is will not be a very good choice because of overlapping values of location_x and location_y for different values of area_of_shot. So, I will use random forest classifier for this."
   ]
  },
  {
   "cell_type": "code",
   "execution_count": 67,
   "metadata": {},
   "outputs": [],
   "source": [
    "X_2 = data_df[['range_of_shot','location_y','distance_of_shot','location_x','area_of_shot']].copy()\n",
    "X_2 = X_2.dropna()\n",
    "X_train2 = X_2[['location_y','distance_of_shot','location_x','range_of_shot']]\n",
    "y_train2 = X_2['area_of_shot']"
   ]
  },
  {
   "cell_type": "code",
   "execution_count": 69,
   "metadata": {},
   "outputs": [],
   "source": [
    "for f in X_train2.columns:\n",
    "    if X_train2[f].dtype=='object': \n",
    "        lbl = preprocessing.LabelEncoder()\n",
    "        lbl.fit(list(X_train2[f].values))\n",
    "        X_train2[f] = lbl.transform(list(X_train2[f].values))"
   ]
  },
  {
   "cell_type": "code",
   "execution_count": 71,
   "metadata": {},
   "outputs": [
    {
     "data": {
      "text/plain": [
       "RandomForestClassifier(bootstrap=True, class_weight=None, criterion='gini',\n",
       "            max_depth=None, max_features='auto', max_leaf_nodes=None,\n",
       "            min_impurity_decrease=0.0, min_impurity_split=None,\n",
       "            min_samples_leaf=1, min_samples_split=2,\n",
       "            min_weight_fraction_leaf=0.0, n_estimators=100, n_jobs=None,\n",
       "            oob_score=False, random_state=0, verbose=0, warm_start=False)"
      ]
     },
     "execution_count": 71,
     "metadata": {},
     "output_type": "execute_result"
    }
   ],
   "source": [
    "clf_2.fit(X_train2,y_train2)"
   ]
  },
  {
   "cell_type": "code",
   "execution_count": 72,
   "metadata": {},
   "outputs": [],
   "source": [
    "X_temp_train = X_train[['location_y','distance_of_shot','location_x','range_of_shot']].copy()\n",
    "for f in X_temp_train.columns:\n",
    "    if X_temp_train[f].dtype=='object': \n",
    "        lbl = preprocessing.LabelEncoder()\n",
    "        lbl.fit(list(X_temp_train[f].values))\n",
    "        X_temp_train[f] = lbl.transform(list(X_temp_train[f].values))"
   ]
  },
  {
   "cell_type": "code",
   "execution_count": 73,
   "metadata": {},
   "outputs": [],
   "source": [
    "X_temp_test = X_test[['location_y','distance_of_shot','location_x','range_of_shot']].copy()\n",
    "for f in X_temp_test.columns:\n",
    "    if X_temp_test[f].dtype=='object': \n",
    "        lbl = preprocessing.LabelEncoder()\n",
    "        lbl.fit(list(X_temp_test[f].values))\n",
    "        X_temp_test[f] = lbl.transform(list(X_temp_test[f].values))"
   ]
  },
  {
   "cell_type": "code",
   "execution_count": 74,
   "metadata": {},
   "outputs": [],
   "source": [
    "for i, e in enumerate(X_train['area_of_shot']):\n",
    "    if pd.isnull(e):\n",
    "        if not(pd.isnull(X_temp_train['location_y'].iloc[i]) or pd.isnull(X_temp_train['distance_of_shot'].iloc[i]) or pd.isnull(X_temp_train['location_x'].iloc[i]) or pd.isnull(X_temp_train['range_of_shot'].iloc[i])):\n",
    "            ar = X_temp_train[['location_y','distance_of_shot','location_x','range_of_shot']].iloc[i]\n",
    "            X_train['area_of_shot'].iloc[i] = clf_2.predict(ar.values.reshape(1,4))[0]\n",
    "\n",
    "for i, e in enumerate(X_test['area_of_shot']):\n",
    "    if pd.isnull(e):\n",
    "        if not(pd.isnull(X_temp_test['location_y'].iloc[i]) or pd.isnull(X_temp_test['distance_of_shot'].iloc[i]) or pd.isnull(X_temp_test['location_x'].iloc[i]) or pd.isnull(X_temp_test['range_of_shot'].iloc[i])):\n",
    "            ar = X_temp_test[['location_y','distance_of_shot','location_x','range_of_shot']].iloc[i]\n",
    "            X_test['area_of_shot'].iloc[i] = clf_2.predict(ar.values.reshape(1,4))[0]"
   ]
  },
  {
   "cell_type": "code",
   "execution_count": 78,
   "metadata": {},
   "outputs": [],
   "source": [
    "del X_temp_train, X_temp_test"
   ]
  },
  {
   "cell_type": "markdown",
   "metadata": {},
   "source": [
    "#### 3. shot_basics"
   ]
  },
  {
   "cell_type": "code",
   "execution_count": 79,
   "metadata": {},
   "outputs": [
    {
     "data": {
      "text/html": [
       "<div>\n",
       "<style scoped>\n",
       "    .dataframe tbody tr th:only-of-type {\n",
       "        vertical-align: middle;\n",
       "    }\n",
       "\n",
       "    .dataframe tbody tr th {\n",
       "        vertical-align: top;\n",
       "    }\n",
       "\n",
       "    .dataframe thead th {\n",
       "        text-align: right;\n",
       "    }\n",
       "</style>\n",
       "<table border=\"1\" class=\"dataframe\">\n",
       "  <thead>\n",
       "    <tr style=\"text-align: right;\">\n",
       "      <th></th>\n",
       "      <th>location_x</th>\n",
       "      <th>location_y</th>\n",
       "      <th>distance_of_shot</th>\n",
       "    </tr>\n",
       "    <tr>\n",
       "      <th>shot_basics</th>\n",
       "      <th></th>\n",
       "      <th></th>\n",
       "      <th></th>\n",
       "    </tr>\n",
       "  </thead>\n",
       "  <tbody>\n",
       "    <tr>\n",
       "      <th>Goal Area</th>\n",
       "      <td>0.325816</td>\n",
       "      <td>3.058356</td>\n",
       "      <td>20.745997</td>\n",
       "    </tr>\n",
       "    <tr>\n",
       "      <th>Goal Line</th>\n",
       "      <td>4.776946</td>\n",
       "      <td>70.180788</td>\n",
       "      <td>28.502105</td>\n",
       "    </tr>\n",
       "    <tr>\n",
       "      <th>Left Corner</th>\n",
       "      <td>-232.530806</td>\n",
       "      <td>19.952607</td>\n",
       "      <td>43.141964</td>\n",
       "    </tr>\n",
       "    <tr>\n",
       "      <th>Mid Ground Line</th>\n",
       "      <td>-4.959184</td>\n",
       "      <td>573.745098</td>\n",
       "      <td>77.947368</td>\n",
       "    </tr>\n",
       "    <tr>\n",
       "      <th>Mid Range</th>\n",
       "      <td>12.812714</td>\n",
       "      <td>96.252193</td>\n",
       "      <td>36.702603</td>\n",
       "    </tr>\n",
       "    <tr>\n",
       "      <th>Penalty Spot</th>\n",
       "      <td>3.498942</td>\n",
       "      <td>211.443579</td>\n",
       "      <td>45.599771</td>\n",
       "    </tr>\n",
       "    <tr>\n",
       "      <th>Right Corner</th>\n",
       "      <td>231.546667</td>\n",
       "      <td>18.829431</td>\n",
       "      <td>42.822930</td>\n",
       "    </tr>\n",
       "  </tbody>\n",
       "</table>\n",
       "</div>"
      ],
      "text/plain": [
       "                 location_x  location_y  distance_of_shot\n",
       "shot_basics                                              \n",
       "Goal Area          0.325816    3.058356         20.745997\n",
       "Goal Line          4.776946   70.180788         28.502105\n",
       "Left Corner     -232.530806   19.952607         43.141964\n",
       "Mid Ground Line   -4.959184  573.745098         77.947368\n",
       "Mid Range         12.812714   96.252193         36.702603\n",
       "Penalty Spot       3.498942  211.443579         45.599771\n",
       "Right Corner     231.546667   18.829431         42.822930"
      ]
     },
     "execution_count": 79,
     "metadata": {},
     "output_type": "execute_result"
    }
   ],
   "source": [
    "X_train[['location_x','location_y','distance_of_shot','area_of_shot','shot_basics']].groupby('shot_basics').mean()"
   ]
  },
  {
   "cell_type": "code",
   "execution_count": 80,
   "metadata": {},
   "outputs": [
    {
     "data": {
      "text/html": [
       "<div>\n",
       "<style scoped>\n",
       "    .dataframe tbody tr th:only-of-type {\n",
       "        vertical-align: middle;\n",
       "    }\n",
       "\n",
       "    .dataframe tbody tr th {\n",
       "        vertical-align: top;\n",
       "    }\n",
       "\n",
       "    .dataframe thead th {\n",
       "        text-align: right;\n",
       "    }\n",
       "</style>\n",
       "<table border=\"1\" class=\"dataframe\">\n",
       "  <thead>\n",
       "    <tr style=\"text-align: right;\">\n",
       "      <th></th>\n",
       "      <th></th>\n",
       "      <th></th>\n",
       "      <th>is_goal</th>\n",
       "    </tr>\n",
       "    <tr>\n",
       "      <th>range_of_shot</th>\n",
       "      <th>area_of_shot</th>\n",
       "      <th>shot_basics</th>\n",
       "      <th></th>\n",
       "    </tr>\n",
       "  </thead>\n",
       "  <tbody>\n",
       "    <tr>\n",
       "      <th rowspan=\"8\" valign=\"top\">16-24 ft.</th>\n",
       "      <th rowspan=\"2\" valign=\"top\">Center(C)</th>\n",
       "      <th>Goal Line</th>\n",
       "      <td>0.242424</td>\n",
       "    </tr>\n",
       "    <tr>\n",
       "      <th>Mid Range</th>\n",
       "      <td>0.402655</td>\n",
       "    </tr>\n",
       "    <tr>\n",
       "      <th>Left Side Center(LC)</th>\n",
       "      <th>Mid Range</th>\n",
       "      <td>0.411808</td>\n",
       "    </tr>\n",
       "    <tr>\n",
       "      <th rowspan=\"2\" valign=\"top\">Left Side(L)</th>\n",
       "      <th>Goal Line</th>\n",
       "      <td>0.000000</td>\n",
       "    </tr>\n",
       "    <tr>\n",
       "      <th>Mid Range</th>\n",
       "      <td>0.375789</td>\n",
       "    </tr>\n",
       "    <tr>\n",
       "      <th>Right Side Center(RC)</th>\n",
       "      <th>Mid Range</th>\n",
       "      <td>0.423673</td>\n",
       "    </tr>\n",
       "    <tr>\n",
       "      <th rowspan=\"2\" valign=\"top\">Right Side(R)</th>\n",
       "      <th>Goal Line</th>\n",
       "      <td>0.500000</td>\n",
       "    </tr>\n",
       "    <tr>\n",
       "      <th>Mid Range</th>\n",
       "      <td>0.374679</td>\n",
       "    </tr>\n",
       "    <tr>\n",
       "      <th rowspan=\"11\" valign=\"top\">24+ ft.</th>\n",
       "      <th rowspan=\"3\" valign=\"top\">Center(C)</th>\n",
       "      <th>Goal Line</th>\n",
       "      <td>0.333333</td>\n",
       "    </tr>\n",
       "    <tr>\n",
       "      <th>Mid Range</th>\n",
       "      <td>0.333333</td>\n",
       "    </tr>\n",
       "    <tr>\n",
       "      <th>Penalty Spot</th>\n",
       "      <td>0.323360</td>\n",
       "    </tr>\n",
       "    <tr>\n",
       "      <th rowspan=\"2\" valign=\"top\">Left Side Center(LC)</th>\n",
       "      <th>Mid Range</th>\n",
       "      <td>0.333333</td>\n",
       "    </tr>\n",
       "    <tr>\n",
       "      <th>Penalty Spot</th>\n",
       "      <td>0.319788</td>\n",
       "    </tr>\n",
       "    <tr>\n",
       "      <th rowspan=\"2\" valign=\"top\">Left Side(L)</th>\n",
       "      <th>Left Corner</th>\n",
       "      <td>0.364444</td>\n",
       "    </tr>\n",
       "    <tr>\n",
       "      <th>Mid Range</th>\n",
       "      <td>1.000000</td>\n",
       "    </tr>\n",
       "    <tr>\n",
       "      <th rowspan=\"2\" valign=\"top\">Right Side Center(RC)</th>\n",
       "      <th>Mid Range</th>\n",
       "      <td>0.250000</td>\n",
       "    </tr>\n",
       "    <tr>\n",
       "      <th>Penalty Spot</th>\n",
       "      <td>0.343835</td>\n",
       "    </tr>\n",
       "    <tr>\n",
       "      <th rowspan=\"2\" valign=\"top\">Right Side(R)</th>\n",
       "      <th>Mid Range</th>\n",
       "      <td>0.333333</td>\n",
       "    </tr>\n",
       "    <tr>\n",
       "      <th>Right Corner</th>\n",
       "      <td>0.340694</td>\n",
       "    </tr>\n",
       "    <tr>\n",
       "      <th rowspan=\"6\" valign=\"top\">8-16 ft.</th>\n",
       "      <th rowspan=\"2\" valign=\"top\">Center(C)</th>\n",
       "      <th>Goal Line</th>\n",
       "      <td>0.487478</td>\n",
       "    </tr>\n",
       "    <tr>\n",
       "      <th>Mid Range</th>\n",
       "      <td>0.495763</td>\n",
       "    </tr>\n",
       "    <tr>\n",
       "      <th rowspan=\"2\" valign=\"top\">Left Side(L)</th>\n",
       "      <th>Goal Line</th>\n",
       "      <td>0.407692</td>\n",
       "    </tr>\n",
       "    <tr>\n",
       "      <th>Mid Range</th>\n",
       "      <td>0.411374</td>\n",
       "    </tr>\n",
       "    <tr>\n",
       "      <th rowspan=\"2\" valign=\"top\">Right Side(R)</th>\n",
       "      <th>Goal Line</th>\n",
       "      <td>0.457143</td>\n",
       "    </tr>\n",
       "    <tr>\n",
       "      <th>Mid Range</th>\n",
       "      <td>0.405270</td>\n",
       "    </tr>\n",
       "    <tr>\n",
       "      <th rowspan=\"3\" valign=\"top\">Back Court Shot</th>\n",
       "      <th>Center(C)</th>\n",
       "      <th>Penalty Spot</th>\n",
       "      <td>0.000000</td>\n",
       "    </tr>\n",
       "    <tr>\n",
       "      <th rowspan=\"2\" valign=\"top\">Mid Ground(MG)</th>\n",
       "      <th>Mid Ground Line</th>\n",
       "      <td>0.017544</td>\n",
       "    </tr>\n",
       "    <tr>\n",
       "      <th>Penalty Spot</th>\n",
       "      <td>0.000000</td>\n",
       "    </tr>\n",
       "    <tr>\n",
       "      <th rowspan=\"7\" valign=\"top\">Less Than 8 ft.</th>\n",
       "      <th rowspan=\"3\" valign=\"top\">Center(C)</th>\n",
       "      <th>Goal Area</th>\n",
       "      <td>0.618073</td>\n",
       "    </tr>\n",
       "    <tr>\n",
       "      <th>Goal Line</th>\n",
       "      <td>0.439815</td>\n",
       "    </tr>\n",
       "    <tr>\n",
       "      <th>Mid Range</th>\n",
       "      <td>1.000000</td>\n",
       "    </tr>\n",
       "    <tr>\n",
       "      <th rowspan=\"2\" valign=\"top\">Left Side(L)</th>\n",
       "      <th>Goal Line</th>\n",
       "      <td>0.666667</td>\n",
       "    </tr>\n",
       "    <tr>\n",
       "      <th>Mid Range</th>\n",
       "      <td>0.000000</td>\n",
       "    </tr>\n",
       "    <tr>\n",
       "      <th rowspan=\"2\" valign=\"top\">Right Side(R)</th>\n",
       "      <th>Goal Line</th>\n",
       "      <td>0.800000</td>\n",
       "    </tr>\n",
       "    <tr>\n",
       "      <th>Mid Range</th>\n",
       "      <td>0.333333</td>\n",
       "    </tr>\n",
       "  </tbody>\n",
       "</table>\n",
       "</div>"
      ],
      "text/plain": [
       "                                                        is_goal\n",
       "range_of_shot   area_of_shot          shot_basics              \n",
       "16-24 ft.       Center(C)             Goal Line        0.242424\n",
       "                                      Mid Range        0.402655\n",
       "                Left Side Center(LC)  Mid Range        0.411808\n",
       "                Left Side(L)          Goal Line        0.000000\n",
       "                                      Mid Range        0.375789\n",
       "                Right Side Center(RC) Mid Range        0.423673\n",
       "                Right Side(R)         Goal Line        0.500000\n",
       "                                      Mid Range        0.374679\n",
       "24+ ft.         Center(C)             Goal Line        0.333333\n",
       "                                      Mid Range        0.333333\n",
       "                                      Penalty Spot     0.323360\n",
       "                Left Side Center(LC)  Mid Range        0.333333\n",
       "                                      Penalty Spot     0.319788\n",
       "                Left Side(L)          Left Corner      0.364444\n",
       "                                      Mid Range        1.000000\n",
       "                Right Side Center(RC) Mid Range        0.250000\n",
       "                                      Penalty Spot     0.343835\n",
       "                Right Side(R)         Mid Range        0.333333\n",
       "                                      Right Corner     0.340694\n",
       "8-16 ft.        Center(C)             Goal Line        0.487478\n",
       "                                      Mid Range        0.495763\n",
       "                Left Side(L)          Goal Line        0.407692\n",
       "                                      Mid Range        0.411374\n",
       "                Right Side(R)         Goal Line        0.457143\n",
       "                                      Mid Range        0.405270\n",
       "Back Court Shot Center(C)             Penalty Spot     0.000000\n",
       "                Mid Ground(MG)        Mid Ground Line  0.017544\n",
       "                                      Penalty Spot     0.000000\n",
       "Less Than 8 ft. Center(C)             Goal Area        0.618073\n",
       "                                      Goal Line        0.439815\n",
       "                                      Mid Range        1.000000\n",
       "                Left Side(L)          Goal Line        0.666667\n",
       "                                      Mid Range        0.000000\n",
       "                Right Side(R)         Goal Line        0.800000\n",
       "                                      Mid Range        0.333333"
      ]
     },
     "execution_count": 80,
     "metadata": {},
     "output_type": "execute_result"
    }
   ],
   "source": [
    "X_train.pivot_table(index = ['range_of_shot','area_of_shot','shot_basics'], values= 'is_goal')"
   ]
  },
  {
   "cell_type": "markdown",
   "metadata": {},
   "source": [
    "#### I will be using randomforestclassifier for this also."
   ]
  },
  {
   "cell_type": "code",
   "execution_count": 81,
   "metadata": {},
   "outputs": [],
   "source": [
    "X_3 = data_df[['range_of_shot','location_y','distance_of_shot','location_x','area_of_shot','shot_basics']].copy()\n",
    "X_3 = X_3.dropna()\n",
    "X_train3 = X_3[['location_y','distance_of_shot','location_x','range_of_shot','area_of_shot']]\n",
    "y_train3 = X_3['shot_basics']"
   ]
  },
  {
   "cell_type": "code",
   "execution_count": 83,
   "metadata": {},
   "outputs": [],
   "source": [
    "for f in X_train3.columns:\n",
    "    if X_train3[f].dtype=='object': \n",
    "        lbl = preprocessing.LabelEncoder()\n",
    "        lbl.fit(list(X_train3[f].values))\n",
    "        X_train3[f] = lbl.transform(list(X_train3[f].values))"
   ]
  },
  {
   "cell_type": "code",
   "execution_count": 85,
   "metadata": {},
   "outputs": [
    {
     "data": {
      "text/plain": [
       "RandomForestClassifier(bootstrap=True, class_weight=None, criterion='gini',\n",
       "            max_depth=None, max_features='auto', max_leaf_nodes=None,\n",
       "            min_impurity_decrease=0.0, min_impurity_split=None,\n",
       "            min_samples_leaf=1, min_samples_split=2,\n",
       "            min_weight_fraction_leaf=0.0, n_estimators=1000, n_jobs=None,\n",
       "            oob_score=False, random_state=0, verbose=0, warm_start=False)"
      ]
     },
     "execution_count": 85,
     "metadata": {},
     "output_type": "execute_result"
    }
   ],
   "source": [
    "clf_3 = RandomForestClassifier(n_estimators=1000,random_state=0)\n",
    "clf_3.fit(X_train3,y_train3)"
   ]
  },
  {
   "cell_type": "code",
   "execution_count": 86,
   "metadata": {},
   "outputs": [],
   "source": [
    "X_temp_train = X_train[['location_y','distance_of_shot','location_x','range_of_shot','area_of_shot']].copy()\n",
    "for f in X_temp_train.columns:\n",
    "    if X_temp_train[f].dtype=='object': \n",
    "        lbl = preprocessing.LabelEncoder()\n",
    "        lbl.fit(list(X_temp_train[f].values))\n",
    "        X_temp_train[f] = lbl.transform(list(X_temp_train[f].values))\n",
    "\n",
    "X_temp_test = X_test[['location_y','distance_of_shot','location_x','range_of_shot','area_of_shot']].copy()\n",
    "for f in X_temp_test.columns:\n",
    "    if X_temp_test[f].dtype=='object': \n",
    "        lbl = preprocessing.LabelEncoder()\n",
    "        lbl.fit(list(X_temp_test[f].values))\n",
    "        X_temp_test[f] = lbl.transform(list(X_temp_test[f].values))"
   ]
  },
  {
   "cell_type": "code",
   "execution_count": 88,
   "metadata": {},
   "outputs": [],
   "source": [
    "for i, e in enumerate(X_train['shot_basics']):\n",
    "    if pd.isnull(e):\n",
    "        if not(pd.isnull(X_temp_train['location_y'].iloc[i]) or pd.isnull(X_temp_train['distance_of_shot'].iloc[i]) or pd.isnull(X_temp_train['location_x'].iloc[i]) or pd.isnull(X_temp_train['range_of_shot'].iloc[i]) or pd.isnull(X_temp_train['area_of_shot'].iloc[i])):\n",
    "            ar = X_temp_train[['location_y','distance_of_shot','location_x','range_of_shot','area_of_shot']].iloc[i]\n",
    "            X_train['shot_basics'].iloc[i] = clf_3.predict(ar.values.reshape(1,5))[0]\n",
    "\n",
    "for i, e in enumerate(X_test['shot_basics']):\n",
    "    if pd.isnull(e):\n",
    "        if not(pd.isnull(X_temp_test['location_y'].iloc[i]) or pd.isnull(X_temp_test['distance_of_shot'].iloc[i]) or pd.isnull(X_temp_test['location_x'].iloc[i]) or pd.isnull(X_temp_test['range_of_shot'].iloc[i]) or pd.isnull(X_temp_test['area_of_shot'].iloc[i])):\n",
    "            ar = X_temp_test[['location_y','distance_of_shot','location_x','range_of_shot','area_of_shot']].iloc[i]\n",
    "            X_test['shot_basics'].iloc[i] = clf_3.predict(ar.values.reshape(1,5))[0]"
   ]
  },
  {
   "cell_type": "code",
   "execution_count": 98,
   "metadata": {},
   "outputs": [],
   "source": [
    "del X_temp_train, X_temp_test"
   ]
  },
  {
   "cell_type": "code",
   "execution_count": 110,
   "metadata": {},
   "outputs": [],
   "source": [
    "X_1 = data_df[['range_of_shot','location_y','distance_of_shot']].copy()\n",
    "X_1 = X_1.dropna()\n",
    "X_train1 = X_1[['location_y','distance_of_shot']]\n",
    "y_train1 = X_1['range_of_shot']"
   ]
  },
  {
   "cell_type": "markdown",
   "metadata": {},
   "source": [
    "#### 1. Range of shot"
   ]
  },
  {
   "cell_type": "code",
   "execution_count": 111,
   "metadata": {},
   "outputs": [
    {
     "data": {
      "text/plain": [
       "XGBClassifier(base_score=0.5, booster='gbtree', colsample_bylevel=1,\n",
       "       colsample_bynode=1, colsample_bytree=0.9, gamma=0,\n",
       "       learning_rate=0.05, max_delta_step=0, max_depth=9,\n",
       "       min_child_weight=1, missing=None, n_estimators=500, n_jobs=4,\n",
       "       nthread=None, objective='multi:softprob', random_state=0,\n",
       "       reg_alpha=0, reg_lambda=1, scale_pos_weight=1, seed=None,\n",
       "       silent=None, subsample=0.9, verbosity=1)"
      ]
     },
     "execution_count": 111,
     "metadata": {},
     "output_type": "execute_result"
    }
   ],
   "source": [
    "clf_4 = xgb.XGBClassifier(n_estimators=500,\n",
    "                        n_jobs=4,\n",
    "                        max_depth=9,\n",
    "                        learning_rate=0.05,\n",
    "                        subsample=0.9,\n",
    "                        colsample_bytree=0.9,\n",
    "                        missing=np.nan)\n",
    "clf_4.fit(X_train1,y_train1)"
   ]
  },
  {
   "cell_type": "code",
   "execution_count": 117,
   "metadata": {},
   "outputs": [],
   "source": [
    "X_train['range_of_shot.1'] = clf_4.predict(X_train[['location_y','distance_of_shot']])"
   ]
  },
  {
   "cell_type": "code",
   "execution_count": 120,
   "metadata": {},
   "outputs": [],
   "source": [
    "X_train['range_of_shot'] = X_train['range_of_shot'].fillna(X_train['range_of_shot.1'])\n",
    "X_train.drop(['range_of_shot.1'], axis = 1, inplace = True)"
   ]
  },
  {
   "cell_type": "code",
   "execution_count": 121,
   "metadata": {},
   "outputs": [],
   "source": [
    "X_test['range_of_shot.1'] = clf_4.predict(X_test[['location_y','distance_of_shot']])"
   ]
  },
  {
   "cell_type": "code",
   "execution_count": 122,
   "metadata": {},
   "outputs": [],
   "source": [
    "X_test['range_of_shot'] = X_test['range_of_shot'].fillna(X_test['range_of_shot.1'])\n",
    "X_test.drop(['range_of_shot.1'], axis = 1, inplace = True)"
   ]
  },
  {
   "cell_type": "markdown",
   "metadata": {},
   "source": [
    "#### 2. area_of_shot"
   ]
  },
  {
   "cell_type": "code",
   "execution_count": 124,
   "metadata": {},
   "outputs": [],
   "source": [
    "X_2 = data_df[['range_of_shot','location_y','distance_of_shot','location_x','area_of_shot']].copy()\n",
    "X_2 = X_2.dropna()\n",
    "X_train2 = X_2[['location_y','distance_of_shot','location_x','range_of_shot']]\n",
    "y_train2 = X_2['area_of_shot']"
   ]
  },
  {
   "cell_type": "code",
   "execution_count": 125,
   "metadata": {},
   "outputs": [],
   "source": [
    "for f in X_train2.columns:\n",
    "    if X_train2[f].dtype=='object': \n",
    "        lbl = preprocessing.LabelEncoder()\n",
    "        lbl.fit(list(X_train2[f].values))\n",
    "        X_train2[f] = lbl.transform(list(X_train2[f].values))"
   ]
  },
  {
   "cell_type": "code",
   "execution_count": 126,
   "metadata": {},
   "outputs": [
    {
     "data": {
      "text/plain": [
       "XGBClassifier(base_score=0.5, booster='gbtree', colsample_bylevel=1,\n",
       "       colsample_bynode=1, colsample_bytree=0.9, gamma=0,\n",
       "       learning_rate=0.05, max_delta_step=0, max_depth=9,\n",
       "       min_child_weight=1, missing=None, n_estimators=500, n_jobs=4,\n",
       "       nthread=None, objective='multi:softprob', random_state=0,\n",
       "       reg_alpha=0, reg_lambda=1, scale_pos_weight=1, seed=None,\n",
       "       silent=None, subsample=0.9, verbosity=1)"
      ]
     },
     "execution_count": 126,
     "metadata": {},
     "output_type": "execute_result"
    }
   ],
   "source": [
    "clf_4.fit(X_train2,y_train2)"
   ]
  },
  {
   "cell_type": "code",
   "execution_count": 127,
   "metadata": {},
   "outputs": [],
   "source": [
    "x_train = X_train[['location_y','distance_of_shot','location_x','range_of_shot']].copy()\n",
    "x_test = X_test[['location_y','distance_of_shot','location_x','range_of_shot']].copy()\n",
    "for f in x_train.columns:\n",
    "    if x_train[f].dtype=='object': \n",
    "        lbl = preprocessing.LabelEncoder()\n",
    "        lbl.fit(list(x_train[f].values))\n",
    "        x_train[f] = lbl.transform(list(x_train[f].values))\n",
    "for f in x_test.columns:\n",
    "    if x_test[f].dtype=='object': \n",
    "        lbl = preprocessing.LabelEncoder()\n",
    "        lbl.fit(list(x_test[f].values))\n",
    "        x_test[f] = lbl.transform(list(x_test[f].values))"
   ]
  },
  {
   "cell_type": "code",
   "execution_count": 128,
   "metadata": {},
   "outputs": [],
   "source": [
    "X_train['area_of_shot.1'] = clf_4.predict(x_train)\n",
    "X_test['area_of_shot.1'] = clf_4.predict(x_test)"
   ]
  },
  {
   "cell_type": "code",
   "execution_count": 130,
   "metadata": {},
   "outputs": [],
   "source": [
    "X_train['area_of_shot'] = X_train['area_of_shot'].fillna(X_train['area_of_shot.1'])\n",
    "X_test['area_of_shot'] = X_test['area_of_shot'].fillna(X_test['area_of_shot.1'])\n",
    "X_train.drop(['area_of_shot.1'], axis = 1, inplace = True)\n",
    "X_test.drop(['area_of_shot.1'], axis = 1, inplace = True)"
   ]
  },
  {
   "cell_type": "code",
   "execution_count": 132,
   "metadata": {},
   "outputs": [],
   "source": [
    "del x_train, x_test"
   ]
  },
  {
   "cell_type": "markdown",
   "metadata": {},
   "source": [
    "#### 3. shot_basics"
   ]
  },
  {
   "cell_type": "code",
   "execution_count": 136,
   "metadata": {},
   "outputs": [],
   "source": [
    "X_3 = data_df[['range_of_shot','location_y','distance_of_shot','location_x','area_of_shot','shot_basics']].copy()\n",
    "X_3 = X_3.dropna()\n",
    "X_train3 = X_3[['location_y','distance_of_shot','location_x','range_of_shot','area_of_shot']]\n",
    "y_train3 = X_3['shot_basics']"
   ]
  },
  {
   "cell_type": "code",
   "execution_count": 137,
   "metadata": {},
   "outputs": [],
   "source": [
    "for f in X_train3.columns:\n",
    "    if X_train3[f].dtype=='object': \n",
    "        lbl = preprocessing.LabelEncoder()\n",
    "        lbl.fit(list(X_train3[f].values))\n",
    "        X_train3[f] = lbl.transform(list(X_train3[f].values))"
   ]
  },
  {
   "cell_type": "code",
   "execution_count": 138,
   "metadata": {},
   "outputs": [
    {
     "data": {
      "text/plain": [
       "XGBClassifier(base_score=0.5, booster='gbtree', colsample_bylevel=1,\n",
       "       colsample_bynode=1, colsample_bytree=0.9, gamma=0,\n",
       "       learning_rate=0.05, max_delta_step=0, max_depth=9,\n",
       "       min_child_weight=1, missing=None, n_estimators=500, n_jobs=4,\n",
       "       nthread=None, objective='multi:softprob', random_state=0,\n",
       "       reg_alpha=0, reg_lambda=1, scale_pos_weight=1, seed=None,\n",
       "       silent=None, subsample=0.9, verbosity=1)"
      ]
     },
     "execution_count": 138,
     "metadata": {},
     "output_type": "execute_result"
    }
   ],
   "source": [
    "clf_4.fit(X_train3,y_train3)"
   ]
  },
  {
   "cell_type": "code",
   "execution_count": 139,
   "metadata": {},
   "outputs": [],
   "source": [
    "x_train = X_train[['location_y','distance_of_shot','location_x','range_of_shot','area_of_shot']].copy()\n",
    "x_test = X_test[['location_y','distance_of_shot','location_x','range_of_shot','area_of_shot']].copy()\n",
    "for f in x_train.columns:\n",
    "    if x_train[f].dtype=='object': \n",
    "        lbl = preprocessing.LabelEncoder()\n",
    "        lbl.fit(list(x_train[f].values))\n",
    "        x_train[f] = lbl.transform(list(x_train[f].values))\n",
    "for f in x_test.columns:\n",
    "    if x_test[f].dtype=='object': \n",
    "        lbl = preprocessing.LabelEncoder()\n",
    "        lbl.fit(list(x_test[f].values))\n",
    "        x_test[f] = lbl.transform(list(x_test[f].values))"
   ]
  },
  {
   "cell_type": "code",
   "execution_count": 140,
   "metadata": {},
   "outputs": [],
   "source": [
    "X_train['shot_basics.1'] = clf_4.predict(x_train)\n",
    "X_test['shot_basics.1'] = clf_4.predict(x_test)"
   ]
  },
  {
   "cell_type": "code",
   "execution_count": 142,
   "metadata": {},
   "outputs": [],
   "source": [
    "X_train['shot_basics'] = X_train['shot_basics'].fillna(X_train['shot_basics.1'])\n",
    "X_test['shot_basics'] = X_test['shot_basics'].fillna(X_test['shot_basics.1'])\n",
    "X_train.drop(['shot_basics.1'], axis = 1, inplace = True)\n",
    "X_test.drop(['shot_basics.1'], axis = 1, inplace = True)"
   ]
  },
  {
   "cell_type": "markdown",
   "metadata": {},
   "source": [
    "#### 4. distance_of_shot"
   ]
  },
  {
   "cell_type": "code",
   "execution_count": 149,
   "metadata": {},
   "outputs": [],
   "source": [
    "clf_5 = xgb.XGBRegressor(missing = np.nan)"
   ]
  },
  {
   "cell_type": "code",
   "execution_count": 151,
   "metadata": {},
   "outputs": [],
   "source": [
    "X_3 = data_df[['range_of_shot','location_y','distance_of_shot','location_x','area_of_shot','shot_basics']].copy()\n",
    "X_3 = X_3.dropna()\n",
    "X_train3 = X_3[['location_y','location_x','range_of_shot','area_of_shot','shot_basics']]\n",
    "y_train3 = X_3['distance_of_shot']"
   ]
  },
  {
   "cell_type": "code",
   "execution_count": 152,
   "metadata": {},
   "outputs": [],
   "source": [
    "for f in X_train3.columns:\n",
    "    if X_train3[f].dtype=='object': \n",
    "        lbl = preprocessing.LabelEncoder()\n",
    "        lbl.fit(list(X_train3[f].values))\n",
    "        X_train3[f] = lbl.transform(list(X_train3[f].values))"
   ]
  },
  {
   "cell_type": "code",
   "execution_count": 153,
   "metadata": {},
   "outputs": [
    {
     "name": "stdout",
     "output_type": "stream",
     "text": [
      "[00:52:40] WARNING: C:/Jenkins/workspace/xgboost-win64_release_0.90/src/objective/regression_obj.cu:152: reg:linear is now deprecated in favor of reg:squarederror.\n"
     ]
    },
    {
     "data": {
      "text/plain": [
       "XGBRegressor(base_score=0.5, booster='gbtree', colsample_bylevel=1,\n",
       "       colsample_bynode=1, colsample_bytree=1, gamma=0,\n",
       "       importance_type='gain', learning_rate=0.1, max_delta_step=0,\n",
       "       max_depth=3, min_child_weight=1, missing=None, n_estimators=100,\n",
       "       n_jobs=1, nthread=None, objective='reg:linear', random_state=0,\n",
       "       reg_alpha=0, reg_lambda=1, scale_pos_weight=1, seed=None,\n",
       "       silent=None, subsample=1, verbosity=1)"
      ]
     },
     "execution_count": 153,
     "metadata": {},
     "output_type": "execute_result"
    }
   ],
   "source": [
    "clf_5.fit(X_train3,y_train3)"
   ]
  },
  {
   "cell_type": "code",
   "execution_count": 154,
   "metadata": {},
   "outputs": [],
   "source": [
    "x_train = X_train[['location_y','location_x','range_of_shot','area_of_shot','shot_basics']].copy()\n",
    "x_test = X_test[['location_y','location_x','range_of_shot','area_of_shot','shot_basics']].copy()\n",
    "for f in x_train.columns:\n",
    "    if x_train[f].dtype=='object': \n",
    "        lbl = preprocessing.LabelEncoder()\n",
    "        lbl.fit(list(x_train[f].values))\n",
    "        x_train[f] = lbl.transform(list(x_train[f].values))\n",
    "for f in x_test.columns:\n",
    "    if x_test[f].dtype=='object': \n",
    "        lbl = preprocessing.LabelEncoder()\n",
    "        lbl.fit(list(x_test[f].values))\n",
    "        x_test[f] = lbl.transform(list(x_test[f].values))"
   ]
  },
  {
   "cell_type": "code",
   "execution_count": 156,
   "metadata": {},
   "outputs": [],
   "source": [
    "X_train['distance_of_shot.1'] = clf_5.predict(x_train)\n",
    "X_test['distance_of_shot.1'] = clf_5.predict(x_test)"
   ]
  },
  {
   "cell_type": "code",
   "execution_count": 158,
   "metadata": {},
   "outputs": [],
   "source": [
    "X_train['distance_of_shot'] = X_train['distance_of_shot'].fillna(X_train['distance_of_shot.1'])\n",
    "X_test['distance_of_shot'] = X_test['distance_of_shot'].fillna(X_test['distance_of_shot.1'])\n",
    "X_train.drop(['distance_of_shot.1'], axis = 1, inplace = True)\n",
    "X_test.drop(['distance_of_shot.1'], axis = 1, inplace = True)"
   ]
  },
  {
   "cell_type": "markdown",
   "metadata": {},
   "source": [
    "#### 5. location_x"
   ]
  },
  {
   "cell_type": "code",
   "execution_count": 159,
   "metadata": {},
   "outputs": [],
   "source": [
    "X_3 = data_df[['range_of_shot','location_y','distance_of_shot','location_x','area_of_shot','shot_basics']].copy()\n",
    "X_3 = X_3.dropna()\n",
    "X_train3 = X_3[['location_y','range_of_shot','area_of_shot','shot_basics','distance_of_shot']]\n",
    "y_train3 = X_3['location_x']"
   ]
  },
  {
   "cell_type": "code",
   "execution_count": 160,
   "metadata": {},
   "outputs": [],
   "source": [
    "for f in X_train3.columns:\n",
    "    if X_train3[f].dtype=='object': \n",
    "        lbl = preprocessing.LabelEncoder()\n",
    "        lbl.fit(list(X_train3[f].values))\n",
    "        X_train3[f] = lbl.transform(list(X_train3[f].values))"
   ]
  },
  {
   "cell_type": "code",
   "execution_count": 161,
   "metadata": {},
   "outputs": [
    {
     "name": "stdout",
     "output_type": "stream",
     "text": [
      "[00:57:20] WARNING: C:/Jenkins/workspace/xgboost-win64_release_0.90/src/objective/regression_obj.cu:152: reg:linear is now deprecated in favor of reg:squarederror.\n"
     ]
    },
    {
     "data": {
      "text/plain": [
       "XGBRegressor(base_score=0.5, booster='gbtree', colsample_bylevel=1,\n",
       "       colsample_bynode=1, colsample_bytree=1, gamma=0,\n",
       "       importance_type='gain', learning_rate=0.1, max_delta_step=0,\n",
       "       max_depth=3, min_child_weight=1, missing=None, n_estimators=100,\n",
       "       n_jobs=1, nthread=None, objective='reg:linear', random_state=0,\n",
       "       reg_alpha=0, reg_lambda=1, scale_pos_weight=1, seed=None,\n",
       "       silent=None, subsample=1, verbosity=1)"
      ]
     },
     "execution_count": 161,
     "metadata": {},
     "output_type": "execute_result"
    }
   ],
   "source": [
    "clf_5.fit(X_train3,y_train3)"
   ]
  },
  {
   "cell_type": "code",
   "execution_count": 162,
   "metadata": {},
   "outputs": [],
   "source": [
    "x_train = X_train[['location_y','range_of_shot','area_of_shot','shot_basics','distance_of_shot']].copy()\n",
    "x_test = X_test[['location_y','range_of_shot','area_of_shot','shot_basics','distance_of_shot']].copy()\n",
    "for f in x_train.columns:\n",
    "    if x_train[f].dtype=='object': \n",
    "        lbl = preprocessing.LabelEncoder()\n",
    "        lbl.fit(list(x_train[f].values))\n",
    "        x_train[f] = lbl.transform(list(x_train[f].values))\n",
    "for f in x_test.columns:\n",
    "    if x_test[f].dtype=='object': \n",
    "        lbl = preprocessing.LabelEncoder()\n",
    "        lbl.fit(list(x_test[f].values))\n",
    "        x_test[f] = lbl.transform(list(x_test[f].values))"
   ]
  },
  {
   "cell_type": "code",
   "execution_count": 163,
   "metadata": {},
   "outputs": [],
   "source": [
    "X_train['location_x.1'] = clf_5.predict(x_train)\n",
    "X_test['location_x.1'] = clf_5.predict(x_test)"
   ]
  },
  {
   "cell_type": "code",
   "execution_count": 167,
   "metadata": {},
   "outputs": [],
   "source": [
    "X_train['location_x'] = X_train['location_x'].fillna(X_train['location_x.1'])\n",
    "X_test['location_x'] = X_test['location_x'].fillna(X_test['location_x.1'])\n",
    "X_train.drop(['location_x.1'], axis = 1, inplace = True)\n",
    "X_test.drop(['location_x.1'], axis = 1, inplace = True)"
   ]
  },
  {
   "cell_type": "markdown",
   "metadata": {},
   "source": [
    "#### 6. location_y"
   ]
  },
  {
   "cell_type": "code",
   "execution_count": 169,
   "metadata": {},
   "outputs": [],
   "source": [
    "X_3 = data_df[['range_of_shot','location_y','distance_of_shot','location_x','area_of_shot','shot_basics']].copy()\n",
    "X_3 = X_3.dropna()\n",
    "X_train3 = X_3[['location_x','range_of_shot','area_of_shot','shot_basics','distance_of_shot']]\n",
    "y_train3 = X_3['location_y']"
   ]
  },
  {
   "cell_type": "code",
   "execution_count": 170,
   "metadata": {},
   "outputs": [],
   "source": [
    "for f in X_train3.columns:\n",
    "    if X_train3[f].dtype=='object': \n",
    "        lbl = preprocessing.LabelEncoder()\n",
    "        lbl.fit(list(X_train3[f].values))\n",
    "        X_train3[f] = lbl.transform(list(X_train3[f].values))"
   ]
  },
  {
   "cell_type": "code",
   "execution_count": 171,
   "metadata": {},
   "outputs": [
    {
     "name": "stdout",
     "output_type": "stream",
     "text": [
      "[01:08:26] WARNING: C:/Jenkins/workspace/xgboost-win64_release_0.90/src/objective/regression_obj.cu:152: reg:linear is now deprecated in favor of reg:squarederror.\n"
     ]
    },
    {
     "data": {
      "text/plain": [
       "XGBRegressor(base_score=0.5, booster='gbtree', colsample_bylevel=1,\n",
       "       colsample_bynode=1, colsample_bytree=1, gamma=0,\n",
       "       importance_type='gain', learning_rate=0.1, max_delta_step=0,\n",
       "       max_depth=3, min_child_weight=1, missing=None, n_estimators=100,\n",
       "       n_jobs=1, nthread=None, objective='reg:linear', random_state=0,\n",
       "       reg_alpha=0, reg_lambda=1, scale_pos_weight=1, seed=None,\n",
       "       silent=None, subsample=1, verbosity=1)"
      ]
     },
     "execution_count": 171,
     "metadata": {},
     "output_type": "execute_result"
    }
   ],
   "source": [
    "clf_5.fit(X_train3,y_train3)"
   ]
  },
  {
   "cell_type": "code",
   "execution_count": 172,
   "metadata": {},
   "outputs": [],
   "source": [
    "x_train = X_train[['location_x','range_of_shot','area_of_shot','shot_basics','distance_of_shot']].copy()\n",
    "x_test = X_test[['location_x','range_of_shot','area_of_shot','shot_basics','distance_of_shot']].copy()\n",
    "for f in x_train.columns:\n",
    "    if x_train[f].dtype=='object': \n",
    "        lbl = preprocessing.LabelEncoder()\n",
    "        lbl.fit(list(x_train[f].values))\n",
    "        x_train[f] = lbl.transform(list(x_train[f].values))\n",
    "for f in x_test.columns:\n",
    "    if x_test[f].dtype=='object': \n",
    "        lbl = preprocessing.LabelEncoder()\n",
    "        lbl.fit(list(x_test[f].values))\n",
    "        x_test[f] = lbl.transform(list(x_test[f].values))"
   ]
  },
  {
   "cell_type": "code",
   "execution_count": 173,
   "metadata": {},
   "outputs": [],
   "source": [
    "X_train['location_y.1'] = clf_5.predict(x_train)\n",
    "X_test['location_y.1'] = clf_5.predict(x_test)"
   ]
  },
  {
   "cell_type": "code",
   "execution_count": 175,
   "metadata": {},
   "outputs": [],
   "source": [
    "X_train['location_y'] = X_train['location_y'].fillna(X_train['location_y.1'])\n",
    "X_test['location_y'] = X_test['location_y'].fillna(X_test['location_y.1'])\n",
    "X_train.drop(['location_y.1'], axis = 1, inplace = True)\n",
    "X_test.drop(['location_y.1'], axis = 1, inplace = True)"
   ]
  },
  {
   "cell_type": "markdown",
   "metadata": {},
   "source": [
    "#### 7. remaining_min and remaining_sec"
   ]
  },
  {
   "cell_type": "code",
   "execution_count": 177,
   "metadata": {},
   "outputs": [],
   "source": [
    "X_train['remaining_min.1'] = X_train['remaining_min'].mean()"
   ]
  },
  {
   "cell_type": "code",
   "execution_count": 178,
   "metadata": {},
   "outputs": [],
   "source": [
    "X_test['remaining_min.1'] = X_test['remaining_min'].mean()"
   ]
  },
  {
   "cell_type": "code",
   "execution_count": 179,
   "metadata": {},
   "outputs": [],
   "source": [
    "X_test['remaining_sec.1'] = X_test['remaining_sec'].mean()\n",
    "X_train['remaining_sec.1'] = X_train['remaining_sec'].mean()"
   ]
  },
  {
   "cell_type": "code",
   "execution_count": 180,
   "metadata": {},
   "outputs": [],
   "source": [
    "X_train['remaining_sec'] = X_train['remaining_sec'].fillna(X_train['remaining_sec.1'])\n",
    "X_test['remaining_sec'] = X_test['remaining_sec'].fillna(X_test['remaining_sec.1'])\n",
    "X_train.drop(['remaining_sec.1'], axis = 1, inplace = True)\n",
    "X_test.drop(['remaining_sec.1'], axis = 1, inplace = True)"
   ]
  },
  {
   "cell_type": "code",
   "execution_count": 181,
   "metadata": {},
   "outputs": [],
   "source": [
    "X_train['remaining_min'] = X_train['remaining_min'].fillna(X_train['remaining_min.1'])\n",
    "X_test['remaining_min'] = X_test['remaining_min'].fillna(X_test['remaining_min.1'])\n",
    "X_train.drop(['remaining_min.1'], axis = 1, inplace = True)\n",
    "X_test.drop(['remaining_min.1'], axis = 1, inplace = True)"
   ]
  },
  {
   "cell_type": "markdown",
   "metadata": {},
   "source": [
    "#### 8. power_of_shot"
   ]
  },
  {
   "cell_type": "code",
   "execution_count": 193,
   "metadata": {},
   "outputs": [],
   "source": [
    "X_3 = data_df[['range_of_shot','area_of_shot','shot_basics','type_of_shot','power_of_shot']].copy()\n",
    "X_3 = X_3.dropna()\n",
    "X_train3 = X_3[['range_of_shot','area_of_shot','shot_basics','type_of_shot']]\n",
    "y_train3 = X_3['power_of_shot']"
   ]
  },
  {
   "cell_type": "code",
   "execution_count": 194,
   "metadata": {},
   "outputs": [],
   "source": [
    "for f in X_train3.columns:\n",
    "    if X_train3[f].dtype=='object': \n",
    "        lbl = preprocessing.LabelEncoder()\n",
    "        lbl.fit(list(X_train3[f].values))\n",
    "        X_train3[f] = lbl.transform(list(X_train3[f].values))"
   ]
  },
  {
   "cell_type": "code",
   "execution_count": 195,
   "metadata": {},
   "outputs": [
    {
     "data": {
      "text/plain": [
       "XGBClassifier(base_score=0.5, booster='gbtree', colsample_bylevel=1,\n",
       "       colsample_bynode=1, colsample_bytree=0.9, gamma=0,\n",
       "       learning_rate=0.05, max_delta_step=0, max_depth=9,\n",
       "       min_child_weight=1, missing=None, n_estimators=500, n_jobs=4,\n",
       "       nthread=None, objective='multi:softprob', random_state=0,\n",
       "       reg_alpha=0, reg_lambda=1, scale_pos_weight=1, seed=None,\n",
       "       silent=None, subsample=0.9, verbosity=1)"
      ]
     },
     "execution_count": 195,
     "metadata": {},
     "output_type": "execute_result"
    }
   ],
   "source": [
    "clf_4.fit(X_train3,y_train3)"
   ]
  },
  {
   "cell_type": "code",
   "execution_count": 196,
   "metadata": {},
   "outputs": [],
   "source": [
    "x_train = X_train[['range_of_shot','area_of_shot','shot_basics','type_of_shot']].copy()\n",
    "x_test = X_test[['range_of_shot','area_of_shot','shot_basics','type_of_shot']].copy()\n",
    "for f in x_train.columns:\n",
    "    if x_train[f].dtype=='object': \n",
    "        lbl = preprocessing.LabelEncoder()\n",
    "        lbl.fit(list(x_train[f].values))\n",
    "        x_train[f] = lbl.transform(list(x_train[f].values))\n",
    "for f in x_test.columns:\n",
    "    if x_test[f].dtype=='object': \n",
    "        lbl = preprocessing.LabelEncoder()\n",
    "        lbl.fit(list(x_test[f].values))\n",
    "        x_test[f] = lbl.transform(list(x_test[f].values))"
   ]
  },
  {
   "cell_type": "code",
   "execution_count": 197,
   "metadata": {},
   "outputs": [],
   "source": [
    "X_train['power_of_shot.1'] = clf_4.predict(x_train)\n",
    "X_test['power_of_shot.1'] = clf_4.predict(x_test)"
   ]
  },
  {
   "cell_type": "code",
   "execution_count": 199,
   "metadata": {},
   "outputs": [],
   "source": [
    "X_train['power_of_shot'] = X_train['power_of_shot'].fillna(X_train['power_of_shot.1'])\n",
    "X_test['power_of_shot'] = X_test['power_of_shot'].fillna(X_test['power_of_shot.1'])\n",
    "X_train.drop(['power_of_shot.1'], axis = 1, inplace = True)\n",
    "X_test.drop(['power_of_shot.1'], axis = 1, inplace = True)"
   ]
  },
  {
   "cell_type": "code",
   "execution_count": 200,
   "metadata": {},
   "outputs": [
    {
     "data": {
      "text/plain": [
       "match_event_id      1240\n",
       "location_x             0\n",
       "location_y             0\n",
       "remaining_min          0\n",
       "power_of_shot          0\n",
       "knockout_match         1\n",
       "game_season         1599\n",
       "remaining_sec          0\n",
       "distance_of_shot       0\n",
       "area_of_shot           0\n",
       "shot_basics            0\n",
       "range_of_shot          0\n",
       "date_of_game        1237\n",
       "home/away           1214\n",
       "shot_id_number         0\n",
       "lat/lng                6\n",
       "type_of_shot           0\n",
       "match_id               0\n",
       "is_goal                0\n",
       "dtype: int64"
      ]
     },
     "execution_count": 200,
     "metadata": {},
     "output_type": "execute_result"
    }
   ],
   "source": [
    "X_train.isnull().sum()"
   ]
  },
  {
   "cell_type": "markdown",
   "metadata": {},
   "source": [
    "#### 9. lat/lng"
   ]
  },
  {
   "cell_type": "code",
   "execution_count": 207,
   "metadata": {},
   "outputs": [],
   "source": [
    "for i, e in enumerate(X_train['lat/lng']):\n",
    "    if pd.isnull(e):\n",
    "        X_train['lat/lng'].iloc[i] = '42.982923, -71.446094'"
   ]
  },
  {
   "cell_type": "code",
   "execution_count": 209,
   "metadata": {},
   "outputs": [],
   "source": [
    "for i, e in enumerate(X_test['lat/lng']):\n",
    "    if pd.isnull(e):\n",
    "        X_test['lat/lng'].iloc[i] = '42.982923, -71.446094'"
   ]
  },
  {
   "cell_type": "markdown",
   "metadata": {},
   "source": [
    "#### 10. knockout match"
   ]
  },
  {
   "cell_type": "code",
   "execution_count": 210,
   "metadata": {},
   "outputs": [],
   "source": [
    "for i, e in enumerate(X_train['knockout_match']):\n",
    "    if pd.isnull(e):\n",
    "        X_train['knockout_match'].iloc[i] = 0\n",
    "for i, e in enumerate(X_test['knockout_match']):\n",
    "    if pd.isnull(e):\n",
    "        X_test['knockout_match'].iloc[i] = 0"
   ]
  },
  {
   "cell_type": "markdown",
   "metadata": {},
   "source": [
    "#### 11. home/away"
   ]
  },
  {
   "cell_type": "code",
   "execution_count": 218,
   "metadata": {},
   "outputs": [],
   "source": [
    "X_train.drop('home/away', axis = 1, inplace = True)\n",
    "X_test.drop('home/away', axis = 1, inplace = True)"
   ]
  },
  {
   "cell_type": "markdown",
   "metadata": {},
   "source": [
    "#### 12. match_event_id"
   ]
  },
  {
   "cell_type": "code",
   "execution_count": 220,
   "metadata": {},
   "outputs": [],
   "source": [
    "X_train.drop('match_event_id', axis = 1, inplace = True)\n",
    "X_test.drop('match_event_id', axis = 1, inplace = True)"
   ]
  },
  {
   "cell_type": "markdown",
   "metadata": {},
   "source": [
    "#### 13. game_season"
   ]
  },
  {
   "cell_type": "code",
   "execution_count": 240,
   "metadata": {},
   "outputs": [],
   "source": [
    "X_train['date_of_game'] = pd.to_datetime(X_train['date_of_game'])\n",
    "X_test['date_of_game'] = pd.to_datetime(X_test['date_of_game'])"
   ]
  },
  {
   "cell_type": "code",
   "execution_count": 253,
   "metadata": {},
   "outputs": [],
   "source": [
    "for i, e in enumerate(X_train['game_season']):\n",
    "    if pd.isnull(e):\n",
    "            X_train['game_season'].iloc[i] = X_train['game_season'].iloc[i-1]\n",
    "for i, e in enumerate(X_test['game_season']):\n",
    "    if pd.isnull(e):\n",
    "            X_test['game_season'].iloc[i] = X_test['game_season'].iloc[i-1]"
   ]
  },
  {
   "cell_type": "code",
   "execution_count": 257,
   "metadata": {},
   "outputs": [],
   "source": [
    "X_train.drop('date_of_game', axis = 1, inplace = True)\n",
    "X_test.drop('date_of_game', axis =1 , inplace = True)"
   ]
  },
  {
   "cell_type": "code",
   "execution_count": null,
   "metadata": {},
   "outputs": [],
   "source": []
  },
  {
   "cell_type": "code",
   "execution_count": 260,
   "metadata": {},
   "outputs": [],
   "source": [
    "X_train['dist_x_y'] = X_train['location_x']**2 + X_train['location_y']**2\n",
    "X_test['dist_x_y'] = X_test['location_x']**2 + X_test['location_y']**2"
   ]
  },
  {
   "cell_type": "code",
   "execution_count": 268,
   "metadata": {},
   "outputs": [],
   "source": [
    "y_train = X_train['is_goal']"
   ]
  },
  {
   "cell_type": "code",
   "execution_count": 269,
   "metadata": {},
   "outputs": [],
   "source": [
    "X_train.drop('is_goal', axis = 1, inplace = True)"
   ]
  },
  {
   "cell_type": "code",
   "execution_count": 270,
   "metadata": {},
   "outputs": [],
   "source": [
    "for f in X_train.columns:\n",
    "    if X_train[f].dtype=='object' or X_test[f].dtype=='object': \n",
    "        lbl = preprocessing.LabelEncoder()\n",
    "        lbl.fit(list(X_train[f].values) + list(X_test[f].values))\n",
    "        X_train[f] = lbl.transform(list(X_train[f].values))\n",
    "        X_test[f] = lbl.transform(list(X_test[f].values)) "
   ]
  },
  {
   "cell_type": "markdown",
   "metadata": {},
   "source": [
    "# Model Building"
   ]
  },
  {
   "cell_type": "code",
   "execution_count": 271,
   "metadata": {},
   "outputs": [],
   "source": [
    "x_train1, x_val1, y_train1, y_val1 = train_test_split(X_train, y_train, test_size=0.25, random_state=42)"
   ]
  },
  {
   "cell_type": "code",
   "execution_count": 278,
   "metadata": {},
   "outputs": [
    {
     "data": {
      "text/plain": [
       "RandomForestClassifier(bootstrap=True, class_weight=None, criterion='gini',\n",
       "            max_depth=None, max_features='auto', max_leaf_nodes=None,\n",
       "            min_impurity_decrease=0.0, min_impurity_split=None,\n",
       "            min_samples_leaf=1, min_samples_split=2,\n",
       "            min_weight_fraction_leaf=0.0, n_estimators=1000, n_jobs=None,\n",
       "            oob_score=False, random_state=0, verbose=0, warm_start=False)"
      ]
     },
     "execution_count": 278,
     "metadata": {},
     "output_type": "execute_result"
    }
   ],
   "source": [
    "RF = RandomForestClassifier(n_estimators=1000,random_state=0)\n",
    "RF.fit(x_train1,y_train1)"
   ]
  },
  {
   "cell_type": "code",
   "execution_count": 280,
   "metadata": {},
   "outputs": [
    {
     "name": "stdout",
     "output_type": "stream",
     "text": [
      "Accuracy: 60.3962%\n"
     ]
    }
   ],
   "source": [
    "train_predictions = RF.predict(x_val1)\n",
    "acc = accuracy_score(y_val1, train_predictions)\n",
    "print(\"Accuracy: {:.4%}\".format(acc))"
   ]
  },
  {
   "cell_type": "code",
   "execution_count": 281,
   "metadata": {},
   "outputs": [
    {
     "data": {
      "text/plain": [
       "ExtraTreesClassifier(bootstrap=False, class_weight=None, criterion='gini',\n",
       "           max_depth=None, max_features='auto', max_leaf_nodes=None,\n",
       "           min_impurity_decrease=0.0, min_impurity_split=None,\n",
       "           min_samples_leaf=1, min_samples_split=2,\n",
       "           min_weight_fraction_leaf=0.0, n_estimators=20, n_jobs=None,\n",
       "           oob_score=False, random_state=None, verbose=0, warm_start=False)"
      ]
     },
     "execution_count": 281,
     "metadata": {},
     "output_type": "execute_result"
    }
   ],
   "source": [
    "ET = ExtraTreesClassifier(n_estimators = 20, criterion = 'gini')\n",
    "ET.fit(x_train1,y_train1)"
   ]
  },
  {
   "cell_type": "code",
   "execution_count": 282,
   "metadata": {},
   "outputs": [
    {
     "name": "stdout",
     "output_type": "stream",
     "text": [
      "Accuracy: 58.2842%\n"
     ]
    }
   ],
   "source": [
    "train_predictions = ET.predict(x_val1)\n",
    "acc = accuracy_score(y_val1, train_predictions)\n",
    "print(\"Accuracy: {:.4%}\".format(acc))"
   ]
  },
  {
   "cell_type": "code",
   "execution_count": 283,
   "metadata": {},
   "outputs": [
    {
     "data": {
      "text/plain": [
       "XGBClassifier(base_score=0.5, booster='gbtree', colsample_bylevel=1,\n",
       "       colsample_bynode=1, colsample_bytree=0.9, gamma=0,\n",
       "       learning_rate=0.05, max_delta_step=0, max_depth=9,\n",
       "       min_child_weight=1, missing=-999, n_estimators=500, n_jobs=4,\n",
       "       nthread=None, objective='binary:logistic', random_state=0,\n",
       "       reg_alpha=0, reg_lambda=1, scale_pos_weight=1, seed=None,\n",
       "       silent=None, subsample=0.9, verbosity=1)"
      ]
     },
     "execution_count": 283,
     "metadata": {},
     "output_type": "execute_result"
    }
   ],
   "source": [
    "XGB = xgb.XGBClassifier(n_estimators=500,\n",
    "                        n_jobs=4,\n",
    "                        max_depth=9,\n",
    "                        learning_rate=0.05,\n",
    "                        subsample=0.9,\n",
    "                        colsample_bytree=0.9,\n",
    "                        missing=-999)\n",
    "XGB.fit(x_train1,y_train1)"
   ]
  },
  {
   "cell_type": "code",
   "execution_count": 284,
   "metadata": {},
   "outputs": [
    {
     "name": "stdout",
     "output_type": "stream",
     "text": [
      "Accuracy: 60.6090%\n"
     ]
    }
   ],
   "source": [
    "train_predictions = XGB.predict(x_val1)\n",
    "acc = accuracy_score(y_val1, train_predictions)\n",
    "print(\"Accuracy: {:.4%}\".format(acc))"
   ]
  },
  {
   "cell_type": "code",
   "execution_count": 285,
   "metadata": {},
   "outputs": [
    {
     "data": {
      "text/plain": [
       "GradientBoostingClassifier(criterion='friedman_mse', init=None,\n",
       "              learning_rate=0.1, loss='deviance', max_depth=3,\n",
       "              max_features=None, max_leaf_nodes=None,\n",
       "              min_impurity_decrease=0.0, min_impurity_split=None,\n",
       "              min_samples_leaf=1, min_samples_split=2,\n",
       "              min_weight_fraction_leaf=0.0, n_estimators=1000,\n",
       "              n_iter_no_change=None, presort='auto', random_state=None,\n",
       "              subsample=1.0, tol=0.0001, validation_fraction=0.1,\n",
       "              verbose=0, warm_start=False)"
      ]
     },
     "execution_count": 285,
     "metadata": {},
     "output_type": "execute_result"
    }
   ],
   "source": [
    "GB = GradientBoostingClassifier(n_estimators = 1000)\n",
    "GB.fit(x_train1,y_train1)"
   ]
  },
  {
   "cell_type": "code",
   "execution_count": 286,
   "metadata": {},
   "outputs": [
    {
     "name": "stdout",
     "output_type": "stream",
     "text": [
      "Accuracy: 60.6090%\n"
     ]
    }
   ],
   "source": [
    "train_predictions = XGB.predict(x_val1)\n",
    "acc = accuracy_score(y_val1, train_predictions)\n",
    "print(\"Accuracy: {:.4%}\".format(acc))"
   ]
  },
  {
   "cell_type": "markdown",
   "metadata": {},
   "source": [
    "# Predictions"
   ]
  },
  {
   "cell_type": "code",
   "execution_count": 288,
   "metadata": {},
   "outputs": [
    {
     "data": {
      "text/plain": [
       "RandomForestClassifier(bootstrap=True, class_weight=None, criterion='gini',\n",
       "            max_depth=None, max_features='auto', max_leaf_nodes=None,\n",
       "            min_impurity_decrease=0.0, min_impurity_split=None,\n",
       "            min_samples_leaf=1, min_samples_split=2,\n",
       "            min_weight_fraction_leaf=0.0, n_estimators=1000, n_jobs=None,\n",
       "            oob_score=False, random_state=0, verbose=0, warm_start=False)"
      ]
     },
     "execution_count": 288,
     "metadata": {},
     "output_type": "execute_result"
    }
   ],
   "source": [
    "RF = RandomForestClassifier(n_estimators=1000,random_state=0)\n",
    "RF.fit(X_train,y_train)"
   ]
  },
  {
   "cell_type": "code",
   "execution_count": 289,
   "metadata": {},
   "outputs": [
    {
     "data": {
      "text/plain": [
       "ExtraTreesClassifier(bootstrap=False, class_weight=None, criterion='gini',\n",
       "           max_depth=None, max_features='auto', max_leaf_nodes=None,\n",
       "           min_impurity_decrease=0.0, min_impurity_split=None,\n",
       "           min_samples_leaf=1, min_samples_split=2,\n",
       "           min_weight_fraction_leaf=0.0, n_estimators=2000, n_jobs=None,\n",
       "           oob_score=False, random_state=None, verbose=0, warm_start=False)"
      ]
     },
     "execution_count": 289,
     "metadata": {},
     "output_type": "execute_result"
    }
   ],
   "source": [
    "ET = ExtraTreesClassifier(n_estimators = 2000, criterion = 'gini')\n",
    "ET.fit(X_train,y_train)"
   ]
  },
  {
   "cell_type": "code",
   "execution_count": 290,
   "metadata": {},
   "outputs": [
    {
     "data": {
      "text/plain": [
       "GradientBoostingClassifier(criterion='friedman_mse', init=None,\n",
       "              learning_rate=0.1, loss='deviance', max_depth=3,\n",
       "              max_features=None, max_leaf_nodes=None,\n",
       "              min_impurity_decrease=0.0, min_impurity_split=None,\n",
       "              min_samples_leaf=1, min_samples_split=2,\n",
       "              min_weight_fraction_leaf=0.0, n_estimators=1000,\n",
       "              n_iter_no_change=None, presort='auto', random_state=None,\n",
       "              subsample=1.0, tol=0.0001, validation_fraction=0.1,\n",
       "              verbose=0, warm_start=False)"
      ]
     },
     "execution_count": 290,
     "metadata": {},
     "output_type": "execute_result"
    }
   ],
   "source": [
    "GB = GradientBoostingClassifier(n_estimators = 1000)\n",
    "GB.fit(X_train,y_train)"
   ]
  },
  {
   "cell_type": "code",
   "execution_count": 301,
   "metadata": {},
   "outputs": [],
   "source": [
    "blend_train = np.zeros((X_train.shape[0], 3))\n",
    "blend_test = np.zeros((X_test.shape[0], 3))"
   ]
  },
  {
   "cell_type": "code",
   "execution_count": 303,
   "metadata": {},
   "outputs": [],
   "source": [
    "blend_train = pd.DataFrame(blend_train)"
   ]
  },
  {
   "cell_type": "code",
   "execution_count": 306,
   "metadata": {},
   "outputs": [],
   "source": [
    "blend_train[0] = RF.predict_proba(X_train)\n",
    "blend_train[1] = ET.predict_proba(X_train)\n",
    "blend_train[2] = GB.predict_proba(X_train)"
   ]
  },
  {
   "cell_type": "code",
   "execution_count": 308,
   "metadata": {},
   "outputs": [],
   "source": [
    "blend_test = pd.DataFrame(blend_test)\n",
    "blend_test[0] = RF.predict_proba(X_test)\n",
    "blend_test[1] = ET.predict_proba(X_test)\n",
    "blend_test[2] = GB.predict_proba(X_test)"
   ]
  },
  {
   "cell_type": "code",
   "execution_count": 309,
   "metadata": {},
   "outputs": [],
   "source": [
    "LR = LogisticRegression()\n",
    "LR.fit(blend_train,y_train)\n",
    "y_pred = LR.predict_proba(blend_test)"
   ]
  },
  {
   "cell_type": "code",
   "execution_count": 324,
   "metadata": {},
   "outputs": [],
   "source": [
    "import lightgbm as lgb\n",
    "d_train = lgb.Dataset(X_train, label=y_train)\n",
    "params = {}\n",
    "params['learning_rate'] = 0.003\n",
    "params['boosting_type'] = 'gbdt'\n",
    "params['objective'] = 'binary'\n",
    "params['metric'] = 'binary_logloss'\n",
    "params['sub_feature'] = 0.5\n",
    "params['num_leaves'] = 10\n",
    "params['min_data'] = 50\n",
    "params['max_depth'] = 10\n",
    "clf5 = lgb.train(params, d_train, 100)"
   ]
  },
  {
   "cell_type": "code",
   "execution_count": 322,
   "metadata": {},
   "outputs": [],
   "source": [
    "X_train.drop('power_of_shot', axis = 1, inplace = True)\n",
    "X_test.drop('power_of_shot', axis = 1, inplace = True)"
   ]
  },
  {
   "cell_type": "code",
   "execution_count": null,
   "metadata": {},
   "outputs": [],
   "source": []
  },
  {
   "cell_type": "code",
   "execution_count": 323,
   "metadata": {},
   "outputs": [
    {
     "data": {
      "text/plain": [
       "XGBClassifier(base_score=0.5, booster='gbtree', colsample_bylevel=1,\n",
       "       colsample_bynode=1, colsample_bytree=0.9, gamma=0,\n",
       "       learning_rate=0.05, max_delta_step=0, max_depth=9,\n",
       "       min_child_weight=1, missing=-999, n_estimators=500, n_jobs=4,\n",
       "       nthread=None, objective='binary:logistic', random_state=0,\n",
       "       reg_alpha=0, reg_lambda=1, scale_pos_weight=1, seed=None,\n",
       "       silent=None, subsample=0.9, verbosity=1)"
      ]
     },
     "execution_count": 323,
     "metadata": {},
     "output_type": "execute_result"
    }
   ],
   "source": [
    "clf4 = xgb.XGBClassifier(n_estimators=500,\n",
    "                        n_jobs=4,\n",
    "                        max_depth=9,\n",
    "                        learning_rate=0.05,\n",
    "                        subsample=0.9,\n",
    "                        colsample_bytree=0.9,\n",
    "                        missing=-999)\n",
    "clf4.fit(X_train, y_train)"
   ]
  },
  {
   "cell_type": "code",
   "execution_count": null,
   "metadata": {},
   "outputs": [],
   "source": []
  },
  {
   "cell_type": "code",
   "execution_count": null,
   "metadata": {},
   "outputs": [],
   "source": []
  },
  {
   "cell_type": "code",
   "execution_count": 326,
   "metadata": {},
   "outputs": [],
   "source": [
    "sample_submission = pd.read_csv('sample_submission.csv')\n",
    "sample_submission['is_goal'] = 0.75*clf4.predict_proba(X_test)\n",
    "sample_submission['is_goal'] = sample_submission['is_goal'] + 0.25*clf5.predict(X_test)\n",
    "sample_submission.to_csv('dhruval_karmariya_260198_prediction_15.csv', index = False)"
   ]
  },
  {
   "cell_type": "code",
   "execution_count": 320,
   "metadata": {},
   "outputs": [
    {
     "data": {
      "text/html": [
       "<div>\n",
       "<style scoped>\n",
       "    .dataframe tbody tr th:only-of-type {\n",
       "        vertical-align: middle;\n",
       "    }\n",
       "\n",
       "    .dataframe tbody tr th {\n",
       "        vertical-align: top;\n",
       "    }\n",
       "\n",
       "    .dataframe thead th {\n",
       "        text-align: right;\n",
       "    }\n",
       "</style>\n",
       "<table border=\"1\" class=\"dataframe\">\n",
       "  <thead>\n",
       "    <tr style=\"text-align: right;\">\n",
       "      <th></th>\n",
       "      <th>location_x</th>\n",
       "      <th>location_y</th>\n",
       "      <th>remaining_min</th>\n",
       "      <th>power_of_shot</th>\n",
       "      <th>knockout_match</th>\n",
       "      <th>game_season</th>\n",
       "      <th>remaining_sec</th>\n",
       "      <th>distance_of_shot</th>\n",
       "      <th>area_of_shot</th>\n",
       "      <th>shot_basics</th>\n",
       "      <th>range_of_shot</th>\n",
       "      <th>shot_id_number</th>\n",
       "      <th>lat/lng</th>\n",
       "      <th>type_of_shot</th>\n",
       "      <th>match_id</th>\n",
       "      <th>dist_x_y</th>\n",
       "    </tr>\n",
       "  </thead>\n",
       "  <tbody>\n",
       "    <tr>\n",
       "      <th>0</th>\n",
       "      <td>-157.000000</td>\n",
       "      <td>0.000000</td>\n",
       "      <td>10.000000</td>\n",
       "      <td>1.0</td>\n",
       "      <td>0.0</td>\n",
       "      <td>4</td>\n",
       "      <td>22.00000</td>\n",
       "      <td>35.0</td>\n",
       "      <td>2</td>\n",
       "      <td>4</td>\n",
       "      <td>2</td>\n",
       "      <td>2.0</td>\n",
       "      <td>34</td>\n",
       "      <td>40</td>\n",
       "      <td>20000012</td>\n",
       "      <td>24649.000000</td>\n",
       "    </tr>\n",
       "    <tr>\n",
       "      <th>1</th>\n",
       "      <td>-101.000000</td>\n",
       "      <td>135.000000</td>\n",
       "      <td>7.000000</td>\n",
       "      <td>1.0</td>\n",
       "      <td>0.0</td>\n",
       "      <td>4</td>\n",
       "      <td>45.00000</td>\n",
       "      <td>36.0</td>\n",
       "      <td>1</td>\n",
       "      <td>4</td>\n",
       "      <td>0</td>\n",
       "      <td>3.0</td>\n",
       "      <td>34</td>\n",
       "      <td>18</td>\n",
       "      <td>20000012</td>\n",
       "      <td>28426.000000</td>\n",
       "    </tr>\n",
       "    <tr>\n",
       "      <th>2</th>\n",
       "      <td>138.000000</td>\n",
       "      <td>175.000000</td>\n",
       "      <td>6.000000</td>\n",
       "      <td>1.0</td>\n",
       "      <td>0.0</td>\n",
       "      <td>4</td>\n",
       "      <td>52.00000</td>\n",
       "      <td>42.0</td>\n",
       "      <td>4</td>\n",
       "      <td>4</td>\n",
       "      <td>0</td>\n",
       "      <td>4.0</td>\n",
       "      <td>34</td>\n",
       "      <td>23</td>\n",
       "      <td>20000012</td>\n",
       "      <td>49669.000000</td>\n",
       "    </tr>\n",
       "    <tr>\n",
       "      <th>3</th>\n",
       "      <td>0.000000</td>\n",
       "      <td>0.000000</td>\n",
       "      <td>4.880192</td>\n",
       "      <td>2.0</td>\n",
       "      <td>0.0</td>\n",
       "      <td>4</td>\n",
       "      <td>19.00000</td>\n",
       "      <td>20.0</td>\n",
       "      <td>0</td>\n",
       "      <td>0</td>\n",
       "      <td>4</td>\n",
       "      <td>5.0</td>\n",
       "      <td>34</td>\n",
       "      <td>1</td>\n",
       "      <td>20000012</td>\n",
       "      <td>0.000000</td>\n",
       "    </tr>\n",
       "    <tr>\n",
       "      <th>4</th>\n",
       "      <td>-145.000000</td>\n",
       "      <td>-11.000000</td>\n",
       "      <td>9.000000</td>\n",
       "      <td>3.0</td>\n",
       "      <td>0.0</td>\n",
       "      <td>4</td>\n",
       "      <td>32.00000</td>\n",
       "      <td>34.0</td>\n",
       "      <td>2</td>\n",
       "      <td>4</td>\n",
       "      <td>2</td>\n",
       "      <td>6.0</td>\n",
       "      <td>34</td>\n",
       "      <td>9</td>\n",
       "      <td>20000012</td>\n",
       "      <td>21146.000000</td>\n",
       "    </tr>\n",
       "    <tr>\n",
       "      <th>5</th>\n",
       "      <td>0.000000</td>\n",
       "      <td>0.000000</td>\n",
       "      <td>8.000000</td>\n",
       "      <td>3.0</td>\n",
       "      <td>0.0</td>\n",
       "      <td>4</td>\n",
       "      <td>52.00000</td>\n",
       "      <td>20.0</td>\n",
       "      <td>0</td>\n",
       "      <td>0</td>\n",
       "      <td>4</td>\n",
       "      <td>7.0</td>\n",
       "      <td>34</td>\n",
       "      <td>34</td>\n",
       "      <td>20000012</td>\n",
       "      <td>0.000000</td>\n",
       "    </tr>\n",
       "    <tr>\n",
       "      <th>6</th>\n",
       "      <td>-65.000000</td>\n",
       "      <td>83.928947</td>\n",
       "      <td>6.000000</td>\n",
       "      <td>3.0</td>\n",
       "      <td>0.0</td>\n",
       "      <td>4</td>\n",
       "      <td>12.00000</td>\n",
       "      <td>32.0</td>\n",
       "      <td>2</td>\n",
       "      <td>1</td>\n",
       "      <td>2</td>\n",
       "      <td>9.0</td>\n",
       "      <td>34</td>\n",
       "      <td>30</td>\n",
       "      <td>20000012</td>\n",
       "      <td>11269.068220</td>\n",
       "    </tr>\n",
       "    <tr>\n",
       "      <th>7</th>\n",
       "      <td>-33.000000</td>\n",
       "      <td>118.185692</td>\n",
       "      <td>3.000000</td>\n",
       "      <td>3.0</td>\n",
       "      <td>0.0</td>\n",
       "      <td>4</td>\n",
       "      <td>36.00000</td>\n",
       "      <td>32.0</td>\n",
       "      <td>0</td>\n",
       "      <td>1</td>\n",
       "      <td>2</td>\n",
       "      <td>10.0</td>\n",
       "      <td>34</td>\n",
       "      <td>39</td>\n",
       "      <td>20000012</td>\n",
       "      <td>15056.857754</td>\n",
       "    </tr>\n",
       "    <tr>\n",
       "      <th>8</th>\n",
       "      <td>-94.000000</td>\n",
       "      <td>238.000000</td>\n",
       "      <td>1.000000</td>\n",
       "      <td>3.0</td>\n",
       "      <td>0.0</td>\n",
       "      <td>4</td>\n",
       "      <td>56.00000</td>\n",
       "      <td>45.0</td>\n",
       "      <td>1</td>\n",
       "      <td>5</td>\n",
       "      <td>1</td>\n",
       "      <td>11.0</td>\n",
       "      <td>34</td>\n",
       "      <td>54</td>\n",
       "      <td>20000012</td>\n",
       "      <td>65480.000000</td>\n",
       "    </tr>\n",
       "    <tr>\n",
       "      <th>9</th>\n",
       "      <td>121.000000</td>\n",
       "      <td>127.000000</td>\n",
       "      <td>11.000000</td>\n",
       "      <td>1.0</td>\n",
       "      <td>0.0</td>\n",
       "      <td>4</td>\n",
       "      <td>0.00000</td>\n",
       "      <td>37.0</td>\n",
       "      <td>4</td>\n",
       "      <td>4</td>\n",
       "      <td>0</td>\n",
       "      <td>12.0</td>\n",
       "      <td>31</td>\n",
       "      <td>23</td>\n",
       "      <td>20000019</td>\n",
       "      <td>30770.000000</td>\n",
       "    </tr>\n",
       "    <tr>\n",
       "      <th>10</th>\n",
       "      <td>-67.000000</td>\n",
       "      <td>83.928947</td>\n",
       "      <td>7.000000</td>\n",
       "      <td>1.0</td>\n",
       "      <td>0.0</td>\n",
       "      <td>4</td>\n",
       "      <td>9.00000</td>\n",
       "      <td>32.0</td>\n",
       "      <td>2</td>\n",
       "      <td>1</td>\n",
       "      <td>2</td>\n",
       "      <td>13.0</td>\n",
       "      <td>31</td>\n",
       "      <td>39</td>\n",
       "      <td>20000019</td>\n",
       "      <td>11533.068220</td>\n",
       "    </tr>\n",
       "    <tr>\n",
       "      <th>11</th>\n",
       "      <td>-94.000000</td>\n",
       "      <td>4.000000</td>\n",
       "      <td>2.000000</td>\n",
       "      <td>1.0</td>\n",
       "      <td>0.0</td>\n",
       "      <td>4</td>\n",
       "      <td>44.00000</td>\n",
       "      <td>29.0</td>\n",
       "      <td>2</td>\n",
       "      <td>4</td>\n",
       "      <td>2</td>\n",
       "      <td>14.0</td>\n",
       "      <td>31</td>\n",
       "      <td>23</td>\n",
       "      <td>20000019</td>\n",
       "      <td>8852.000000</td>\n",
       "    </tr>\n",
       "    <tr>\n",
       "      <th>12</th>\n",
       "      <td>-23.000000</td>\n",
       "      <td>47.000000</td>\n",
       "      <td>1.000000</td>\n",
       "      <td>1.0</td>\n",
       "      <td>0.0</td>\n",
       "      <td>4</td>\n",
       "      <td>16.00000</td>\n",
       "      <td>25.0</td>\n",
       "      <td>0</td>\n",
       "      <td>1</td>\n",
       "      <td>4</td>\n",
       "      <td>15.0</td>\n",
       "      <td>31</td>\n",
       "      <td>4</td>\n",
       "      <td>20000019</td>\n",
       "      <td>2738.000000</td>\n",
       "    </tr>\n",
       "    <tr>\n",
       "      <th>13</th>\n",
       "      <td>4.056870</td>\n",
       "      <td>192.000000</td>\n",
       "      <td>0.000000</td>\n",
       "      <td>1.0</td>\n",
       "      <td>0.0</td>\n",
       "      <td>4</td>\n",
       "      <td>28.34739</td>\n",
       "      <td>40.0</td>\n",
       "      <td>0</td>\n",
       "      <td>4</td>\n",
       "      <td>0</td>\n",
       "      <td>16.0</td>\n",
       "      <td>31</td>\n",
       "      <td>23</td>\n",
       "      <td>20000019</td>\n",
       "      <td>36880.458194</td>\n",
       "    </tr>\n",
       "    <tr>\n",
       "      <th>14</th>\n",
       "      <td>-117.000000</td>\n",
       "      <td>226.000000</td>\n",
       "      <td>8.000000</td>\n",
       "      <td>2.0</td>\n",
       "      <td>0.0</td>\n",
       "      <td>4</td>\n",
       "      <td>50.00000</td>\n",
       "      <td>45.0</td>\n",
       "      <td>1</td>\n",
       "      <td>5</td>\n",
       "      <td>1</td>\n",
       "      <td>18.0</td>\n",
       "      <td>31</td>\n",
       "      <td>53</td>\n",
       "      <td>20000019</td>\n",
       "      <td>64765.000000</td>\n",
       "    </tr>\n",
       "    <tr>\n",
       "      <th>15</th>\n",
       "      <td>-122.885139</td>\n",
       "      <td>97.000000</td>\n",
       "      <td>11.000000</td>\n",
       "      <td>3.0</td>\n",
       "      <td>0.0</td>\n",
       "      <td>4</td>\n",
       "      <td>29.00000</td>\n",
       "      <td>36.0</td>\n",
       "      <td>1</td>\n",
       "      <td>4</td>\n",
       "      <td>0</td>\n",
       "      <td>19.0</td>\n",
       "      <td>31</td>\n",
       "      <td>23</td>\n",
       "      <td>20000019</td>\n",
       "      <td>24509.757501</td>\n",
       "    </tr>\n",
       "    <tr>\n",
       "      <th>16</th>\n",
       "      <td>3.000000</td>\n",
       "      <td>144.000000</td>\n",
       "      <td>10.000000</td>\n",
       "      <td>3.0</td>\n",
       "      <td>0.0</td>\n",
       "      <td>4</td>\n",
       "      <td>8.00000</td>\n",
       "      <td>34.0</td>\n",
       "      <td>0</td>\n",
       "      <td>4</td>\n",
       "      <td>2</td>\n",
       "      <td>21.0</td>\n",
       "      <td>31</td>\n",
       "      <td>13</td>\n",
       "      <td>20000019</td>\n",
       "      <td>20745.000000</td>\n",
       "    </tr>\n",
       "    <tr>\n",
       "      <th>17</th>\n",
       "      <td>-16.000000</td>\n",
       "      <td>110.000000</td>\n",
       "      <td>7.000000</td>\n",
       "      <td>3.0</td>\n",
       "      <td>0.0</td>\n",
       "      <td>4</td>\n",
       "      <td>57.00000</td>\n",
       "      <td>31.0</td>\n",
       "      <td>0</td>\n",
       "      <td>1</td>\n",
       "      <td>2</td>\n",
       "      <td>23.0</td>\n",
       "      <td>31</td>\n",
       "      <td>39</td>\n",
       "      <td>20000019</td>\n",
       "      <td>12356.000000</td>\n",
       "    </tr>\n",
       "    <tr>\n",
       "      <th>18</th>\n",
       "      <td>-109.000000</td>\n",
       "      <td>150.000000</td>\n",
       "      <td>5.000000</td>\n",
       "      <td>3.0</td>\n",
       "      <td>0.0</td>\n",
       "      <td>4</td>\n",
       "      <td>47.00000</td>\n",
       "      <td>38.0</td>\n",
       "      <td>1</td>\n",
       "      <td>4</td>\n",
       "      <td>0</td>\n",
       "      <td>24.0</td>\n",
       "      <td>31</td>\n",
       "      <td>23</td>\n",
       "      <td>20000019</td>\n",
       "      <td>34381.000000</td>\n",
       "    </tr>\n",
       "    <tr>\n",
       "      <th>19</th>\n",
       "      <td>-46.000000</td>\n",
       "      <td>63.000000</td>\n",
       "      <td>5.000000</td>\n",
       "      <td>3.0</td>\n",
       "      <td>0.0</td>\n",
       "      <td>4</td>\n",
       "      <td>11.00000</td>\n",
       "      <td>27.0</td>\n",
       "      <td>0</td>\n",
       "      <td>1</td>\n",
       "      <td>4</td>\n",
       "      <td>25.0</td>\n",
       "      <td>31</td>\n",
       "      <td>23</td>\n",
       "      <td>20000019</td>\n",
       "      <td>6085.000000</td>\n",
       "    </tr>\n",
       "    <tr>\n",
       "      <th>20</th>\n",
       "      <td>0.000000</td>\n",
       "      <td>0.000000</td>\n",
       "      <td>2.000000</td>\n",
       "      <td>3.0</td>\n",
       "      <td>0.0</td>\n",
       "      <td>4</td>\n",
       "      <td>36.00000</td>\n",
       "      <td>20.0</td>\n",
       "      <td>0</td>\n",
       "      <td>0</td>\n",
       "      <td>4</td>\n",
       "      <td>26.0</td>\n",
       "      <td>31</td>\n",
       "      <td>34</td>\n",
       "      <td>20000019</td>\n",
       "      <td>0.000000</td>\n",
       "    </tr>\n",
       "    <tr>\n",
       "      <th>21</th>\n",
       "      <td>4.056870</td>\n",
       "      <td>196.000000</td>\n",
       "      <td>2.000000</td>\n",
       "      <td>3.0</td>\n",
       "      <td>0.0</td>\n",
       "      <td>4</td>\n",
       "      <td>4.00000</td>\n",
       "      <td>40.0</td>\n",
       "      <td>0</td>\n",
       "      <td>4</td>\n",
       "      <td>0</td>\n",
       "      <td>27.0</td>\n",
       "      <td>31</td>\n",
       "      <td>24</td>\n",
       "      <td>20000019</td>\n",
       "      <td>38432.458194</td>\n",
       "    </tr>\n",
       "    <tr>\n",
       "      <th>22</th>\n",
       "      <td>-183.000000</td>\n",
       "      <td>186.000000</td>\n",
       "      <td>0.000000</td>\n",
       "      <td>3.0</td>\n",
       "      <td>0.0</td>\n",
       "      <td>4</td>\n",
       "      <td>30.00000</td>\n",
       "      <td>46.0</td>\n",
       "      <td>1</td>\n",
       "      <td>5</td>\n",
       "      <td>1</td>\n",
       "      <td>28.0</td>\n",
       "      <td>31</td>\n",
       "      <td>50</td>\n",
       "      <td>20000019</td>\n",
       "      <td>68085.000000</td>\n",
       "    </tr>\n",
       "    <tr>\n",
       "      <th>23</th>\n",
       "      <td>85.000000</td>\n",
       "      <td>173.000000</td>\n",
       "      <td>8.000000</td>\n",
       "      <td>4.0</td>\n",
       "      <td>0.0</td>\n",
       "      <td>4</td>\n",
       "      <td>19.00000</td>\n",
       "      <td>39.0</td>\n",
       "      <td>4</td>\n",
       "      <td>4</td>\n",
       "      <td>0</td>\n",
       "      <td>29.0</td>\n",
       "      <td>31</td>\n",
       "      <td>23</td>\n",
       "      <td>20000019</td>\n",
       "      <td>37154.000000</td>\n",
       "    </tr>\n",
       "    <tr>\n",
       "      <th>24</th>\n",
       "      <td>3.000000</td>\n",
       "      <td>87.000000</td>\n",
       "      <td>6.000000</td>\n",
       "      <td>4.0</td>\n",
       "      <td>0.0</td>\n",
       "      <td>4</td>\n",
       "      <td>22.00000</td>\n",
       "      <td>28.0</td>\n",
       "      <td>0</td>\n",
       "      <td>1</td>\n",
       "      <td>2</td>\n",
       "      <td>30.0</td>\n",
       "      <td>31</td>\n",
       "      <td>37</td>\n",
       "      <td>20000019</td>\n",
       "      <td>7578.000000</td>\n",
       "    </tr>\n",
       "    <tr>\n",
       "      <th>25</th>\n",
       "      <td>121.000000</td>\n",
       "      <td>4.000000</td>\n",
       "      <td>1.000000</td>\n",
       "      <td>4.0</td>\n",
       "      <td>0.0</td>\n",
       "      <td>4</td>\n",
       "      <td>20.00000</td>\n",
       "      <td>32.0</td>\n",
       "      <td>5</td>\n",
       "      <td>4</td>\n",
       "      <td>2</td>\n",
       "      <td>31.0</td>\n",
       "      <td>31</td>\n",
       "      <td>39</td>\n",
       "      <td>20000019</td>\n",
       "      <td>14657.000000</td>\n",
       "    </tr>\n",
       "    <tr>\n",
       "      <th>26</th>\n",
       "      <td>127.000000</td>\n",
       "      <td>34.000000</td>\n",
       "      <td>0.000000</td>\n",
       "      <td>4.0</td>\n",
       "      <td>0.0</td>\n",
       "      <td>4</td>\n",
       "      <td>30.00000</td>\n",
       "      <td>33.0</td>\n",
       "      <td>5</td>\n",
       "      <td>4</td>\n",
       "      <td>2</td>\n",
       "      <td>32.0</td>\n",
       "      <td>31</td>\n",
       "      <td>23</td>\n",
       "      <td>20000019</td>\n",
       "      <td>17285.000000</td>\n",
       "    </tr>\n",
       "    <tr>\n",
       "      <th>27</th>\n",
       "      <td>91.000000</td>\n",
       "      <td>184.000000</td>\n",
       "      <td>3.000000</td>\n",
       "      <td>2.0</td>\n",
       "      <td>0.0</td>\n",
       "      <td>4</td>\n",
       "      <td>30.00000</td>\n",
       "      <td>40.0</td>\n",
       "      <td>4</td>\n",
       "      <td>4</td>\n",
       "      <td>0</td>\n",
       "      <td>39.0</td>\n",
       "      <td>37</td>\n",
       "      <td>23</td>\n",
       "      <td>20000047</td>\n",
       "      <td>42137.000000</td>\n",
       "    </tr>\n",
       "    <tr>\n",
       "      <th>28</th>\n",
       "      <td>-27.000000</td>\n",
       "      <td>272.000000</td>\n",
       "      <td>0.000000</td>\n",
       "      <td>2.0</td>\n",
       "      <td>0.0</td>\n",
       "      <td>4</td>\n",
       "      <td>4.00000</td>\n",
       "      <td>47.0</td>\n",
       "      <td>0</td>\n",
       "      <td>5</td>\n",
       "      <td>1</td>\n",
       "      <td>40.0</td>\n",
       "      <td>37</td>\n",
       "      <td>23</td>\n",
       "      <td>20000047</td>\n",
       "      <td>74713.000000</td>\n",
       "    </tr>\n",
       "    <tr>\n",
       "      <th>29</th>\n",
       "      <td>-176.000000</td>\n",
       "      <td>66.000000</td>\n",
       "      <td>11.000000</td>\n",
       "      <td>3.0</td>\n",
       "      <td>0.0</td>\n",
       "      <td>4</td>\n",
       "      <td>12.00000</td>\n",
       "      <td>38.0</td>\n",
       "      <td>2</td>\n",
       "      <td>4</td>\n",
       "      <td>0</td>\n",
       "      <td>41.0</td>\n",
       "      <td>37</td>\n",
       "      <td>23</td>\n",
       "      <td>20000047</td>\n",
       "      <td>35332.000000</td>\n",
       "    </tr>\n",
       "    <tr>\n",
       "      <th>...</th>\n",
       "      <td>...</td>\n",
       "      <td>...</td>\n",
       "      <td>...</td>\n",
       "      <td>...</td>\n",
       "      <td>...</td>\n",
       "      <td>...</td>\n",
       "      <td>...</td>\n",
       "      <td>...</td>\n",
       "      <td>...</td>\n",
       "      <td>...</td>\n",
       "      <td>...</td>\n",
       "      <td>...</td>\n",
       "      <td>...</td>\n",
       "      <td>...</td>\n",
       "      <td>...</td>\n",
       "      <td>...</td>\n",
       "    </tr>\n",
       "    <tr>\n",
       "      <th>24399</th>\n",
       "      <td>158.000000</td>\n",
       "      <td>154.000000</td>\n",
       "      <td>8.000000</td>\n",
       "      <td>2.0</td>\n",
       "      <td>1.0</td>\n",
       "      <td>3</td>\n",
       "      <td>35.00000</td>\n",
       "      <td>42.0</td>\n",
       "      <td>4</td>\n",
       "      <td>4</td>\n",
       "      <td>0</td>\n",
       "      <td>30658.0</td>\n",
       "      <td>22</td>\n",
       "      <td>23</td>\n",
       "      <td>49900087</td>\n",
       "      <td>48680.000000</td>\n",
       "    </tr>\n",
       "    <tr>\n",
       "      <th>24400</th>\n",
       "      <td>-44.000000</td>\n",
       "      <td>229.000000</td>\n",
       "      <td>2.000000</td>\n",
       "      <td>2.0</td>\n",
       "      <td>1.0</td>\n",
       "      <td>3</td>\n",
       "      <td>59.00000</td>\n",
       "      <td>43.0</td>\n",
       "      <td>0</td>\n",
       "      <td>4</td>\n",
       "      <td>0</td>\n",
       "      <td>30659.0</td>\n",
       "      <td>22</td>\n",
       "      <td>15</td>\n",
       "      <td>49900087</td>\n",
       "      <td>54377.000000</td>\n",
       "    </tr>\n",
       "    <tr>\n",
       "      <th>24401</th>\n",
       "      <td>-14.000000</td>\n",
       "      <td>18.000000</td>\n",
       "      <td>10.000000</td>\n",
       "      <td>3.0</td>\n",
       "      <td>1.0</td>\n",
       "      <td>3</td>\n",
       "      <td>44.00000</td>\n",
       "      <td>22.0</td>\n",
       "      <td>0</td>\n",
       "      <td>0</td>\n",
       "      <td>4</td>\n",
       "      <td>30661.0</td>\n",
       "      <td>22</td>\n",
       "      <td>34</td>\n",
       "      <td>49900087</td>\n",
       "      <td>520.000000</td>\n",
       "    </tr>\n",
       "    <tr>\n",
       "      <th>24402</th>\n",
       "      <td>0.000000</td>\n",
       "      <td>0.000000</td>\n",
       "      <td>9.000000</td>\n",
       "      <td>3.0</td>\n",
       "      <td>1.0</td>\n",
       "      <td>3</td>\n",
       "      <td>58.00000</td>\n",
       "      <td>20.0</td>\n",
       "      <td>0</td>\n",
       "      <td>0</td>\n",
       "      <td>4</td>\n",
       "      <td>30662.0</td>\n",
       "      <td>22</td>\n",
       "      <td>1</td>\n",
       "      <td>49900087</td>\n",
       "      <td>0.000000</td>\n",
       "    </tr>\n",
       "    <tr>\n",
       "      <th>24403</th>\n",
       "      <td>-8.000000</td>\n",
       "      <td>43.476116</td>\n",
       "      <td>8.000000</td>\n",
       "      <td>3.0</td>\n",
       "      <td>1.0</td>\n",
       "      <td>3</td>\n",
       "      <td>32.00000</td>\n",
       "      <td>25.0</td>\n",
       "      <td>0</td>\n",
       "      <td>1</td>\n",
       "      <td>4</td>\n",
       "      <td>30663.0</td>\n",
       "      <td>22</td>\n",
       "      <td>23</td>\n",
       "      <td>49900087</td>\n",
       "      <td>1954.172678</td>\n",
       "    </tr>\n",
       "    <tr>\n",
       "      <th>24404</th>\n",
       "      <td>104.121040</td>\n",
       "      <td>25.000000</td>\n",
       "      <td>6.000000</td>\n",
       "      <td>3.0</td>\n",
       "      <td>1.0</td>\n",
       "      <td>3</td>\n",
       "      <td>36.00000</td>\n",
       "      <td>30.0</td>\n",
       "      <td>5</td>\n",
       "      <td>4</td>\n",
       "      <td>2</td>\n",
       "      <td>30664.0</td>\n",
       "      <td>22</td>\n",
       "      <td>51</td>\n",
       "      <td>49900087</td>\n",
       "      <td>11466.191042</td>\n",
       "    </tr>\n",
       "    <tr>\n",
       "      <th>24405</th>\n",
       "      <td>-14.000000</td>\n",
       "      <td>18.000000</td>\n",
       "      <td>5.000000</td>\n",
       "      <td>3.0</td>\n",
       "      <td>1.0</td>\n",
       "      <td>3</td>\n",
       "      <td>58.00000</td>\n",
       "      <td>22.0</td>\n",
       "      <td>0</td>\n",
       "      <td>0</td>\n",
       "      <td>4</td>\n",
       "      <td>30666.0</td>\n",
       "      <td>22</td>\n",
       "      <td>34</td>\n",
       "      <td>49900087</td>\n",
       "      <td>520.000000</td>\n",
       "    </tr>\n",
       "    <tr>\n",
       "      <th>24406</th>\n",
       "      <td>-81.000000</td>\n",
       "      <td>171.000000</td>\n",
       "      <td>4.000000</td>\n",
       "      <td>3.0</td>\n",
       "      <td>1.0</td>\n",
       "      <td>3</td>\n",
       "      <td>4.00000</td>\n",
       "      <td>38.0</td>\n",
       "      <td>1</td>\n",
       "      <td>4</td>\n",
       "      <td>0</td>\n",
       "      <td>30667.0</td>\n",
       "      <td>22</td>\n",
       "      <td>23</td>\n",
       "      <td>49900087</td>\n",
       "      <td>35802.000000</td>\n",
       "    </tr>\n",
       "    <tr>\n",
       "      <th>24407</th>\n",
       "      <td>40.000000</td>\n",
       "      <td>250.000000</td>\n",
       "      <td>9.000000</td>\n",
       "      <td>4.0</td>\n",
       "      <td>1.0</td>\n",
       "      <td>3</td>\n",
       "      <td>33.00000</td>\n",
       "      <td>45.0</td>\n",
       "      <td>0</td>\n",
       "      <td>5</td>\n",
       "      <td>1</td>\n",
       "      <td>30668.0</td>\n",
       "      <td>22</td>\n",
       "      <td>23</td>\n",
       "      <td>49900087</td>\n",
       "      <td>64100.000000</td>\n",
       "    </tr>\n",
       "    <tr>\n",
       "      <th>24408</th>\n",
       "      <td>171.000000</td>\n",
       "      <td>53.000000</td>\n",
       "      <td>3.000000</td>\n",
       "      <td>4.0</td>\n",
       "      <td>1.0</td>\n",
       "      <td>3</td>\n",
       "      <td>48.00000</td>\n",
       "      <td>37.0</td>\n",
       "      <td>5</td>\n",
       "      <td>4</td>\n",
       "      <td>0</td>\n",
       "      <td>30670.0</td>\n",
       "      <td>22</td>\n",
       "      <td>23</td>\n",
       "      <td>49900087</td>\n",
       "      <td>32050.000000</td>\n",
       "    </tr>\n",
       "    <tr>\n",
       "      <th>24409</th>\n",
       "      <td>-74.000000</td>\n",
       "      <td>16.000000</td>\n",
       "      <td>9.000000</td>\n",
       "      <td>1.0</td>\n",
       "      <td>1.0</td>\n",
       "      <td>3</td>\n",
       "      <td>34.00000</td>\n",
       "      <td>27.0</td>\n",
       "      <td>0</td>\n",
       "      <td>1</td>\n",
       "      <td>4</td>\n",
       "      <td>30671.0</td>\n",
       "      <td>31</td>\n",
       "      <td>23</td>\n",
       "      <td>49900088</td>\n",
       "      <td>5732.000000</td>\n",
       "    </tr>\n",
       "    <tr>\n",
       "      <th>24410</th>\n",
       "      <td>0.000000</td>\n",
       "      <td>0.000000</td>\n",
       "      <td>8.000000</td>\n",
       "      <td>1.0</td>\n",
       "      <td>1.0</td>\n",
       "      <td>3</td>\n",
       "      <td>51.00000</td>\n",
       "      <td>20.0</td>\n",
       "      <td>0</td>\n",
       "      <td>0</td>\n",
       "      <td>4</td>\n",
       "      <td>30672.0</td>\n",
       "      <td>31</td>\n",
       "      <td>34</td>\n",
       "      <td>49900088</td>\n",
       "      <td>0.000000</td>\n",
       "    </tr>\n",
       "    <tr>\n",
       "      <th>24411</th>\n",
       "      <td>89.000000</td>\n",
       "      <td>55.000000</td>\n",
       "      <td>8.000000</td>\n",
       "      <td>1.0</td>\n",
       "      <td>1.0</td>\n",
       "      <td>3</td>\n",
       "      <td>9.00000</td>\n",
       "      <td>30.0</td>\n",
       "      <td>5</td>\n",
       "      <td>4</td>\n",
       "      <td>2</td>\n",
       "      <td>30673.0</td>\n",
       "      <td>31</td>\n",
       "      <td>27</td>\n",
       "      <td>49900088</td>\n",
       "      <td>10946.000000</td>\n",
       "    </tr>\n",
       "    <tr>\n",
       "      <th>24412</th>\n",
       "      <td>117.000000</td>\n",
       "      <td>0.000000</td>\n",
       "      <td>7.000000</td>\n",
       "      <td>1.0</td>\n",
       "      <td>1.0</td>\n",
       "      <td>3</td>\n",
       "      <td>14.00000</td>\n",
       "      <td>31.0</td>\n",
       "      <td>5</td>\n",
       "      <td>4</td>\n",
       "      <td>2</td>\n",
       "      <td>30674.0</td>\n",
       "      <td>31</td>\n",
       "      <td>23</td>\n",
       "      <td>49900088</td>\n",
       "      <td>13689.000000</td>\n",
       "    </tr>\n",
       "    <tr>\n",
       "      <th>24413</th>\n",
       "      <td>117.000000</td>\n",
       "      <td>216.000000</td>\n",
       "      <td>2.000000</td>\n",
       "      <td>1.0</td>\n",
       "      <td>1.0</td>\n",
       "      <td>3</td>\n",
       "      <td>34.00000</td>\n",
       "      <td>44.0</td>\n",
       "      <td>4</td>\n",
       "      <td>5</td>\n",
       "      <td>1</td>\n",
       "      <td>30675.0</td>\n",
       "      <td>31</td>\n",
       "      <td>23</td>\n",
       "      <td>49900088</td>\n",
       "      <td>60345.000000</td>\n",
       "    </tr>\n",
       "    <tr>\n",
       "      <th>24414</th>\n",
       "      <td>-134.000000</td>\n",
       "      <td>207.969833</td>\n",
       "      <td>2.000000</td>\n",
       "      <td>1.0</td>\n",
       "      <td>1.0</td>\n",
       "      <td>3</td>\n",
       "      <td>0.00000</td>\n",
       "      <td>45.0</td>\n",
       "      <td>1</td>\n",
       "      <td>5</td>\n",
       "      <td>1</td>\n",
       "      <td>30676.0</td>\n",
       "      <td>31</td>\n",
       "      <td>23</td>\n",
       "      <td>49900088</td>\n",
       "      <td>61207.451594</td>\n",
       "    </tr>\n",
       "    <tr>\n",
       "      <th>24415</th>\n",
       "      <td>-141.000000</td>\n",
       "      <td>0.000000</td>\n",
       "      <td>0.000000</td>\n",
       "      <td>1.0</td>\n",
       "      <td>1.0</td>\n",
       "      <td>3</td>\n",
       "      <td>37.00000</td>\n",
       "      <td>34.0</td>\n",
       "      <td>2</td>\n",
       "      <td>4</td>\n",
       "      <td>2</td>\n",
       "      <td>30677.0</td>\n",
       "      <td>31</td>\n",
       "      <td>39</td>\n",
       "      <td>49900088</td>\n",
       "      <td>19881.000000</td>\n",
       "    </tr>\n",
       "    <tr>\n",
       "      <th>24416</th>\n",
       "      <td>-119.364014</td>\n",
       "      <td>143.000000</td>\n",
       "      <td>0.000000</td>\n",
       "      <td>1.0</td>\n",
       "      <td>1.0</td>\n",
       "      <td>3</td>\n",
       "      <td>1.00000</td>\n",
       "      <td>38.0</td>\n",
       "      <td>1</td>\n",
       "      <td>4</td>\n",
       "      <td>0</td>\n",
       "      <td>30678.0</td>\n",
       "      <td>31</td>\n",
       "      <td>23</td>\n",
       "      <td>49900088</td>\n",
       "      <td>34696.767760</td>\n",
       "    </tr>\n",
       "    <tr>\n",
       "      <th>24417</th>\n",
       "      <td>14.000000</td>\n",
       "      <td>16.000000</td>\n",
       "      <td>3.000000</td>\n",
       "      <td>2.0</td>\n",
       "      <td>1.0</td>\n",
       "      <td>3</td>\n",
       "      <td>34.00000</td>\n",
       "      <td>22.0</td>\n",
       "      <td>0</td>\n",
       "      <td>0</td>\n",
       "      <td>4</td>\n",
       "      <td>30679.0</td>\n",
       "      <td>31</td>\n",
       "      <td>34</td>\n",
       "      <td>49900088</td>\n",
       "      <td>452.000000</td>\n",
       "    </tr>\n",
       "    <tr>\n",
       "      <th>24418</th>\n",
       "      <td>1.000000</td>\n",
       "      <td>216.000000</td>\n",
       "      <td>10.000000</td>\n",
       "      <td>3.0</td>\n",
       "      <td>1.0</td>\n",
       "      <td>3</td>\n",
       "      <td>51.00000</td>\n",
       "      <td>41.0</td>\n",
       "      <td>0</td>\n",
       "      <td>4</td>\n",
       "      <td>0</td>\n",
       "      <td>30684.0</td>\n",
       "      <td>31</td>\n",
       "      <td>32</td>\n",
       "      <td>49900088</td>\n",
       "      <td>46657.000000</td>\n",
       "    </tr>\n",
       "    <tr>\n",
       "      <th>24419</th>\n",
       "      <td>-96.000000</td>\n",
       "      <td>89.000000</td>\n",
       "      <td>10.000000</td>\n",
       "      <td>3.0</td>\n",
       "      <td>1.0</td>\n",
       "      <td>3</td>\n",
       "      <td>16.00000</td>\n",
       "      <td>33.0</td>\n",
       "      <td>2</td>\n",
       "      <td>4</td>\n",
       "      <td>2</td>\n",
       "      <td>30685.0</td>\n",
       "      <td>31</td>\n",
       "      <td>31</td>\n",
       "      <td>49900088</td>\n",
       "      <td>17137.000000</td>\n",
       "    </tr>\n",
       "    <tr>\n",
       "      <th>24420</th>\n",
       "      <td>81.000000</td>\n",
       "      <td>250.000000</td>\n",
       "      <td>7.000000</td>\n",
       "      <td>3.0</td>\n",
       "      <td>1.0</td>\n",
       "      <td>3</td>\n",
       "      <td>31.00000</td>\n",
       "      <td>46.0</td>\n",
       "      <td>0</td>\n",
       "      <td>5</td>\n",
       "      <td>1</td>\n",
       "      <td>30686.0</td>\n",
       "      <td>31</td>\n",
       "      <td>23</td>\n",
       "      <td>49900088</td>\n",
       "      <td>69061.000000</td>\n",
       "    </tr>\n",
       "    <tr>\n",
       "      <th>24421</th>\n",
       "      <td>-126.000000</td>\n",
       "      <td>61.000000</td>\n",
       "      <td>1.000000</td>\n",
       "      <td>3.0</td>\n",
       "      <td>1.0</td>\n",
       "      <td>3</td>\n",
       "      <td>7.00000</td>\n",
       "      <td>33.0</td>\n",
       "      <td>2</td>\n",
       "      <td>4</td>\n",
       "      <td>2</td>\n",
       "      <td>30689.0</td>\n",
       "      <td>31</td>\n",
       "      <td>23</td>\n",
       "      <td>49900088</td>\n",
       "      <td>19597.000000</td>\n",
       "    </tr>\n",
       "    <tr>\n",
       "      <th>24422</th>\n",
       "      <td>-12.000000</td>\n",
       "      <td>679.000000</td>\n",
       "      <td>0.000000</td>\n",
       "      <td>3.0</td>\n",
       "      <td>1.0</td>\n",
       "      <td>3</td>\n",
       "      <td>0.00000</td>\n",
       "      <td>87.0</td>\n",
       "      <td>3</td>\n",
       "      <td>3</td>\n",
       "      <td>3</td>\n",
       "      <td>30690.0</td>\n",
       "      <td>31</td>\n",
       "      <td>23</td>\n",
       "      <td>49900088</td>\n",
       "      <td>461185.000000</td>\n",
       "    </tr>\n",
       "    <tr>\n",
       "      <th>24423</th>\n",
       "      <td>-113.000000</td>\n",
       "      <td>100.000000</td>\n",
       "      <td>11.000000</td>\n",
       "      <td>4.0</td>\n",
       "      <td>1.0</td>\n",
       "      <td>3</td>\n",
       "      <td>37.00000</td>\n",
       "      <td>35.0</td>\n",
       "      <td>2</td>\n",
       "      <td>4</td>\n",
       "      <td>2</td>\n",
       "      <td>30691.0</td>\n",
       "      <td>31</td>\n",
       "      <td>23</td>\n",
       "      <td>49900088</td>\n",
       "      <td>22769.000000</td>\n",
       "    </tr>\n",
       "    <tr>\n",
       "      <th>24424</th>\n",
       "      <td>0.000000</td>\n",
       "      <td>0.000000</td>\n",
       "      <td>7.000000</td>\n",
       "      <td>4.0</td>\n",
       "      <td>1.0</td>\n",
       "      <td>3</td>\n",
       "      <td>4.00000</td>\n",
       "      <td>20.0</td>\n",
       "      <td>0</td>\n",
       "      <td>0</td>\n",
       "      <td>4</td>\n",
       "      <td>30692.0</td>\n",
       "      <td>31</td>\n",
       "      <td>34</td>\n",
       "      <td>49900088</td>\n",
       "      <td>0.000000</td>\n",
       "    </tr>\n",
       "    <tr>\n",
       "      <th>24425</th>\n",
       "      <td>1.000000</td>\n",
       "      <td>48.000000</td>\n",
       "      <td>6.000000</td>\n",
       "      <td>4.0</td>\n",
       "      <td>1.0</td>\n",
       "      <td>3</td>\n",
       "      <td>5.00000</td>\n",
       "      <td>24.0</td>\n",
       "      <td>0</td>\n",
       "      <td>1</td>\n",
       "      <td>4</td>\n",
       "      <td>30693.0</td>\n",
       "      <td>31</td>\n",
       "      <td>1</td>\n",
       "      <td>49900088</td>\n",
       "      <td>2305.000000</td>\n",
       "    </tr>\n",
       "    <tr>\n",
       "      <th>24426</th>\n",
       "      <td>-134.000000</td>\n",
       "      <td>166.000000</td>\n",
       "      <td>3.000000</td>\n",
       "      <td>4.0</td>\n",
       "      <td>1.0</td>\n",
       "      <td>3</td>\n",
       "      <td>28.00000</td>\n",
       "      <td>41.0</td>\n",
       "      <td>1</td>\n",
       "      <td>4</td>\n",
       "      <td>0</td>\n",
       "      <td>30695.0</td>\n",
       "      <td>31</td>\n",
       "      <td>23</td>\n",
       "      <td>49900088</td>\n",
       "      <td>45512.000000</td>\n",
       "    </tr>\n",
       "    <tr>\n",
       "      <th>24427</th>\n",
       "      <td>31.000000</td>\n",
       "      <td>267.000000</td>\n",
       "      <td>2.000000</td>\n",
       "      <td>4.0</td>\n",
       "      <td>1.0</td>\n",
       "      <td>3</td>\n",
       "      <td>10.00000</td>\n",
       "      <td>46.0</td>\n",
       "      <td>0</td>\n",
       "      <td>5</td>\n",
       "      <td>1</td>\n",
       "      <td>30696.0</td>\n",
       "      <td>31</td>\n",
       "      <td>19</td>\n",
       "      <td>49900088</td>\n",
       "      <td>72250.000000</td>\n",
       "    </tr>\n",
       "    <tr>\n",
       "      <th>24428</th>\n",
       "      <td>1.000000</td>\n",
       "      <td>55.578384</td>\n",
       "      <td>0.000000</td>\n",
       "      <td>4.0</td>\n",
       "      <td>1.0</td>\n",
       "      <td>3</td>\n",
       "      <td>39.00000</td>\n",
       "      <td>27.0</td>\n",
       "      <td>0</td>\n",
       "      <td>1</td>\n",
       "      <td>4</td>\n",
       "      <td>30697.0</td>\n",
       "      <td>31</td>\n",
       "      <td>40</td>\n",
       "      <td>49900088</td>\n",
       "      <td>3089.956812</td>\n",
       "    </tr>\n",
       "  </tbody>\n",
       "</table>\n",
       "<p>24429 rows × 16 columns</p>\n",
       "</div>"
      ],
      "text/plain": [
       "       location_x  location_y  remaining_min  power_of_shot  knockout_match  \\\n",
       "0     -157.000000    0.000000      10.000000            1.0             0.0   \n",
       "1     -101.000000  135.000000       7.000000            1.0             0.0   \n",
       "2      138.000000  175.000000       6.000000            1.0             0.0   \n",
       "3        0.000000    0.000000       4.880192            2.0             0.0   \n",
       "4     -145.000000  -11.000000       9.000000            3.0             0.0   \n",
       "5        0.000000    0.000000       8.000000            3.0             0.0   \n",
       "6      -65.000000   83.928947       6.000000            3.0             0.0   \n",
       "7      -33.000000  118.185692       3.000000            3.0             0.0   \n",
       "8      -94.000000  238.000000       1.000000            3.0             0.0   \n",
       "9      121.000000  127.000000      11.000000            1.0             0.0   \n",
       "10     -67.000000   83.928947       7.000000            1.0             0.0   \n",
       "11     -94.000000    4.000000       2.000000            1.0             0.0   \n",
       "12     -23.000000   47.000000       1.000000            1.0             0.0   \n",
       "13       4.056870  192.000000       0.000000            1.0             0.0   \n",
       "14    -117.000000  226.000000       8.000000            2.0             0.0   \n",
       "15    -122.885139   97.000000      11.000000            3.0             0.0   \n",
       "16       3.000000  144.000000      10.000000            3.0             0.0   \n",
       "17     -16.000000  110.000000       7.000000            3.0             0.0   \n",
       "18    -109.000000  150.000000       5.000000            3.0             0.0   \n",
       "19     -46.000000   63.000000       5.000000            3.0             0.0   \n",
       "20       0.000000    0.000000       2.000000            3.0             0.0   \n",
       "21       4.056870  196.000000       2.000000            3.0             0.0   \n",
       "22    -183.000000  186.000000       0.000000            3.0             0.0   \n",
       "23      85.000000  173.000000       8.000000            4.0             0.0   \n",
       "24       3.000000   87.000000       6.000000            4.0             0.0   \n",
       "25     121.000000    4.000000       1.000000            4.0             0.0   \n",
       "26     127.000000   34.000000       0.000000            4.0             0.0   \n",
       "27      91.000000  184.000000       3.000000            2.0             0.0   \n",
       "28     -27.000000  272.000000       0.000000            2.0             0.0   \n",
       "29    -176.000000   66.000000      11.000000            3.0             0.0   \n",
       "...           ...         ...            ...            ...             ...   \n",
       "24399  158.000000  154.000000       8.000000            2.0             1.0   \n",
       "24400  -44.000000  229.000000       2.000000            2.0             1.0   \n",
       "24401  -14.000000   18.000000      10.000000            3.0             1.0   \n",
       "24402    0.000000    0.000000       9.000000            3.0             1.0   \n",
       "24403   -8.000000   43.476116       8.000000            3.0             1.0   \n",
       "24404  104.121040   25.000000       6.000000            3.0             1.0   \n",
       "24405  -14.000000   18.000000       5.000000            3.0             1.0   \n",
       "24406  -81.000000  171.000000       4.000000            3.0             1.0   \n",
       "24407   40.000000  250.000000       9.000000            4.0             1.0   \n",
       "24408  171.000000   53.000000       3.000000            4.0             1.0   \n",
       "24409  -74.000000   16.000000       9.000000            1.0             1.0   \n",
       "24410    0.000000    0.000000       8.000000            1.0             1.0   \n",
       "24411   89.000000   55.000000       8.000000            1.0             1.0   \n",
       "24412  117.000000    0.000000       7.000000            1.0             1.0   \n",
       "24413  117.000000  216.000000       2.000000            1.0             1.0   \n",
       "24414 -134.000000  207.969833       2.000000            1.0             1.0   \n",
       "24415 -141.000000    0.000000       0.000000            1.0             1.0   \n",
       "24416 -119.364014  143.000000       0.000000            1.0             1.0   \n",
       "24417   14.000000   16.000000       3.000000            2.0             1.0   \n",
       "24418    1.000000  216.000000      10.000000            3.0             1.0   \n",
       "24419  -96.000000   89.000000      10.000000            3.0             1.0   \n",
       "24420   81.000000  250.000000       7.000000            3.0             1.0   \n",
       "24421 -126.000000   61.000000       1.000000            3.0             1.0   \n",
       "24422  -12.000000  679.000000       0.000000            3.0             1.0   \n",
       "24423 -113.000000  100.000000      11.000000            4.0             1.0   \n",
       "24424    0.000000    0.000000       7.000000            4.0             1.0   \n",
       "24425    1.000000   48.000000       6.000000            4.0             1.0   \n",
       "24426 -134.000000  166.000000       3.000000            4.0             1.0   \n",
       "24427   31.000000  267.000000       2.000000            4.0             1.0   \n",
       "24428    1.000000   55.578384       0.000000            4.0             1.0   \n",
       "\n",
       "       game_season  remaining_sec  distance_of_shot  area_of_shot  \\\n",
       "0                4       22.00000              35.0             2   \n",
       "1                4       45.00000              36.0             1   \n",
       "2                4       52.00000              42.0             4   \n",
       "3                4       19.00000              20.0             0   \n",
       "4                4       32.00000              34.0             2   \n",
       "5                4       52.00000              20.0             0   \n",
       "6                4       12.00000              32.0             2   \n",
       "7                4       36.00000              32.0             0   \n",
       "8                4       56.00000              45.0             1   \n",
       "9                4        0.00000              37.0             4   \n",
       "10               4        9.00000              32.0             2   \n",
       "11               4       44.00000              29.0             2   \n",
       "12               4       16.00000              25.0             0   \n",
       "13               4       28.34739              40.0             0   \n",
       "14               4       50.00000              45.0             1   \n",
       "15               4       29.00000              36.0             1   \n",
       "16               4        8.00000              34.0             0   \n",
       "17               4       57.00000              31.0             0   \n",
       "18               4       47.00000              38.0             1   \n",
       "19               4       11.00000              27.0             0   \n",
       "20               4       36.00000              20.0             0   \n",
       "21               4        4.00000              40.0             0   \n",
       "22               4       30.00000              46.0             1   \n",
       "23               4       19.00000              39.0             4   \n",
       "24               4       22.00000              28.0             0   \n",
       "25               4       20.00000              32.0             5   \n",
       "26               4       30.00000              33.0             5   \n",
       "27               4       30.00000              40.0             4   \n",
       "28               4        4.00000              47.0             0   \n",
       "29               4       12.00000              38.0             2   \n",
       "...            ...            ...               ...           ...   \n",
       "24399            3       35.00000              42.0             4   \n",
       "24400            3       59.00000              43.0             0   \n",
       "24401            3       44.00000              22.0             0   \n",
       "24402            3       58.00000              20.0             0   \n",
       "24403            3       32.00000              25.0             0   \n",
       "24404            3       36.00000              30.0             5   \n",
       "24405            3       58.00000              22.0             0   \n",
       "24406            3        4.00000              38.0             1   \n",
       "24407            3       33.00000              45.0             0   \n",
       "24408            3       48.00000              37.0             5   \n",
       "24409            3       34.00000              27.0             0   \n",
       "24410            3       51.00000              20.0             0   \n",
       "24411            3        9.00000              30.0             5   \n",
       "24412            3       14.00000              31.0             5   \n",
       "24413            3       34.00000              44.0             4   \n",
       "24414            3        0.00000              45.0             1   \n",
       "24415            3       37.00000              34.0             2   \n",
       "24416            3        1.00000              38.0             1   \n",
       "24417            3       34.00000              22.0             0   \n",
       "24418            3       51.00000              41.0             0   \n",
       "24419            3       16.00000              33.0             2   \n",
       "24420            3       31.00000              46.0             0   \n",
       "24421            3        7.00000              33.0             2   \n",
       "24422            3        0.00000              87.0             3   \n",
       "24423            3       37.00000              35.0             2   \n",
       "24424            3        4.00000              20.0             0   \n",
       "24425            3        5.00000              24.0             0   \n",
       "24426            3       28.00000              41.0             1   \n",
       "24427            3       10.00000              46.0             0   \n",
       "24428            3       39.00000              27.0             0   \n",
       "\n",
       "       shot_basics  range_of_shot  shot_id_number  lat/lng  type_of_shot  \\\n",
       "0                4              2             2.0       34            40   \n",
       "1                4              0             3.0       34            18   \n",
       "2                4              0             4.0       34            23   \n",
       "3                0              4             5.0       34             1   \n",
       "4                4              2             6.0       34             9   \n",
       "5                0              4             7.0       34            34   \n",
       "6                1              2             9.0       34            30   \n",
       "7                1              2            10.0       34            39   \n",
       "8                5              1            11.0       34            54   \n",
       "9                4              0            12.0       31            23   \n",
       "10               1              2            13.0       31            39   \n",
       "11               4              2            14.0       31            23   \n",
       "12               1              4            15.0       31             4   \n",
       "13               4              0            16.0       31            23   \n",
       "14               5              1            18.0       31            53   \n",
       "15               4              0            19.0       31            23   \n",
       "16               4              2            21.0       31            13   \n",
       "17               1              2            23.0       31            39   \n",
       "18               4              0            24.0       31            23   \n",
       "19               1              4            25.0       31            23   \n",
       "20               0              4            26.0       31            34   \n",
       "21               4              0            27.0       31            24   \n",
       "22               5              1            28.0       31            50   \n",
       "23               4              0            29.0       31            23   \n",
       "24               1              2            30.0       31            37   \n",
       "25               4              2            31.0       31            39   \n",
       "26               4              2            32.0       31            23   \n",
       "27               4              0            39.0       37            23   \n",
       "28               5              1            40.0       37            23   \n",
       "29               4              0            41.0       37            23   \n",
       "...            ...            ...             ...      ...           ...   \n",
       "24399            4              0         30658.0       22            23   \n",
       "24400            4              0         30659.0       22            15   \n",
       "24401            0              4         30661.0       22            34   \n",
       "24402            0              4         30662.0       22             1   \n",
       "24403            1              4         30663.0       22            23   \n",
       "24404            4              2         30664.0       22            51   \n",
       "24405            0              4         30666.0       22            34   \n",
       "24406            4              0         30667.0       22            23   \n",
       "24407            5              1         30668.0       22            23   \n",
       "24408            4              0         30670.0       22            23   \n",
       "24409            1              4         30671.0       31            23   \n",
       "24410            0              4         30672.0       31            34   \n",
       "24411            4              2         30673.0       31            27   \n",
       "24412            4              2         30674.0       31            23   \n",
       "24413            5              1         30675.0       31            23   \n",
       "24414            5              1         30676.0       31            23   \n",
       "24415            4              2         30677.0       31            39   \n",
       "24416            4              0         30678.0       31            23   \n",
       "24417            0              4         30679.0       31            34   \n",
       "24418            4              0         30684.0       31            32   \n",
       "24419            4              2         30685.0       31            31   \n",
       "24420            5              1         30686.0       31            23   \n",
       "24421            4              2         30689.0       31            23   \n",
       "24422            3              3         30690.0       31            23   \n",
       "24423            4              2         30691.0       31            23   \n",
       "24424            0              4         30692.0       31            34   \n",
       "24425            1              4         30693.0       31             1   \n",
       "24426            4              0         30695.0       31            23   \n",
       "24427            5              1         30696.0       31            19   \n",
       "24428            1              4         30697.0       31            40   \n",
       "\n",
       "       match_id       dist_x_y  \n",
       "0      20000012   24649.000000  \n",
       "1      20000012   28426.000000  \n",
       "2      20000012   49669.000000  \n",
       "3      20000012       0.000000  \n",
       "4      20000012   21146.000000  \n",
       "5      20000012       0.000000  \n",
       "6      20000012   11269.068220  \n",
       "7      20000012   15056.857754  \n",
       "8      20000012   65480.000000  \n",
       "9      20000019   30770.000000  \n",
       "10     20000019   11533.068220  \n",
       "11     20000019    8852.000000  \n",
       "12     20000019    2738.000000  \n",
       "13     20000019   36880.458194  \n",
       "14     20000019   64765.000000  \n",
       "15     20000019   24509.757501  \n",
       "16     20000019   20745.000000  \n",
       "17     20000019   12356.000000  \n",
       "18     20000019   34381.000000  \n",
       "19     20000019    6085.000000  \n",
       "20     20000019       0.000000  \n",
       "21     20000019   38432.458194  \n",
       "22     20000019   68085.000000  \n",
       "23     20000019   37154.000000  \n",
       "24     20000019    7578.000000  \n",
       "25     20000019   14657.000000  \n",
       "26     20000019   17285.000000  \n",
       "27     20000047   42137.000000  \n",
       "28     20000047   74713.000000  \n",
       "29     20000047   35332.000000  \n",
       "...         ...            ...  \n",
       "24399  49900087   48680.000000  \n",
       "24400  49900087   54377.000000  \n",
       "24401  49900087     520.000000  \n",
       "24402  49900087       0.000000  \n",
       "24403  49900087    1954.172678  \n",
       "24404  49900087   11466.191042  \n",
       "24405  49900087     520.000000  \n",
       "24406  49900087   35802.000000  \n",
       "24407  49900087   64100.000000  \n",
       "24408  49900087   32050.000000  \n",
       "24409  49900088    5732.000000  \n",
       "24410  49900088       0.000000  \n",
       "24411  49900088   10946.000000  \n",
       "24412  49900088   13689.000000  \n",
       "24413  49900088   60345.000000  \n",
       "24414  49900088   61207.451594  \n",
       "24415  49900088   19881.000000  \n",
       "24416  49900088   34696.767760  \n",
       "24417  49900088     452.000000  \n",
       "24418  49900088   46657.000000  \n",
       "24419  49900088   17137.000000  \n",
       "24420  49900088   69061.000000  \n",
       "24421  49900088   19597.000000  \n",
       "24422  49900088  461185.000000  \n",
       "24423  49900088   22769.000000  \n",
       "24424  49900088       0.000000  \n",
       "24425  49900088    2305.000000  \n",
       "24426  49900088   45512.000000  \n",
       "24427  49900088   72250.000000  \n",
       "24428  49900088    3089.956812  \n",
       "\n",
       "[24429 rows x 16 columns]"
      ]
     },
     "execution_count": 320,
     "metadata": {},
     "output_type": "execute_result"
    }
   ],
   "source": [
    "X_train"
   ]
  },
  {
   "cell_type": "code",
   "execution_count": null,
   "metadata": {},
   "outputs": [],
   "source": []
  }
 ],
 "metadata": {
  "kernelspec": {
   "display_name": "Python 3",
   "language": "python",
   "name": "python3"
  },
  "language_info": {
   "codemirror_mode": {
    "name": "ipython",
    "version": 3
   },
   "file_extension": ".py",
   "mimetype": "text/x-python",
   "name": "python",
   "nbconvert_exporter": "python",
   "pygments_lexer": "ipython3",
   "version": "3.8.5"
  }
 },
 "nbformat": 4,
 "nbformat_minor": 2
}
